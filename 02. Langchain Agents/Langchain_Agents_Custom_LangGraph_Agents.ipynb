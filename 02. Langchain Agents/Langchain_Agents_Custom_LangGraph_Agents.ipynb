{
 "cells": [
  {
   "cell_type": "code",
   "id": "ba73d155-0bbb-4d7c-9c71-09a8af3fd63e",
   "metadata": {
    "ExecuteTime": {
     "end_time": "2024-07-21T04:42:47.005926Z",
     "start_time": "2024-07-21T04:42:46.987165Z"
    }
   },
   "source": [
    "import json\n",
    "import os\n",
    "\n",
    "with open('vars.json') as f:\n",
    "  data = json.load(f)\n",
    "\n",
    "openai_api_key = data[\"open_ai_api_key\"]\n",
    "langchain_api_key = data[\"langchain_api_key\"]\n",
    "# tavily_api_key = data[\"tavily_api_key\"]\n",
    "groq_api_key = data[\"groq_api_key\"]\n",
    "\n",
    "# os.environ['LANGCHAIN_TRACING_V2'] = 'true'\n",
    "# os.environ['LANGCHAIN_ENDPOINT'] = 'https://api.smith.langchain.com'\n",
    "# os.environ['LANGCHAIN_API_KEY'] = langchain_api_key"
   ],
   "outputs": [],
   "execution_count": 1
  },
  {
   "cell_type": "code",
   "id": "5ef4842c-cb2b-4dc5-9176-1704844a6f64",
   "metadata": {
    "scrolled": true,
    "ExecuteTime": {
     "end_time": "2024-07-21T04:42:48.331482Z",
     "start_time": "2024-07-21T04:42:47.378931Z"
    }
   },
   "source": [
    "# Setting up DB connection \n",
    "from langchain_community.utilities import SQLDatabase\n",
    "\n",
    "# Docker command to run pgvector/postgres container\n",
    "# docker run --name pgvector-container -e POSTGRES_USER=langchain -e POSTGRES_PASSWORD=langchain -e POSTGRES_DB=langchain -p 6024:5432 -d pgvector/pgvector:pg16\n",
    "db_config = {\n",
    "    'dbname': 'postgres',\n",
    "    'user': 'langchain',\n",
    "    'password': 'langchain',\n",
    "    'host': 'localhost',\n",
    "    'port': '6024'\n",
    "}\n",
    "\n",
    "connection_string = f\"postgresql+psycopg://{db_config['user']}:{db_config['password']}@{db_config['host']}:{db_config['port']}/{db_config['dbname']}\"\n",
    "\n",
    "db = SQLDatabase.from_uri(connection_string)\n",
    "print(db.table_info)"
   ],
   "outputs": [
    {
     "name": "stdout",
     "output_type": "stream",
     "text": [
      "\n",
      "CREATE TABLE customer (\n",
      "\tcustomer_id SERIAL NOT NULL, \n",
      "\tname VARCHAR(100) NOT NULL, \n",
      "\tCONSTRAINT customer_pkey PRIMARY KEY (customer_id)\n",
      ")\n",
      "\n",
      "/*\n",
      "3 rows from customer table:\n",
      "customer_id\tname\n",
      "1\tJohn Doe\n",
      "2\tJane Smith\n",
      "3\tAlice Johnson\n",
      "*/\n",
      "\n",
      "\n",
      "CREATE TABLE feedback (\n",
      "\tfeedback_id SERIAL NOT NULL, \n",
      "\torder_id INTEGER NOT NULL, \n",
      "\tfeedback_text TEXT, \n",
      "\tCONSTRAINT feedback_pkey PRIMARY KEY (feedback_id), \n",
      "\tCONSTRAINT feedback_order_id_fkey FOREIGN KEY(order_id) REFERENCES orders (order_id)\n",
      ")\n",
      "\n",
      "/*\n",
      "3 rows from feedback table:\n",
      "feedback_id\torder_id\tfeedback_text\n",
      "4\t4\tPizza was average.\n",
      "5\t5\tPizza was average.\n",
      "6\t6\tPizza was average.\n",
      "*/\n",
      "\n",
      "\n",
      "CREATE TABLE orders (\n",
      "\torder_id SERIAL NOT NULL, \n",
      "\tcustomer_id INTEGER NOT NULL, \n",
      "\tpreparation_time INTEGER NOT NULL, \n",
      "\torder_date TIMESTAMP WITHOUT TIME ZONE DEFAULT CURRENT_TIMESTAMP, \n",
      "\tCONSTRAINT orders_pkey PRIMARY KEY (order_id), \n",
      "\tCONSTRAINT orders_customer_id_fkey FOREIGN KEY(customer_id) REFERENCES customer (customer_id)\n",
      ")\n",
      "\n",
      "/*\n",
      "3 rows from orders table:\n",
      "order_id\tcustomer_id\tpreparation_time\torder_date\n",
      "1\t7\t11\t2024-06-15 07:22:59.427381\n",
      "2\t13\t13\t2024-06-15 07:22:59.427381\n",
      "3\t8\t20\t2024-06-15 07:22:59.427381\n",
      "*/\n",
      "\n",
      "\n",
      "CREATE TABLE ordertoppings (\n",
      "\torder_id INTEGER NOT NULL, \n",
      "\ttopping_id INTEGER NOT NULL, \n",
      "\tCONSTRAINT ordertoppings_pkey PRIMARY KEY (order_id, topping_id), \n",
      "\tCONSTRAINT ordertoppings_order_id_fkey FOREIGN KEY(order_id) REFERENCES orders (order_id), \n",
      "\tCONSTRAINT ordertoppings_topping_id_fkey FOREIGN KEY(topping_id) REFERENCES toppings (topping_id)\n",
      ")\n",
      "\n",
      "/*\n",
      "3 rows from ordertoppings table:\n",
      "order_id\ttopping_id\n",
      "1\t4\n",
      "1\t2\n",
      "1\t3\n",
      "*/\n",
      "\n",
      "\n",
      "CREATE TABLE toppings (\n",
      "\ttopping_id SERIAL NOT NULL, \n",
      "\tname VARCHAR(50) NOT NULL, \n",
      "\tbase_preparation_time INTEGER NOT NULL, \n",
      "\tCONSTRAINT toppings_pkey PRIMARY KEY (topping_id)\n",
      ")\n",
      "\n",
      "/*\n",
      "3 rows from toppings table:\n",
      "topping_id\tname\tbase_preparation_time\n",
      "1\tPepperoni\t5\n",
      "2\tMushrooms\t3\n",
      "3\tOnions\t2\n",
      "*/\n"
     ]
    }
   ],
   "execution_count": 2
  },
  {
   "cell_type": "code",
   "id": "edf81b0e-1bf8-4359-a283-ce2c0a998ebc",
   "metadata": {
    "ExecuteTime": {
     "end_time": "2024-07-21T04:42:51.560952Z",
     "start_time": "2024-07-21T04:42:48.334625Z"
    }
   },
   "source": [
    "# Define the LLM\n",
    "from langchain_agents._models import get_llm\n",
    "\n",
    "llm_llama3 = get_llm(llm_type='llama3', llm_model='llama3-70b-8192', api_key=groq_api_key)\n",
    "llm_gpt = get_llm(llm_type='gpt', llm_model='gpt-3.5-turbo', api_key=openai_api_key)"
   ],
   "outputs": [],
   "execution_count": 3
  },
  {
   "cell_type": "code",
   "id": "de946d2a-67d6-441e-a997-80120a571686",
   "metadata": {
    "ExecuteTime": {
     "end_time": "2024-07-21T04:42:51.606722Z",
     "start_time": "2024-07-21T04:42:51.563954Z"
    }
   },
   "source": [
    "# Step 1 :- Retrieve from SQL \n",
    "from langchain_core.prompts import ChatPromptTemplate\n",
    "\n",
    "from langchain_agents._tools import create_df_from_sql, python_shell\n",
    "from langchain_agents._schemas import AgentState, RawToolMessage\n",
    "\n",
    "retrive_from_db_prompt_string = f\"\"\"\\\n",
    "You are an expert at PostgreSQL and Python. You have access to a PostgreSQL database \\\n",
    "with the following tables\n",
    "\n",
    "{db.table_info}\n",
    "\n",
    "Given a user question related to the data in the database, \\\n",
    "first get the relevant data from the tables as a DataFrame using the create_df_from_sql tool\"\"\"\n",
    "\n",
    "retrieve_from_db_prompt = ChatPromptTemplate.from_messages(\n",
    "    [\n",
    "        (\"system\", retrive_from_db_prompt_string),\n",
    "        (\"placeholder\", \"{messages}\"),\n",
    "    ]\n",
    ")\n",
    "\n",
    "def retrieve_from_db_model_llama3(state: AgentState) -> dict:\n",
    "    \"\"\"Call model with tools passed in.\"\"\"\n",
    "    messages = []\n",
    "\n",
    "    print(\"-------------------------------------------------------\")\n",
    "    chain = retrieve_from_db_prompt | llm_llama3.bind_tools([create_df_from_sql])\n",
    "    retrieve_response = chain.invoke({\"messages\": state[\"messages\"]})\n",
    "    input_question = state[\"messages\"][-1][1]\n",
    "    message = {\n",
    "        \"retrieve_response\": retrieve_response,\n",
    "        \"input_question\": input_question\n",
    "    }\n",
    "    print(f\"message :- {message}\")\n",
    "    messages.append(message)\n",
    "\n",
    "    return {\"messages\": messages}"
   ],
   "outputs": [],
   "execution_count": 4
  },
  {
   "cell_type": "code",
   "id": "ec1b3354-9c7a-4439-bff6-4293d247bac7",
   "metadata": {
    "ExecuteTime": {
     "end_time": "2024-07-21T04:42:51.622830Z",
     "start_time": "2024-07-21T04:42:51.609725Z"
    }
   },
   "source": [
    "# Step 2 :- Deciding future step according to the question \n",
    "from langchain_core.pydantic_v1 import BaseModel, Field\n",
    "from langchain_agents._structured_outputs import IsSemantic\n",
    "\n",
    "is_semantic_prompt_string = f\"\"\"\n",
    "You are a Data Analyst. You will be given a QUESTION.\n",
    "You have to decide whether the question is releated to customer feedbacks.\n",
    "\"\"\"\n",
    "\n",
    "is_semantic_prompt = ChatPromptTemplate.from_messages(\n",
    "    [\n",
    "        (\"system\", is_semantic_prompt_string),\n",
    "        (\"human\", \"QUESTION: {question}\"),\n",
    "    ]\n",
    ")\n",
    "\n",
    "def decide_is_semantic_llama3(state: AgentState) -> dict:\n",
    "    \"\"\"Call model to decide weather the question is related to customer feedbacks\"\"\"\n",
    "    messages = []\n",
    "    print(\"-------------------------------------------------------\")\n",
    "\n",
    "    chain = is_semantic_prompt | llm_llama3.with_structured_output(IsSemantic)\n",
    "    question = state[\"messages\"][-1]['input_question']\n",
    "    print(f\"question :- {question}\")\n",
    "    messages.append(chain.invoke({\"question\": question}))\n",
    "    print(f\"is_semantic_model_llama3 :- {messages}\")\n",
    "    print(\"-------------------------------------------------------\")\n",
    "\n",
    "    return {\"messages\": messages}"
   ],
   "outputs": [],
   "execution_count": 5
  },
  {
   "cell_type": "code",
   "id": "1e9e1e4e-aad3-4030-aeb5-b9682d4398c5",
   "metadata": {
    "ExecuteTime": {
     "end_time": "2024-07-21T04:42:51.638709Z",
     "start_time": "2024-07-21T04:42:51.625768Z"
    }
   },
   "source": [
    "def is_semantic(state: AgentState) -> str:\n",
    "    return \"analyze_feedbacks\" if state[\"messages\"][-1].binary_score == 1 else \"generate_python_script\""
   ],
   "outputs": [],
   "execution_count": 6
  },
  {
   "cell_type": "code",
   "id": "7134494e-3d24-4e83-9642-967c00f4f88d",
   "metadata": {
    "ExecuteTime": {
     "end_time": "2024-07-21T04:42:51.654045Z",
     "start_time": "2024-07-21T04:42:51.642635Z"
    }
   },
   "source": [
    "# Branch 1. Step 1 :- Generating python code to answer the question\n",
    "from langchain_agents._structured_outputs import PythonScript\n",
    "\n",
    "generate_python_script_prompt_string = f\"\"\"\n",
    "You are a Python expert. \n",
    "You will be given a QUESTION, pandas dataframe name as DATAFRAME_NAME, column names of the dataframe as COLUMN_NAMES \n",
    "and the sql select QUERY used to get the dataframe. \n",
    "Using QUESTION, pandas DATAFRAME_NAME, COLUMN_NAMES of the dataframe and sql QUERY used to get the dataframe as reference \n",
    "Give a Python code to answer the QUESTION. Make sure to print any important results.\n",
    "\"\"\"\n",
    "\n",
    "generate_python_script_prompt = ChatPromptTemplate.from_messages(\n",
    "    [\n",
    "        (\"system\", generate_python_script_prompt_string),\n",
    "        (\"human\", \"QUESTION: {question}, DATAFRAME_NAME: {dataframe_name}, COLUMN_NAMES: {column_names}, QUERY: {query}\"),\n",
    "    ]\n",
    ")\n",
    "\n",
    "def generate_python_script_llama3(state: AgentState) -> dict:\n",
    "    messages = []\n",
    "\n",
    "    chain = generate_python_script_prompt | llm_llama3.with_structured_output(PythonScript)\n",
    "    \n",
    "    question = state[\"messages\"][-2]['input_question']\n",
    "    dataframe_name = state[\"messages\"][-2]['retrieve_response'].tool_calls[0]['args']['df_name']\n",
    "    column_names = state[\"messages\"][-2]['retrieve_response'].tool_calls[0]['args']['df_columns']\n",
    "    query = state[\"messages\"][-2]['retrieve_response'].tool_calls[0]['args']['select_query']\n",
    "\n",
    "    messages.append(chain.invoke({\n",
    "        \"question\": question,\n",
    "        \"dataframe_name\": dataframe_name,\n",
    "        \"column_names\": column_names,\n",
    "        \"query\": query\n",
    "    }))\n",
    "    print(\"-------------------------------------------------------\")\n",
    "\n",
    "    return {\"messages\": messages}"
   ],
   "outputs": [],
   "execution_count": 7
  },
  {
   "cell_type": "code",
   "id": "1f36ba62-cc56-4b02-adfc-9d373d1e301c",
   "metadata": {
    "ExecuteTime": {
     "end_time": "2024-07-21T04:42:52.523245Z",
     "start_time": "2024-07-21T04:42:51.655981Z"
    }
   },
   "source": [
    "# Branch 1. Step 2 :- Execute python code \n",
    "from langchain_agents._utils import execute_script, convert_python_result_to_msg_content\n",
    "import pandas as pd\n",
    "\n",
    "def upload_dfs_to_python_env(state: AgentState) -> str:\n",
    "    df_name = state[\"messages\"][-3]['retrieve_response'].tool_calls[0]['args']['df_name']\n",
    "    df_columns = state[\"messages\"][-3]['retrieve_response'].tool_calls[0]['args']['df_columns']\n",
    "    select_query = state[\"messages\"][-3]['retrieve_response'].tool_calls[0]['args']['select_query']\n",
    "    \n",
    "    res = db.run(select_query, fetch=\"cursor\").fetchall()\n",
    "    df = pd.DataFrame(res, columns=df_columns)\n",
    "    \n",
    "    df_dir = ''\n",
    "    df_path = f\"{df_dir + df_name}\" + '.csv'\n",
    "    \n",
    "    df.to_csv(df_path, index=False)\n",
    "    \n",
    "    # Code for loading the uploaded files.\n",
    "    df_code = \"import pandas as pd\\n\" + \"\\n\" + f\"{df_name} = pd.read_csv('{df_path}')\"\n",
    "    return df_code\n",
    "    \n",
    "\n",
    "def execute_python_script(state: AgentState) -> dict:\n",
    "    \"\"\"\n",
    "    Execute the latest generated Python code.\n",
    "    \"\"\"\n",
    "    messages = []\n",
    "\n",
    "    generated_code = state[\"messages\"][-1].code\n",
    "    \n",
    "    if generated_code in [None, '']:\n",
    "        return {\"messages\": messages}\n",
    "\n",
    "    df_code = upload_dfs_to_python_env(state)\n",
    "\n",
    "    print(f\"Hard coded read df code :- \\n{df_code}\")\n",
    "    print(f\"AI generated_code :- \\n{generated_code}\")\n",
    "    print(\"-------------------------------------------\")\n",
    "\n",
    "    python_result = execute_script(df_code + \"\\n\" + generated_code)\n",
    "\n",
    "    messages.append(\n",
    "        RawToolMessage(\n",
    "            convert_python_result_to_msg_content(python_result),\n",
    "            raw=python_result,\n",
    "            tool_call_id=state[\"messages\"][-3]['retrieve_response'].tool_calls[0]['id'],\n",
    "            tool_name=state[\"messages\"][-3]['retrieve_response'].tool_calls[0]['name'],\n",
    "        )\n",
    "    )\n",
    "    return {\"messages\": messages}"
   ],
   "outputs": [],
   "execution_count": 8
  },
  {
   "cell_type": "code",
   "id": "d9e84862-532d-49ef-91a1-1a9c2a3df498",
   "metadata": {
    "ExecuteTime": {
     "end_time": "2024-07-21T04:42:53.068544Z",
     "start_time": "2024-07-21T04:42:52.525734Z"
    }
   },
   "source": [
    "# Branch 2. Step 1 :- Analyze feedbacks \n",
    "from langchain_agents._structured_outputs import FeedbackAnalysis\n",
    "\n",
    "prompt = ChatPromptTemplate.from_template(\"Can you please give me a sentiment score for this customer feedback on a scale of 1 to 10, where 1 represents extremely negative sentiment and 10 represents extremely positive sentiment? {feedback}\")\n",
    "\n",
    "chain = prompt | llm_llama3.with_structured_output(schema=FeedbackAnalysis)\n",
    "\n",
    "def analyze_feedbacks(state: AgentState) -> dict:\n",
    "    results_list = []\n",
    "    \n",
    "    # TODO :- get feedbacks extract query from previous steps \n",
    "    select_query = \"SELECT DISTINCT feedback_text FROM feedback\"\n",
    "    results = db.run(select_query, fetch=\"cursor\").fetchall()\n",
    "    for row in results:\n",
    "        results_list.append({\"feedback\": row[0]})\n",
    "\n",
    "    feedbacks_list = chain.batch(results_list)\n",
    "    feedbacks_list = [x.__dict__ for x in feedbacks_list]\n",
    "    for feedback in feedbacks_list:\n",
    "        print(feedback)\n",
    "\n",
    "    print(\"-------------------------------------------------------\")\n",
    "\n",
    "    return {\"messages\": []}"
   ],
   "outputs": [],
   "execution_count": 9
  },
  {
   "cell_type": "code",
   "id": "56028774-597d-4ae2-a356-e888c14b45ec",
   "metadata": {
    "ExecuteTime": {
     "end_time": "2024-07-21T04:42:54.828148Z",
     "start_time": "2024-07-21T04:42:53.072546Z"
    }
   },
   "source": [
    "from langgraph.graph import END, StateGraph\n",
    "from IPython.display import Image, display\n",
    "\n",
    "workflow_llama3 = StateGraph(AgentState)\n",
    "\n",
    "workflow_llama3.add_node(\"retrieve_from_db_model_llama3\", retrieve_from_db_model_llama3)\n",
    "workflow_llama3.add_node(\"decide_is_semantic_llama3\", decide_is_semantic_llama3)\n",
    "workflow_llama3.add_node(\"generate_python_script_llama3\", generate_python_script_llama3)\n",
    "workflow_llama3.add_node(\"execute_python_script\", execute_python_script)\n",
    "workflow_llama3.add_node(\"analyze_feedbacks\", analyze_feedbacks)\n",
    "\n",
    "workflow_llama3.set_entry_point(\"retrieve_from_db_model_llama3\")\n",
    "workflow_llama3.add_edge(\"retrieve_from_db_model_llama3\", \"decide_is_semantic_llama3\")\n",
    "workflow_llama3.add_conditional_edges(\n",
    "    \"decide_is_semantic_llama3\",\n",
    "    is_semantic,\n",
    "    {\n",
    "        \"analyze_feedbacks\": \"analyze_feedbacks\",\n",
    "        \"generate_python_script\": \"generate_python_script_llama3\",\n",
    "    },\n",
    ")\n",
    "workflow_llama3.add_edge(\"generate_python_script_llama3\", \"execute_python_script\")\n",
    "workflow_llama3.add_edge(\"execute_python_script\", END)\n",
    "workflow_llama3.add_edge(\"analyze_feedbacks\", END)\n",
    "\n",
    "app_llama3 = workflow_llama3.compile()\n",
    "print(\"llama3 Agent :- \")\n",
    "display(Image(app_llama3.get_graph().draw_mermaid_png()))"
   ],
   "outputs": [
    {
     "name": "stdout",
     "output_type": "stream",
     "text": [
      "llama3 Agent :- \n"
     ]
    },
    {
     "data": {
      "image/jpeg": "[encoded data removed]",
      "text/plain": [
       "<IPython.core.display.Image object>"
      ]
     },
     "metadata": {},
     "output_type": "display_data"
    }
   ],
   "execution_count": 10
  },
  {
   "cell_type": "code",
   "id": "cf3d4353-c273-433e-87a7-35679f4f8a4b",
   "metadata": {
    "ExecuteTime": {
     "end_time": "2024-07-21T04:42:58.370244Z",
     "start_time": "2024-07-21T04:42:54.832656Z"
    }
   },
   "source": [
    "print(\"-------------------------------------------------------\")\n",
    "output_llama3 = app_llama3.invoke({\"messages\": [(\"human\", \"Graph the total number of orders of each customer. X axis of the graph has to be in ascending order.\")]})\n",
    "print(output_llama3[\"messages\"][-1].content)"
   ],
   "outputs": [
    {
     "name": "stdout",
     "output_type": "stream",
     "text": [
      "-------------------------------------------------------\n",
      "-------------------------------------------------------\n",
      "message :- {'retrieve_response': AIMessage(content='', additional_kwargs={'tool_calls': [{'id': 'call_768v', 'function': {'arguments': '{\"df_columns\":[\"customer_id\",\"count\"],\"df_name\":\"orders_per_customer\",\"input_question\":\"Get the total number of orders of each customer\",\"select_query\":\"SELECT customer_id, COUNT(*) AS count FROM orders GROUP BY customer_id ORDER BY customer_id ASC\"}', 'name': 'create_df_from_sql'}, 'type': 'function'}]}, response_metadata={'token_usage': {'completion_tokens': 125, 'prompt_tokens': 1596, 'total_tokens': 1721, 'completion_time': 0.385327991, 'prompt_time': 0.391581836, 'queue_time': None, 'total_time': 0.776909827}, 'model_name': 'llama3-70b-8192', 'system_fingerprint': 'fp_87cbfbbc4d', 'finish_reason': 'tool_calls', 'logprobs': None}, id='run-b175d089-4d71-4a7a-8ab9-5826e6a2b4f0-0', tool_calls=[{'name': 'create_df_from_sql', 'args': {'df_columns': ['customer_id', 'count'], 'df_name': 'orders_per_customer', 'input_question': 'Get the total number of orders of each customer', 'select_query': 'SELECT customer_id, COUNT(*) AS count FROM orders GROUP BY customer_id ORDER BY customer_id ASC'}, 'id': 'call_768v'}]), 'input_question': 'Graph the total number of orders of each customer. X axis of the graph has to be in ascending order.'}\n",
      "-------------------------------------------------------\n",
      "question :- Graph the total number of orders of each customer. X axis of the graph has to be in ascending order.\n",
      "is_semantic_model_llama3 :- [IsSemantic(binary_score=0)]\n",
      "-------------------------------------------------------\n",
      "-------------------------------------------------------\n",
      "Hard coded read df code :- \n",
      "import pandas as pd\n",
      "\n",
      "orders_per_customer = pd.read_csv('orders_per_customer.csv')\n",
      "AI generated_code :- \n",
      "import matplotlib.pyplot as plt\n",
      "orders_per_customer.plot(x='customer_id', y='count', kind='bar')\n",
      "plt.xlabel('Customer ID')\n",
      "plt.ylabel('Total Number of Orders')\n",
      "plt.title('Total Number of Orders per Customer')\n",
      "plt.show()\n",
      "-------------------------------------------\n"
     ]
    },
    {
     "data": {
      "text/plain": [
       "<Figure size 640x480 with 1 Axes>"
      ],
      "image/png": "[encoded data removed]"
     },
     "metadata": {},
     "output_type": "display_data"
    },
    {
     "name": "stdout",
     "output_type": "stream",
     "text": [
      "{\n",
      "  \"status\": \"success\",\n",
      "  \"stdout\": \"\",\n",
      "  \"stderr\": \"\"\n",
      "}\n"
     ]
    }
   ],
   "execution_count": 11
  },
  {
   "cell_type": "code",
   "id": "9df0c83e-38aa-4838-b8a1-bcf5c9cb5905",
   "metadata": {
    "ExecuteTime": {
     "end_time": "2024-07-21T04:43:04.447392Z",
     "start_time": "2024-07-21T04:43:01.677765Z"
    }
   },
   "source": [
    "print(\"-------------------------------------------------------\")\n",
    "output_llama3 = app_llama3.invoke({\"messages\": [(\"human\", \"Give me a sentiment score for each feedback.\")]})\n",
    "print(output_llama3[\"messages\"][-1])"
   ],
   "outputs": [
    {
     "name": "stdout",
     "output_type": "stream",
     "text": [
      "-------------------------------------------------------\n",
      "-------------------------------------------------------\n",
      "message :- {'retrieve_response': AIMessage(content='', additional_kwargs={'tool_calls': [{'id': 'call_7y3x', 'function': {'arguments': '{\"df_columns\":[\"feedback_text\"],\"df_name\":\"feedback_df\",\"input_question\":\"Get feedback text\",\"select_query\":\"SELECT feedback_text FROM feedback\"}', 'name': 'create_df_from_sql'}, 'type': 'function'}]}, response_metadata={'token_usage': {'completion_tokens': 75, 'prompt_tokens': 1583, 'total_tokens': 1658, 'completion_time': 0.220274171, 'prompt_time': 0.239265687, 'queue_time': None, 'total_time': 0.45953985799999997}, 'model_name': 'llama3-70b-8192', 'system_fingerprint': 'fp_753a4aecf6', 'finish_reason': 'tool_calls', 'logprobs': None}, id='run-7f591484-6c8c-490d-8856-e3433a098042-0', tool_calls=[{'name': 'create_df_from_sql', 'args': {'df_columns': ['feedback_text'], 'df_name': 'feedback_df', 'input_question': 'Get feedback text', 'select_query': 'SELECT feedback_text FROM feedback'}, 'id': 'call_7y3x'}]), 'input_question': 'Give me a sentiment score for each feedback.'}\n",
      "-------------------------------------------------------\n",
      "question :- Give me a sentiment score for each feedback.\n",
      "is_semantic_model_llama3 :- [IsSemantic(binary_score=1)]\n",
      "-------------------------------------------------------\n",
      "{'rating': 10, 'summary': 'Extremely positive sentiment due to excellent service, high-quality ingredients, and comfortable ambiance.'}\n",
      "{'rating': 10, 'summary': 'Delightful dining experience with excellent food and service'}\n",
      "{'rating': 4, 'summary': 'Pizza was slightly undercooked'}\n",
      "{'rating': 1, 'summary': 'Extremely negative sentiment due to uncleanliness, poor food quality, and bad service'}\n",
      "{'rating': 5, 'summary': 'Average pizza'}\n",
      "{'rating': 1, 'summary': 'Terrible dining experience with bad food, service, and ambiance'}\n",
      "{'rating': 8, 'summary': 'Positive feedback about pizza'}\n",
      "{'rating': 5, 'summary': 'Average dining experience with room for improvement'}\n",
      "{'rating': 6, 'summary': 'Decent experience with average food and service'}\n",
      "-------------------------------------------------------\n",
      "binary_score=1\n"
     ]
    }
   ],
   "execution_count": 12
  },
  {
   "metadata": {},
   "cell_type": "code",
   "outputs": [],
   "execution_count": null,
   "source": "",
   "id": "56ad7da4688221a7"
  }
 ],
 "metadata": {
  "kernelspec": {
   "display_name": "Python 3 (ipykernel)",
   "language": "python",
   "name": "python3"
  },
  "language_info": {
   "codemirror_mode": {
    "name": "ipython",
    "version": 3
   },
   "file_extension": ".py",
   "mimetype": "text/x-python",
   "name": "python",
   "nbconvert_exporter": "python",
   "pygments_lexer": "ipython3",
   "version": "3.10.14"
  }
 },
 "nbformat": 4,
 "nbformat_minor": 5
}
