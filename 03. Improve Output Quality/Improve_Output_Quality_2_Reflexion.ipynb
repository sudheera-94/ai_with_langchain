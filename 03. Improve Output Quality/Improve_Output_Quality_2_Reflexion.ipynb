{
 "cells": [
  {
   "metadata": {},
   "cell_type": "markdown",
   "source": "## 1. Introduction to Reflection",
   "id": "b4a143bd8b546718"
  },
  {
   "metadata": {
    "ExecuteTime": {
     "end_time": "2024-07-21T04:55:07.337976Z",
     "start_time": "2024-07-21T04:55:07.318187Z"
    }
   },
   "cell_type": "code",
   "source": [
    "import json\n",
    "import os\n",
    "\n",
    "with open('vars.json') as f:\n",
    "    data = json.load(f)\n",
    "\n",
    "openai_api_key = data[\"open_ai_api_key\"]\n",
    "langchain_api_key = data[\"langchain_api_key\"]\n",
    "# tavily_api_key = data[\"tavily_api_key\"]\n",
    "groq_api_key = data[\"groq_api_key\"]\n",
    "\n",
    "iterations = 2\n",
    "\n",
    "# os.environ['LANGCHAIN_TRACING_V2'] = 'true'\n",
    "# os.environ['LANGCHAIN_ENDPOINT'] = 'https://api.smith.langchain.com'\n",
    "# os.environ['LANGCHAIN_API_KEY'] = langchain_api_key"
   ],
   "id": "4b11aed2c8a90999",
   "outputs": [],
   "execution_count": 1
  },
  {
   "metadata": {
    "ExecuteTime": {
     "end_time": "2024-07-21T04:55:20.646256Z",
     "start_time": "2024-07-21T04:55:19.847107Z"
    }
   },
   "cell_type": "code",
   "source": [
    "# Setting up DB connection \n",
    "from langchain_community.utilities import SQLDatabase\n",
    "\n",
    "# Docker command to run pgvector/postgres container\n",
    "# docker run --name pgvector-container -e POSTGRES_USER=langchain -e POSTGRES_PASSWORD=langchain -e POSTGRES_DB=langchain -p 6024:5432 -d pgvector/pgvector:pg16\n",
    "db_config = {\n",
    "    'dbname': 'postgres',\n",
    "    'user': 'langchain',\n",
    "    'password': 'langchain',\n",
    "    'host': 'localhost',\n",
    "    'port': '6024'\n",
    "}\n",
    "\n",
    "connection_string = f\"postgresql+psycopg://{db_config['user']}:{db_config['password']}@{db_config['host']}:{db_config['port']}/{db_config['dbname']}\"\n",
    "\n",
    "db = SQLDatabase.from_uri(connection_string)\n",
    "print(db.table_info)"
   ],
   "id": "61978f56f168f147",
   "outputs": [
    {
     "name": "stdout",
     "output_type": "stream",
     "text": [
      "\n",
      "CREATE TABLE customer (\n",
      "\tcustomer_id SERIAL NOT NULL, \n",
      "\tname VARCHAR(100) NOT NULL, \n",
      "\tCONSTRAINT customer_pkey PRIMARY KEY (customer_id)\n",
      ")\n",
      "\n",
      "/*\n",
      "3 rows from customer table:\n",
      "customer_id\tname\n",
      "1\tJohn Doe\n",
      "2\tJane Smith\n",
      "3\tAlice Johnson\n",
      "*/\n",
      "\n",
      "\n",
      "CREATE TABLE feedback (\n",
      "\tfeedback_id SERIAL NOT NULL, \n",
      "\torder_id INTEGER NOT NULL, \n",
      "\tfeedback_text TEXT, \n",
      "\tCONSTRAINT feedback_pkey PRIMARY KEY (feedback_id), \n",
      "\tCONSTRAINT feedback_order_id_fkey FOREIGN KEY(order_id) REFERENCES orders (order_id)\n",
      ")\n",
      "\n",
      "/*\n",
      "3 rows from feedback table:\n",
      "feedback_id\torder_id\tfeedback_text\n",
      "4\t4\tPizza was average.\n",
      "5\t5\tPizza was average.\n",
      "6\t6\tPizza was average.\n",
      "*/\n",
      "\n",
      "\n",
      "CREATE TABLE orders (\n",
      "\torder_id SERIAL NOT NULL, \n",
      "\tcustomer_id INTEGER NOT NULL, \n",
      "\tpreparation_time INTEGER NOT NULL, \n",
      "\torder_date TIMESTAMP WITHOUT TIME ZONE DEFAULT CURRENT_TIMESTAMP, \n",
      "\tCONSTRAINT orders_pkey PRIMARY KEY (order_id), \n",
      "\tCONSTRAINT orders_customer_id_fkey FOREIGN KEY(customer_id) REFERENCES customer (customer_id)\n",
      ")\n",
      "\n",
      "/*\n",
      "3 rows from orders table:\n",
      "order_id\tcustomer_id\tpreparation_time\torder_date\n",
      "1\t7\t11\t2024-06-15 07:22:59.427381\n",
      "2\t13\t13\t2024-06-15 07:22:59.427381\n",
      "3\t8\t20\t2024-06-15 07:22:59.427381\n",
      "*/\n",
      "\n",
      "\n",
      "CREATE TABLE ordertoppings (\n",
      "\torder_id INTEGER NOT NULL, \n",
      "\ttopping_id INTEGER NOT NULL, \n",
      "\tCONSTRAINT ordertoppings_pkey PRIMARY KEY (order_id, topping_id), \n",
      "\tCONSTRAINT ordertoppings_order_id_fkey FOREIGN KEY(order_id) REFERENCES orders (order_id), \n",
      "\tCONSTRAINT ordertoppings_topping_id_fkey FOREIGN KEY(topping_id) REFERENCES toppings (topping_id)\n",
      ")\n",
      "\n",
      "/*\n",
      "3 rows from ordertoppings table:\n",
      "order_id\ttopping_id\n",
      "1\t4\n",
      "1\t2\n",
      "1\t3\n",
      "*/\n",
      "\n",
      "\n",
      "CREATE TABLE toppings (\n",
      "\ttopping_id SERIAL NOT NULL, \n",
      "\tname VARCHAR(50) NOT NULL, \n",
      "\tbase_preparation_time INTEGER NOT NULL, \n",
      "\tCONSTRAINT toppings_pkey PRIMARY KEY (topping_id)\n",
      ")\n",
      "\n",
      "/*\n",
      "3 rows from toppings table:\n",
      "topping_id\tname\tbase_preparation_time\n",
      "1\tPepperoni\t5\n",
      "2\tMushrooms\t3\n",
      "3\tOnions\t2\n",
      "*/\n"
     ]
    }
   ],
   "execution_count": 2
  },
  {
   "metadata": {},
   "cell_type": "code",
   "outputs": [],
   "execution_count": null,
   "source": "",
   "id": "966336e57a14b85f"
  }
 ],
 "metadata": {
  "kernelspec": {
   "display_name": "Python 3",
   "language": "python",
   "name": "python3"
  },
  "language_info": {
   "codemirror_mode": {
    "name": "ipython",
    "version": 2
   },
   "file_extension": ".py",
   "mimetype": "text/x-python",
   "name": "python",
   "nbconvert_exporter": "python",
   "pygments_lexer": "ipython2",
   "version": "2.7.6"
  }
 },
 "nbformat": 4,
 "nbformat_minor": 5
}
