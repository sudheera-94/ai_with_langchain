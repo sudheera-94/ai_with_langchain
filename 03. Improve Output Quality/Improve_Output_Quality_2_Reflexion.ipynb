{
 "cells": [
  {
   "metadata": {},
   "cell_type": "markdown",
   "source": "## 1. Introduction to Reflexion",
   "id": "b4a143bd8b546718"
  },
  {
   "metadata": {},
   "cell_type": "markdown",
   "source": "### 1.1 Initial Response",
   "id": "2ef672279201dc92"
  },
  {
   "metadata": {
    "ExecuteTime": {
     "end_time": "2024-07-28T06:15:38.155061Z",
     "start_time": "2024-07-28T06:15:38.147504Z"
    }
   },
   "cell_type": "code",
   "source": [
    "import json\n",
    "import os\n",
    "\n",
    "with open('vars.json') as f:\n",
    "    data = json.load(f)\n",
    "\n",
    "openai_api_key = data[\"open_ai_api_key\"]\n",
    "langchain_api_key = data[\"langchain_api_key\"]\n",
    "# tavily_api_key = data[\"tavily_api_key\"]\n",
    "groq_api_key = data[\"groq_api_key\"]\n",
    "\n",
    "# os.environ['LANGCHAIN_TRACING_V2'] = 'true'\n",
    "# os.environ['LANGCHAIN_ENDPOINT'] = 'https://api.smith.langchain.com'\n",
    "# os.environ['LANGCHAIN_API_KEY'] = langchain_api_key\n",
    "\n",
    "REFLEXION_LOOP_COUNT = 3"
   ],
   "id": "4b11aed2c8a90999",
   "outputs": [],
   "execution_count": 1
  },
  {
   "metadata": {
    "ExecuteTime": {
     "end_time": "2024-07-28T06:15:38.763121Z",
     "start_time": "2024-07-28T06:15:38.158057Z"
    }
   },
   "cell_type": "code",
   "source": [
    "# Setting up DB connection \n",
    "from langchain_community.utilities import SQLDatabase\n",
    "\n",
    "# Docker command to run pgvector/postgres container\n",
    "# docker run --name pgvector-container -e POSTGRES_USER=langchain -e POSTGRES_PASSWORD=langchain -e POSTGRES_DB=langchain -p 6024:5432 -d pgvector/pgvector:pg16\n",
    "db_config = {\n",
    "    'dbname': 'postgres',\n",
    "    'user': 'langchain',\n",
    "    'password': 'langchain',\n",
    "    'host': 'localhost',\n",
    "    'port': '6024'\n",
    "}\n",
    "\n",
    "connection_string = f\"postgresql+psycopg://{db_config['user']}:{db_config['password']}@{db_config['host']}:{db_config['port']}/{db_config['dbname']}\"\n",
    "\n",
    "db = SQLDatabase.from_uri(connection_string)\n",
    "print(db.table_info)"
   ],
   "id": "61978f56f168f147",
   "outputs": [
    {
     "name": "stdout",
     "output_type": "stream",
     "text": [
      "\n",
      "CREATE TABLE customer (\n",
      "\tcustomer_id SERIAL NOT NULL, \n",
      "\tname VARCHAR(100) NOT NULL, \n",
      "\tCONSTRAINT customer_pkey PRIMARY KEY (customer_id)\n",
      ")\n",
      "\n",
      "/*\n",
      "3 rows from customer table:\n",
      "customer_id\tname\n",
      "1\tJohn Doe\n",
      "2\tJane Smith\n",
      "3\tAlice Johnson\n",
      "*/\n",
      "\n",
      "\n",
      "CREATE TABLE feedback (\n",
      "\tfeedback_id SERIAL NOT NULL, \n",
      "\torder_id INTEGER NOT NULL, \n",
      "\tfeedback_text TEXT, \n",
      "\tCONSTRAINT feedback_pkey PRIMARY KEY (feedback_id), \n",
      "\tCONSTRAINT feedback_order_id_fkey FOREIGN KEY(order_id) REFERENCES orders (order_id)\n",
      ")\n",
      "\n",
      "/*\n",
      "3 rows from feedback table:\n",
      "feedback_id\torder_id\tfeedback_text\n",
      "4\t4\tPizza was average.\n",
      "5\t5\tPizza was average.\n",
      "6\t6\tPizza was average.\n",
      "*/\n",
      "\n",
      "\n",
      "CREATE TABLE orders (\n",
      "\torder_id SERIAL NOT NULL, \n",
      "\tcustomer_id INTEGER NOT NULL, \n",
      "\tpreparation_time INTEGER NOT NULL, \n",
      "\torder_date TIMESTAMP WITHOUT TIME ZONE DEFAULT CURRENT_TIMESTAMP, \n",
      "\tCONSTRAINT orders_pkey PRIMARY KEY (order_id), \n",
      "\tCONSTRAINT orders_customer_id_fkey FOREIGN KEY(customer_id) REFERENCES customer (customer_id)\n",
      ")\n",
      "\n",
      "/*\n",
      "3 rows from orders table:\n",
      "order_id\tcustomer_id\tpreparation_time\torder_date\n",
      "1\t7\t11\t2024-06-15 07:22:59.427381\n",
      "2\t13\t13\t2024-06-15 07:22:59.427381\n",
      "3\t8\t20\t2024-06-15 07:22:59.427381\n",
      "*/\n",
      "\n",
      "\n",
      "CREATE TABLE ordertoppings (\n",
      "\torder_id INTEGER NOT NULL, \n",
      "\ttopping_id INTEGER NOT NULL, \n",
      "\tCONSTRAINT ordertoppings_pkey PRIMARY KEY (order_id, topping_id), \n",
      "\tCONSTRAINT ordertoppings_order_id_fkey FOREIGN KEY(order_id) REFERENCES orders (order_id), \n",
      "\tCONSTRAINT ordertoppings_topping_id_fkey FOREIGN KEY(topping_id) REFERENCES toppings (topping_id)\n",
      ")\n",
      "\n",
      "/*\n",
      "3 rows from ordertoppings table:\n",
      "order_id\ttopping_id\n",
      "1\t4\n",
      "1\t2\n",
      "1\t3\n",
      "*/\n",
      "\n",
      "\n",
      "CREATE TABLE toppings (\n",
      "\ttopping_id SERIAL NOT NULL, \n",
      "\tname VARCHAR(50) NOT NULL, \n",
      "\tbase_preparation_time INTEGER NOT NULL, \n",
      "\tCONSTRAINT toppings_pkey PRIMARY KEY (topping_id)\n",
      ")\n",
      "\n",
      "/*\n",
      "3 rows from toppings table:\n",
      "topping_id\tname\tbase_preparation_time\n",
      "1\tPepperoni\t5\n",
      "2\tMushrooms\t3\n",
      "3\tOnions\t2\n",
      "*/\n"
     ]
    }
   ],
   "execution_count": 2
  },
  {
   "metadata": {
    "ExecuteTime": {
     "end_time": "2024-07-28T06:15:40.084679Z",
     "start_time": "2024-07-28T06:15:38.765124Z"
    }
   },
   "cell_type": "code",
   "source": [
    "from langchain_agents._models import get_llm\n",
    "\n",
    "# llama3_model = 'llama-3.1-70b-versatile'\n",
    "llama3_model = 'llama3-70b-8192'\n",
    "\n",
    "llm_llama3 = get_llm(llm_type='llama3', llm_model=llama3_model, api_key=groq_api_key)"
   ],
   "id": "6ab85ee34f83923b",
   "outputs": [],
   "execution_count": 3
  },
  {
   "metadata": {
    "ExecuteTime": {
     "end_time": "2024-07-28T06:15:40.146451Z",
     "start_time": "2024-07-28T06:15:40.103010Z"
    }
   },
   "cell_type": "code",
   "source": [
    "from langchain_core.prompts import ChatPromptTemplate\n",
    "from langchain_core.pydantic_v1 import BaseModel, Field\n",
    "from typing import List\n",
    "\n",
    "from langchain_agents._schemas import AgentState\n",
    "\n",
    "\n",
    "# from langchain_agents._tools import create_df_from_sql\n",
    "\n",
    "class Reflexion(BaseModel):\n",
    "    \"\"\"Reflection on the generated SQL query.\"\"\"\n",
    "    good: str = Field(description=\"Critique of what is good in the newly generated Postgres SQL query.\",\n",
    "                      default='')\n",
    "    missing: str = Field(description=\"Critique of what is missing in the newly generated Postgres SQL query.\",\n",
    "                         default='')\n",
    "    improvements: str = Field(description=\"Suggestions for improvements for the newly generated Postgres SQL query.\",\n",
    "                              default='')\n",
    "\n",
    "\n",
    "class AnswerQuestion(BaseModel):\n",
    "    \"\"\"Generate a SQL query to retrieve the data to answer the question. Provide a reflection on the generated query.\"\"\"\n",
    "\n",
    "    select_query: str = Field(...,\n",
    "                              description=\"A PostgreSQL SELECT statement to retrieve the data inorder to answer the question.\")\n",
    "    df_columns: List[str] = Field(\n",
    "        ..., description=\"Ordered names to give the DataFrame columns.\"\n",
    "    )\n",
    "    df_name: str = Field(\n",
    "        ..., description=\"The name to give the DataFrame variable in downstream code.\"\n",
    "    )\n",
    "    reflexion: Reflexion = Field(description=\"Your reflection on the generated select query.\",\n",
    "                                 default=Reflexion())\n",
    "\n",
    "\n",
    "initial_retrieve_from_db_prompt_string = f\"\"\"\n",
    "You are an expert at PostgreSQL. You have access to a PostgreSQL database \n",
    "with the following tables\n",
    "\n",
    "{db.table_info}\n",
    "\n",
    "Given a user question related to the data in the database, \n",
    "1. Generate an SQL query to retrieve the data that has to be used to answer the question.\n",
    "2. Critique the generated SQL query. Does it answers the question? What is good about it? What is missing? What can be improved?\n",
    "3. Provide your answer using the {AnswerQuestion.__name__} tool. \"\"\"\n",
    "\n",
    "initial_retrieve_from_db_prompt = ChatPromptTemplate.from_messages(\n",
    "    [\n",
    "        (\"system\", initial_retrieve_from_db_prompt_string),\n",
    "        (\"placeholder\", \"{messages}\"),\n",
    "    ]\n",
    ")\n",
    "\n",
    "\n",
    "def initial_retrieve_from_db_model_llama3(state: AgentState) -> dict:\n",
    "    \"\"\"Call model with tools passed in.\"\"\"\n",
    "    messages = []\n",
    "\n",
    "    print(\"-----------------initial_retrieve_from_db-----------------\")\n",
    "    chain = initial_retrieve_from_db_prompt | llm_llama3.bind_tools([AnswerQuestion])\n",
    "\n",
    "    retrieve_response = chain.invoke({\n",
    "        \"messages\": [\n",
    "            state['messages'][-1]\n",
    "        ]\n",
    "    })\n",
    "    input_question = state[\"messages\"][0][1]\n",
    "    message = {\n",
    "        \"retrieve_response\": retrieve_response,\n",
    "        \"question\": input_question\n",
    "    }\n",
    "    print(f\"question :- {input_question}\")\n",
    "    print(f\"retrieve_response :- {retrieve_response}\")\n",
    "    print(f\"output_query :- {retrieve_response.tool_calls[0]['args']['select_query']}\")\n",
    "    messages.append(message)\n",
    "    print(\"--------------------------------------------------\")\n",
    "\n",
    "    return {\"messages\": messages}"
   ],
   "id": "4e2ceb26c303cecd",
   "outputs": [],
   "execution_count": 5
  },
  {
   "metadata": {},
   "cell_type": "markdown",
   "source": "### 1.2 Response after Reflexion",
   "id": "9e8a0c1936789ce7"
  },
  {
   "metadata": {
    "ExecuteTime": {
     "end_time": "2024-07-28T06:15:40.161230Z",
     "start_time": "2024-07-28T06:15:40.149033Z"
    }
   },
   "cell_type": "code",
   "source": [
    "def sql_reflex_node(state: AgentState) -> dict:\n",
    "    print(\"-----------------sql_reflection_node-----------------\")\n",
    "    # First message is the original user request. We hold it the same for all nodes\n",
    "    missing = state['messages'][-1]['retrieve_response'].tool_calls[0]['args']['reflexion']['missing']\n",
    "    missing = f\"Try again to find what is missing in the given PostgreSQL SELECT statement to answer the question.\" \\\n",
    "        if missing in ('None', '') else missing\n",
    "    improvements = state['messages'][-1]['retrieve_response'].tool_calls[0]['args']['reflexion']['improvements']\n",
    "    improvements = f\"Try again to improve the given PostgreSQL SELECT statement.\" if improvements in ('None', '') else improvements\n",
    "    message = (\n",
    "        \"human\",\n",
    "        {\n",
    "            \"critique\": f\"{missing} {improvements}\",\n",
    "            \"question\": f\"{state['messages'][-1]['question']}\",\n",
    "            \"previous_query\": f\"{state['messages'][-1]['retrieve_response'].tool_calls[0]['args']['select_query']}\"\n",
    "        }\n",
    "    )\n",
    "    print(f\"message :- {message}\")\n",
    "    # We treat the output of this as human feedback for the generator\n",
    "    print(\"--------------------------------------------------\")\n",
    "    return {\"messages\": [message]}"
   ],
   "id": "6a4a11dcf8250d63",
   "outputs": [],
   "execution_count": 6
  },
  {
   "metadata": {},
   "cell_type": "markdown",
   "source": "## 1.3 Secondary response Node",
   "id": "6d21aff56ddac9ef"
  },
  {
   "metadata": {
    "ExecuteTime": {
     "end_time": "2024-07-28T06:15:40.192374Z",
     "start_time": "2024-07-28T06:15:40.163224Z"
    }
   },
   "cell_type": "code",
   "source": [
    "retrieve_from_db_prompt_string = f\"\"\"\n",
    "You are an expert at PostgreSQL. You have access to a PostgreSQL database \n",
    "with the following tables\n",
    "\n",
    "{db.table_info}\n",
    "\n",
    "Given a user question related to the data in the database, \n",
    "1. Modify the previous PostgreSQL SELECT statement according to the given question and critique.\n",
    "2. Critique the modified PostgreSQL SELECT statement. Does it answers the question? What is good about it? What is missing? What can be improved?\n",
    "3. Provide your modified answer using the {AnswerQuestion.__name__} tool. \"\"\"\n",
    "\n",
    "retrieve_from_db_prompt = ChatPromptTemplate.from_messages(\n",
    "    [\n",
    "        (\"system\", retrieve_from_db_prompt_string),\n",
    "        (\"placeholder\", \"{messages}\"),\n",
    "    ]\n",
    ")\n",
    "\n",
    "\n",
    "def retrieve_from_db_model_llama3(state: AgentState) -> dict:\n",
    "    \"\"\"Call model with tools passed in.\"\"\"\n",
    "    messages = []\n",
    "\n",
    "    print(\"-----------------retrieve_from_db-----------------\")\n",
    "    llm_input = (f\"The previous PostgreSQL SELECT statement was: \"\n",
    "                 f\"{state['messages'][-1][1]['previous_query']} \\n\"\n",
    "                 f\"The question is: {state['messages'][-1][1]['question']} \\n\"\n",
    "                 f\"The critique was: {state['messages'][-1][1]['critique']}\")\n",
    "    chain = retrieve_from_db_prompt | llm_llama3.bind_tools([AnswerQuestion])\n",
    "\n",
    "    retrieve_response = chain.invoke({\n",
    "        \"messages\": [\n",
    "            llm_input\n",
    "        ]\n",
    "    })\n",
    "    input_question = state[\"messages\"][0][1]\n",
    "    message = {\n",
    "        \"retrieve_response\": retrieve_response,\n",
    "        \"question\": input_question\n",
    "    }\n",
    "    print(f\"question :- {input_question}\")\n",
    "    print(f\"retrieve_response :- {retrieve_response}\")\n",
    "    print(f\"output_query :- {retrieve_response.tool_calls[0]['args']['select_query']}\")\n",
    "    messages.append(message)\n",
    "    print(\"--------------------------------------------------\")\n",
    "\n",
    "    return {\"messages\": messages}"
   ],
   "id": "91ab156b0d62c9c",
   "outputs": [],
   "execution_count": 7
  },
  {
   "metadata": {},
   "cell_type": "markdown",
   "source": "## 1.4 Construct Graph",
   "id": "494dc29ac2d7d439"
  },
  {
   "metadata": {
    "ExecuteTime": {
     "end_time": "2024-07-28T06:15:40.240038Z",
     "start_time": "2024-07-28T06:15:40.193905Z"
    }
   },
   "cell_type": "code",
   "source": [
    "from langgraph.graph import END, StateGraph, START\n",
    "\n",
    "builder = StateGraph(AgentState)\n",
    "builder.add_node(\"initial_retrieve_from_db\", initial_retrieve_from_db_model_llama3)\n",
    "builder.add_node(\"retrieve_from_db\", retrieve_from_db_model_llama3)\n",
    "builder.add_node(\"sql_reflexion\", sql_reflex_node)\n",
    "\n",
    "builder.add_edge(START, \"initial_retrieve_from_db\")\n",
    "builder.add_edge('initial_retrieve_from_db', \"sql_reflexion\")\n",
    "builder.add_edge(\"sql_reflexion\", \"retrieve_from_db\")\n",
    "\n",
    "\n",
    "def should_continue(state: AgentState):\n",
    "    if len(state[\"messages\"]) > REFLEXION_LOOP_COUNT * 2:\n",
    "        return 'END'\n",
    "    return \"sql_reflexion\"\n",
    "\n",
    "\n",
    "builder.add_conditional_edges(\n",
    "    \"retrieve_from_db\",\n",
    "    should_continue,\n",
    "    {\n",
    "        \"sql_reflexion\": \"sql_reflexion\",\n",
    "        \"END\": END\n",
    "    }\n",
    ")\n",
    "\n",
    "graph = builder.compile()"
   ],
   "id": "ca012aa117191aae",
   "outputs": [],
   "execution_count": 8
  },
  {
   "metadata": {
    "ExecuteTime": {
     "end_time": "2024-07-28T06:15:40.599220Z",
     "start_time": "2024-07-28T06:15:40.241555Z"
    }
   },
   "cell_type": "code",
   "source": [
    "from IPython.display import Image, display\n",
    "\n",
    "display(Image(graph.get_graph().draw_mermaid_png()))"
   ],
   "id": "856bb076bb08b561",
   "outputs": [
    {
     "data": {
      "image/jpeg": "[encoded data removed]",
      "text/plain": [
       "<IPython.core.display.Image object>"
      ]
     },
     "metadata": {},
     "output_type": "display_data"
    }
   ],
   "execution_count": 9
  },
  {
   "metadata": {
    "ExecuteTime": {
     "end_time": "2024-07-28T06:17:18.588790Z",
     "start_time": "2024-07-28T06:17:06.106602Z"
    }
   },
   "cell_type": "code",
   "source": [
    "output_llama3 = graph.invoke({\"messages\": [\n",
    "    (\"human\", \"Get the total number of orders of each customer.\")\n",
    "]})"
   ],
   "id": "a3048f6024cabe0a",
   "outputs": [
    {
     "name": "stdout",
     "output_type": "stream",
     "text": [
      "-----------------initial_retrieve_from_db-----------------\n",
      "question :- Get the total number of orders of each customer.\n",
      "retrieve_response :- content='' additional_kwargs={'tool_calls': [{'id': 'call_dx8n', 'function': {'arguments': '{\"select_query\":\"SELECT c.name, COUNT(o.order_id) AS total_orders FROM customer c JOIN orders o ON c.customer_id = o.customer_id GROUP BY c.name\",\"df_columns\":[\"name\",\"total_orders\"],\"df_name\":\"customer_orders\",\"reflexion\":{\"good\":\"This query correctly joins the customer and orders tables to get the total number of orders for each customer.\",\"improvements\":\"None\",\"missing\":\"None\"}}', 'name': 'AnswerQuestion'}, 'type': 'function'}]} response_metadata={'token_usage': {'completion_tokens': 136, 'prompt_tokens': 1903, 'total_tokens': 2039, 'completion_time': 0.427251407, 'prompt_time': 0.174083361, 'queue_time': None, 'total_time': 0.6013347680000001}, 'model_name': 'llama3-70b-8192', 'system_fingerprint': 'fp_c1a4bcec29', 'finish_reason': 'tool_calls', 'logprobs': None} id='run-eda61996-402a-4b7d-ac64-6c12137d6afc-0' tool_calls=[{'name': 'AnswerQuestion', 'args': {'select_query': 'SELECT c.name, COUNT(o.order_id) AS total_orders FROM customer c JOIN orders o ON c.customer_id = o.customer_id GROUP BY c.name', 'df_columns': ['name', 'total_orders'], 'df_name': 'customer_orders', 'reflexion': {'good': 'This query correctly joins the customer and orders tables to get the total number of orders for each customer.', 'improvements': 'None', 'missing': 'None'}}, 'id': 'call_dx8n'}]\n",
      "output_query :- SELECT c.name, COUNT(o.order_id) AS total_orders FROM customer c JOIN orders o ON c.customer_id = o.customer_id GROUP BY c.name\n",
      "--------------------------------------------------\n",
      "-----------------sql_reflection_node-----------------\n",
      "message :- ('human', {'critique': 'Try again to find what is missing in the given PostgreSQL SELECT statement to answer the question. Try again to improve the given PostgreSQL SELECT statement.', 'question': 'Get the total number of orders of each customer.', 'previous_query': 'SELECT c.name, COUNT(o.order_id) AS total_orders FROM customer c JOIN orders o ON c.customer_id = o.customer_id GROUP BY c.name'})\n",
      "--------------------------------------------------\n",
      "-----------------retrieve_from_db-----------------\n",
      "question :- Get the total number of orders of each customer.\n",
      "retrieve_response :- content='' additional_kwargs={'tool_calls': [{'id': 'call_mf3p', 'function': {'arguments': '{\"df_columns\":[\"customer_name\",\"total_orders\"],\"df_name\":\"customer_orders\",\"select_query\":\"SELECT c.name AS customer_name, COUNT(o.order_id) AS total_orders FROM customer c JOIN orders o ON c.customer_id = o.customer_id GROUP BY c.name\",\"reflexion\":{\"good\":\"The query correctly joins the customer and orders tables and groups the results by customer name.\",\"improvements\":\"Consider adding an ORDER BY clause to sort the results by total orders.\",\"missing\":\"The query is complete and answers the question.\"}}', 'name': 'AnswerQuestion'}, 'type': 'function'}]} response_metadata={'token_usage': {'completion_tokens': 157, 'prompt_tokens': 1976, 'total_tokens': 2133, 'completion_time': 0.500483769, 'prompt_time': 0.228866096, 'queue_time': None, 'total_time': 0.729349865}, 'model_name': 'llama3-70b-8192', 'system_fingerprint': 'fp_c1a4bcec29', 'finish_reason': 'tool_calls', 'logprobs': None} id='run-e76204aa-df3e-42c7-bec0-e6c1ca71a984-0' tool_calls=[{'name': 'AnswerQuestion', 'args': {'df_columns': ['customer_name', 'total_orders'], 'df_name': 'customer_orders', 'select_query': 'SELECT c.name AS customer_name, COUNT(o.order_id) AS total_orders FROM customer c JOIN orders o ON c.customer_id = o.customer_id GROUP BY c.name', 'reflexion': {'good': 'The query correctly joins the customer and orders tables and groups the results by customer name.', 'improvements': 'Consider adding an ORDER BY clause to sort the results by total orders.', 'missing': 'The query is complete and answers the question.'}}, 'id': 'call_mf3p'}]\n",
      "output_query :- SELECT c.name AS customer_name, COUNT(o.order_id) AS total_orders FROM customer c JOIN orders o ON c.customer_id = o.customer_id GROUP BY c.name\n",
      "--------------------------------------------------\n",
      "-----------------sql_reflection_node-----------------\n",
      "message :- ('human', {'critique': 'The query is complete and answers the question. Consider adding an ORDER BY clause to sort the results by total orders.', 'question': 'Get the total number of orders of each customer.', 'previous_query': 'SELECT c.name AS customer_name, COUNT(o.order_id) AS total_orders FROM customer c JOIN orders o ON c.customer_id = o.customer_id GROUP BY c.name'})\n",
      "--------------------------------------------------\n",
      "-----------------retrieve_from_db-----------------\n",
      "question :- Get the total number of orders of each customer.\n",
      "retrieve_response :- content='' additional_kwargs={'tool_calls': [{'id': 'call_f11t', 'function': {'arguments': '{\"df_columns\":[\"customer_name\",\"total_orders\"],\"df_name\":\"customer_orders\",\"select_query\":\"SELECT c.name AS customer_name, COUNT(o.order_id) AS total_orders FROM customer c JOIN orders o ON c.customer_id = o.customer_id GROUP BY c.name ORDER BY total_orders DESC\",\"reflexion\":{\"good\":\"The query is complete and answers the question.\",\"improvements\":\"Consider adding an ORDER BY clause to sort the results by total orders.\",\"missing\":\"\"}}', 'name': 'AnswerQuestion'}, 'type': 'function'}]} response_metadata={'token_usage': {'completion_tokens': 145, 'prompt_tokens': 1974, 'total_tokens': 2119, 'completion_time': 0.465205314, 'prompt_time': 0.155998111, 'queue_time': None, 'total_time': 0.621203425}, 'model_name': 'llama3-70b-8192', 'system_fingerprint': 'fp_c1a4bcec29', 'finish_reason': 'tool_calls', 'logprobs': None} id='run-d5dc323f-89be-4a80-bded-8146f22f4c23-0' tool_calls=[{'name': 'AnswerQuestion', 'args': {'df_columns': ['customer_name', 'total_orders'], 'df_name': 'customer_orders', 'select_query': 'SELECT c.name AS customer_name, COUNT(o.order_id) AS total_orders FROM customer c JOIN orders o ON c.customer_id = o.customer_id GROUP BY c.name ORDER BY total_orders DESC', 'reflexion': {'good': 'The query is complete and answers the question.', 'improvements': 'Consider adding an ORDER BY clause to sort the results by total orders.', 'missing': ''}}, 'id': 'call_f11t'}]\n",
      "output_query :- SELECT c.name AS customer_name, COUNT(o.order_id) AS total_orders FROM customer c JOIN orders o ON c.customer_id = o.customer_id GROUP BY c.name ORDER BY total_orders DESC\n",
      "--------------------------------------------------\n",
      "-----------------sql_reflection_node-----------------\n",
      "message :- ('human', {'critique': 'Try again to find what is missing in the given PostgreSQL SELECT statement to answer the question. Consider adding an ORDER BY clause to sort the results by total orders.', 'question': 'Get the total number of orders of each customer.', 'previous_query': 'SELECT c.name AS customer_name, COUNT(o.order_id) AS total_orders FROM customer c JOIN orders o ON c.customer_id = o.customer_id GROUP BY c.name ORDER BY total_orders DESC'})\n",
      "--------------------------------------------------\n",
      "-----------------retrieve_from_db-----------------\n",
      "question :- Get the total number of orders of each customer.\n",
      "retrieve_response :- content='' additional_kwargs={'tool_calls': [{'id': 'call_x2ac', 'function': {'arguments': '{\"df_columns\":[\"customer_name\",\"total_orders\"],\"df_name\":\"customer_orders\",\"select_query\":\"SELECT c.name AS customer_name, COUNT(o.order_id) AS total_orders FROM customer c JOIN orders o ON c.customer_id = o.customer_id GROUP BY c.name ORDER BY total_orders DESC\",\"reflexion\":{\"good\":\"The query correctly joins the customer and orders tables to get the total number of orders for each customer. The ORDER BY clause is also added to sort the results by total orders.\",\"improvements\":\"\",\"missing\":\"\"}}', 'name': 'AnswerQuestion'}, 'type': 'function'}]} response_metadata={'token_usage': {'completion_tokens': 157, 'prompt_tokens': 1988, 'total_tokens': 2145, 'completion_time': 0.506727501, 'prompt_time': 0.232705636, 'queue_time': None, 'total_time': 0.739433137}, 'model_name': 'llama3-70b-8192', 'system_fingerprint': 'fp_c1a4bcec29', 'finish_reason': 'tool_calls', 'logprobs': None} id='run-91a0b05c-b914-4ad1-a612-6bae6734bd90-0' tool_calls=[{'name': 'AnswerQuestion', 'args': {'df_columns': ['customer_name', 'total_orders'], 'df_name': 'customer_orders', 'select_query': 'SELECT c.name AS customer_name, COUNT(o.order_id) AS total_orders FROM customer c JOIN orders o ON c.customer_id = o.customer_id GROUP BY c.name ORDER BY total_orders DESC', 'reflexion': {'good': 'The query correctly joins the customer and orders tables to get the total number of orders for each customer. The ORDER BY clause is also added to sort the results by total orders.', 'improvements': '', 'missing': ''}}, 'id': 'call_x2ac'}]\n",
      "output_query :- SELECT c.name AS customer_name, COUNT(o.order_id) AS total_orders FROM customer c JOIN orders o ON c.customer_id = o.customer_id GROUP BY c.name ORDER BY total_orders DESC\n",
      "--------------------------------------------------\n"
     ]
    }
   ],
   "execution_count": 11
  }
 ],
 "metadata": {
  "kernelspec": {
   "display_name": "Python 3",
   "language": "python",
   "name": "python3"
  },
  "language_info": {
   "codemirror_mode": {
    "name": "ipython",
    "version": 2
   },
   "file_extension": ".py",
   "mimetype": "text/x-python",
   "name": "python",
   "nbconvert_exporter": "python",
   "pygments_lexer": "ipython2",
   "version": "2.7.6"
  }
 },
 "nbformat": 4,
 "nbformat_minor": 5
}
