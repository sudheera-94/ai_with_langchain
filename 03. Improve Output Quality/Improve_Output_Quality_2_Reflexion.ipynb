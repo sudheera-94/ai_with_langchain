{
 "cells": [
  {
   "metadata": {},
   "cell_type": "markdown",
   "source": "## 1. Introduction to Reflexion",
   "id": "b4a143bd8b546718"
  },
  {
   "metadata": {},
   "cell_type": "markdown",
   "source": "### 1.1 Initial Response",
   "id": "2ef672279201dc92"
  },
  {
   "metadata": {
    "ExecuteTime": {
     "end_time": "2024-07-21T08:36:10.350928Z",
     "start_time": "2024-07-21T08:36:10.331852Z"
    }
   },
   "cell_type": "code",
   "source": [
    "import json\n",
    "import os\n",
    "\n",
    "with open('vars.json') as f:\n",
    "    data = json.load(f)\n",
    "\n",
    "openai_api_key = data[\"open_ai_api_key\"]\n",
    "langchain_api_key = data[\"langchain_api_key\"]\n",
    "# tavily_api_key = data[\"tavily_api_key\"]\n",
    "groq_api_key = data[\"groq_api_key\"]\n",
    "\n",
    "# os.environ['LANGCHAIN_TRACING_V2'] = 'true'\n",
    "# os.environ['LANGCHAIN_ENDPOINT'] = 'https://api.smith.langchain.com'\n",
    "# os.environ['LANGCHAIN_API_KEY'] = langchain_api_key"
   ],
   "id": "4b11aed2c8a90999",
   "outputs": [],
   "execution_count": 1
  },
  {
   "metadata": {
    "ExecuteTime": {
     "end_time": "2024-07-21T08:36:11.719072Z",
     "start_time": "2024-07-21T08:36:10.890391Z"
    }
   },
   "cell_type": "code",
   "source": [
    "# Setting up DB connection \n",
    "from langchain_community.utilities import SQLDatabase\n",
    "\n",
    "# Docker command to run pgvector/postgres container\n",
    "# docker run --name pgvector-container -e POSTGRES_USER=langchain -e POSTGRES_PASSWORD=langchain -e POSTGRES_DB=langchain -p 6024:5432 -d pgvector/pgvector:pg16\n",
    "db_config = {\n",
    "    'dbname': 'postgres',\n",
    "    'user': 'langchain',\n",
    "    'password': 'langchain',\n",
    "    'host': 'localhost',\n",
    "    'port': '6024'\n",
    "}\n",
    "\n",
    "connection_string = f\"postgresql+psycopg://{db_config['user']}:{db_config['password']}@{db_config['host']}:{db_config['port']}/{db_config['dbname']}\"\n",
    "\n",
    "db = SQLDatabase.from_uri(connection_string)\n",
    "print(db.table_info)"
   ],
   "id": "61978f56f168f147",
   "outputs": [
    {
     "name": "stdout",
     "output_type": "stream",
     "text": [
      "\n",
      "CREATE TABLE customer (\n",
      "\tcustomer_id SERIAL NOT NULL, \n",
      "\tname VARCHAR(100) NOT NULL, \n",
      "\tCONSTRAINT customer_pkey PRIMARY KEY (customer_id)\n",
      ")\n",
      "\n",
      "/*\n",
      "3 rows from customer table:\n",
      "customer_id\tname\n",
      "1\tJohn Doe\n",
      "2\tJane Smith\n",
      "3\tAlice Johnson\n",
      "*/\n",
      "\n",
      "\n",
      "CREATE TABLE feedback (\n",
      "\tfeedback_id SERIAL NOT NULL, \n",
      "\torder_id INTEGER NOT NULL, \n",
      "\tfeedback_text TEXT, \n",
      "\tCONSTRAINT feedback_pkey PRIMARY KEY (feedback_id), \n",
      "\tCONSTRAINT feedback_order_id_fkey FOREIGN KEY(order_id) REFERENCES orders (order_id)\n",
      ")\n",
      "\n",
      "/*\n",
      "3 rows from feedback table:\n",
      "feedback_id\torder_id\tfeedback_text\n",
      "4\t4\tPizza was average.\n",
      "5\t5\tPizza was average.\n",
      "6\t6\tPizza was average.\n",
      "*/\n",
      "\n",
      "\n",
      "CREATE TABLE orders (\n",
      "\torder_id SERIAL NOT NULL, \n",
      "\tcustomer_id INTEGER NOT NULL, \n",
      "\tpreparation_time INTEGER NOT NULL, \n",
      "\torder_date TIMESTAMP WITHOUT TIME ZONE DEFAULT CURRENT_TIMESTAMP, \n",
      "\tCONSTRAINT orders_pkey PRIMARY KEY (order_id), \n",
      "\tCONSTRAINT orders_customer_id_fkey FOREIGN KEY(customer_id) REFERENCES customer (customer_id)\n",
      ")\n",
      "\n",
      "/*\n",
      "3 rows from orders table:\n",
      "order_id\tcustomer_id\tpreparation_time\torder_date\n",
      "1\t7\t11\t2024-06-15 07:22:59.427381\n",
      "2\t13\t13\t2024-06-15 07:22:59.427381\n",
      "3\t8\t20\t2024-06-15 07:22:59.427381\n",
      "*/\n",
      "\n",
      "\n",
      "CREATE TABLE ordertoppings (\n",
      "\torder_id INTEGER NOT NULL, \n",
      "\ttopping_id INTEGER NOT NULL, \n",
      "\tCONSTRAINT ordertoppings_pkey PRIMARY KEY (order_id, topping_id), \n",
      "\tCONSTRAINT ordertoppings_order_id_fkey FOREIGN KEY(order_id) REFERENCES orders (order_id), \n",
      "\tCONSTRAINT ordertoppings_topping_id_fkey FOREIGN KEY(topping_id) REFERENCES toppings (topping_id)\n",
      ")\n",
      "\n",
      "/*\n",
      "3 rows from ordertoppings table:\n",
      "order_id\ttopping_id\n",
      "1\t4\n",
      "1\t2\n",
      "1\t3\n",
      "*/\n",
      "\n",
      "\n",
      "CREATE TABLE toppings (\n",
      "\ttopping_id SERIAL NOT NULL, \n",
      "\tname VARCHAR(50) NOT NULL, \n",
      "\tbase_preparation_time INTEGER NOT NULL, \n",
      "\tCONSTRAINT toppings_pkey PRIMARY KEY (topping_id)\n",
      ")\n",
      "\n",
      "/*\n",
      "3 rows from toppings table:\n",
      "topping_id\tname\tbase_preparation_time\n",
      "1\tPepperoni\t5\n",
      "2\tMushrooms\t3\n",
      "3\tOnions\t2\n",
      "*/\n"
     ]
    }
   ],
   "execution_count": 2
  },
  {
   "metadata": {
    "ExecuteTime": {
     "end_time": "2024-07-21T08:36:14.052844Z",
     "start_time": "2024-07-21T08:36:11.722647Z"
    }
   },
   "cell_type": "code",
   "source": [
    "from langchain_agents._models import get_llm\n",
    "\n",
    "llm_llama3 = get_llm(llm_type='llama3', llm_model='llama3-70b-8192', api_key=groq_api_key)"
   ],
   "id": "6ab85ee34f83923b",
   "outputs": [],
   "execution_count": 3
  },
  {
   "metadata": {
    "ExecuteTime": {
     "end_time": "2024-07-21T08:36:14.068878Z",
     "start_time": "2024-07-21T08:36:14.055880Z"
    }
   },
   "cell_type": "code",
   "source": [
    "from langchain_core.messages import HumanMessage, ToolMessage\n",
    "from langchain_core.output_parsers.openai_tools import PydanticToolsParser\n",
    "from langchain_core.prompts import ChatPromptTemplate, MessagesPlaceholder\n",
    "from langchain_core.pydantic_v1 import BaseModel, Field, ValidationError\n",
    "from typing import List, Optional\n",
    "\n",
    "REFLEXION_LOOP_COUNT = 3\n",
    "\n",
    "\n",
    "class Reflection(BaseModel):\n",
    "    \"\"\"Reflection on the generated SQL query.\"\"\"\n",
    "    good: str = Field(description=\"Critique of what is good in the given Postgres SQL query.\")\n",
    "    missing: str = Field(description=\"Critique of what is missing in the given Postgres SQL query.\")\n",
    "    improvements: Optional[str] = Field(description=\"Suggestions for improvements for the given Postgres SQL query.\")\n",
    "\n",
    "class AnswerQuestion(BaseModel):\n",
    "    \"\"\"Generate a SQL query to retrieve the data to answer the question. Provide a reflection on the generated query.\"\"\"\n",
    "\n",
    "    select_query: str = Field(...,\n",
    "                              description=\"A PostgreSQL SELECT statement to retrieve the data inorder to answer the question.\")\n",
    "    df_columns: List[str] = Field(\n",
    "        ..., description=\"Ordered names to give the DataFrame columns.\"\n",
    "    )\n",
    "    df_name: str = Field(\n",
    "        ..., description=\"The name to give the DataFrame variable in downstream code.\"\n",
    "    )\n",
    "    reflection: Reflection = Field(description=\"Your reflection on the generated select query.\")\n",
    "\n",
    "\n",
    "class ResponderWithRetries:\n",
    "    def __init__(self, runnable, validator):\n",
    "        self.runnable = runnable\n",
    "        self.validator = validator\n",
    "\n",
    "    def respond(self, state: list):\n",
    "        response = []\n",
    "        for attempt in range(REFLEXION_LOOP_COUNT):\n",
    "            print(f\"attempt: {attempt}\")\n",
    "            print(f\"state: {state}\")\n",
    "            response = self.runnable.invoke(\n",
    "                {\"messages\": state}, {\"tags\": [f\"attempt:{attempt}\"]}\n",
    "            )\n",
    "            try:\n",
    "                self.validator.invoke(response)\n",
    "                return response\n",
    "            except ValidationError as e:\n",
    "                state = state + [\n",
    "                    response,\n",
    "                    ToolMessage(\n",
    "                        content=f\"{repr(e)}\\n\\nPay close attention to the function schema.\\n\\n\"\n",
    "                                + self.validator.schema_json()\n",
    "                                + \" Respond by fixing all validation errors.\",\n",
    "                        tool_call_id=response.tool_calls[0][\"id\"],\n",
    "                    ),\n",
    "                ]\n",
    "        return response"
   ],
   "id": "7538d9aeeeb5f77f",
   "outputs": [],
   "execution_count": 4
  },
  {
   "metadata": {
    "ExecuteTime": {
     "end_time": "2024-07-21T08:36:14.550704Z",
     "start_time": "2024-07-21T08:36:14.071416Z"
    }
   },
   "cell_type": "code",
   "source": [
    "import datetime\n",
    "\n",
    "retrieve_from_db_prompt_string = ChatPromptTemplate.from_messages(\n",
    "    [\n",
    "        (\n",
    "            \"system\",\n",
    "            f\"\"\"\n",
    "You are an expert at PostgreSQL. You have access to a PostgreSQL database \n",
    "with the following tables\n",
    "\n",
    "{db.table_info}\n",
    "\n",
    "Given a user question related to the data in the database, \n",
    "1. {{first_instruction}}\n",
    "2. get the relevant data from the tables as a DataFrame using the {{function_name}} tool. \n",
    "3. Reflect and critique your answer based on the user question. Be severe to maximize improvement.\"\"\",\n",
    "        ),\n",
    "        MessagesPlaceholder(variable_name=\"messages\"),\n",
    "        (\n",
    "            \"user\",\n",
    "            \"\\n\\n<system>Reflect on the user's original question and the\"\n",
    "            \" actions taken thus far. Respond using the {function_name} function.</reminder>\",\n",
    "        ),\n",
    "    ]\n",
    ").partial(\n",
    "    time=lambda: datetime.datetime.now().isoformat(),\n",
    ")\n",
    "\n",
    "initial_answer_chain = retrieve_from_db_prompt_string.partial(\n",
    "    first_instruction=\"Generate a SQL query to retrieve the data to answer the question.\",\n",
    "    function_name=AnswerQuestion.__name__,\n",
    ") | llm_llama3.bind_tools(tools=[AnswerQuestion])\n",
    "validator = PydanticToolsParser(tools=[AnswerQuestion])\n",
    "\n",
    "first_responder = ResponderWithRetries(\n",
    "    runnable=initial_answer_chain, validator=validator\n",
    ")"
   ],
   "id": "9054e40f1b76aa58",
   "outputs": [],
   "execution_count": 5
  },
  {
   "metadata": {
    "ExecuteTime": {
     "end_time": "2024-07-21T08:36:16.435251Z",
     "start_time": "2024-07-21T08:36:14.554706Z"
    }
   },
   "cell_type": "code",
   "source": [
    "example_question = \"Graph the total number of orders of each customer. X axis of the graph has to be in ascending order.\"\n",
    "initial = first_responder.respond([HumanMessage(content=example_question)])\n",
    "initial"
   ],
   "id": "b4045877af0fcaeb",
   "outputs": [
    {
     "name": "stdout",
     "output_type": "stream",
     "text": [
      "attempt: 0\n",
      "state: [HumanMessage(content='Graph the total number of orders of each customer. X axis of the graph has to be in ascending order.')]\n"
     ]
    },
    {
     "data": {
      "text/plain": [
       "AIMessage(content='', additional_kwargs={'tool_calls': [{'id': 'call_crwz', 'function': {'arguments': '{\"select_query\":\"SELECT customer_id, COUNT(order_id) AS total_orders FROM orders GROUP BY customer_id ORDER BY customer_id ASC\",\"df_columns\":[\"customer_id\",\"total_orders\"],\"df_name\":\"customer_orders\",\"reflection\":{\"good\":\"The query effectively groups the orders by customer ID and counts the total orders for each customer.\",\"improvements\":\"Consider adding a filter to only include customers with a minimum number of orders.\",\"missing\":\"The query does not provide any additional insights beyond the total orders per customer.\"}}', 'name': 'AnswerQuestion'}, 'type': 'function'}]}, response_metadata={'token_usage': {'completion_tokens': 152, 'prompt_tokens': 1916, 'total_tokens': 2068, 'completion_time': 0.483804853, 'prompt_time': 0.246390502, 'queue_time': None, 'total_time': 0.730195355}, 'model_name': 'llama3-70b-8192', 'system_fingerprint': 'fp_c1a4bcec29', 'finish_reason': 'tool_calls', 'logprobs': None}, id='run-a27ec4b1-926a-467a-84ae-32118110e715-0', tool_calls=[{'name': 'AnswerQuestion', 'args': {'select_query': 'SELECT customer_id, COUNT(order_id) AS total_orders FROM orders GROUP BY customer_id ORDER BY customer_id ASC', 'df_columns': ['customer_id', 'total_orders'], 'df_name': 'customer_orders', 'reflection': {'good': 'The query effectively groups the orders by customer ID and counts the total orders for each customer.', 'improvements': 'Consider adding a filter to only include customers with a minimum number of orders.', 'missing': 'The query does not provide any additional insights beyond the total orders per customer.'}}, 'id': 'call_crwz'}])"
      ]
     },
     "execution_count": 6,
     "metadata": {},
     "output_type": "execute_result"
    }
   ],
   "execution_count": 6
  },
  {
   "metadata": {},
   "cell_type": "markdown",
   "source": "### 1.2 Response after Reflexion",
   "id": "9e8a0c1936789ce7"
  },
  {
   "metadata": {
    "ExecuteTime": {
     "end_time": "2024-07-23T13:49:50.533844Z",
     "start_time": "2024-07-23T13:49:50.471745Z"
    }
   },
   "cell_type": "code",
   "source": [
    "revise_instructions = \"\"\"Revise your previous answer using the new information.\n",
    "    - You should use the previous critique to add important information to your answer.\n",
    "\"\"\"\n",
    "\n",
    "\n",
    "class ReviseAnswer(AnswerQuestion):\n",
    "    \"\"\"Revise your original answer to your question. Provide an answer and \n",
    "    reflection on the revised answer.\"\"\"\n",
    "\n",
    "    think_process: list[str] = Field(\n",
    "        description=\"Factors motivating your updated select SQL query.\"\n",
    "    )\n",
    "\n",
    "\n",
    "revision_chain = retrieve_from_db_prompt_string.partial(\n",
    "    first_instruction=revise_instructions,\n",
    "    function_name=ReviseAnswer.__name__,\n",
    ") | llm_llama3.bind_tools(tools=[ReviseAnswer])\n",
    "revision_validator = PydanticToolsParser(tools=[ReviseAnswer])\n",
    "\n",
    "revisor = ResponderWithRetries(runnable=revision_chain, validator=revision_validator)"
   ],
   "id": "9762bacc86771e6b",
   "outputs": [],
   "execution_count": 7
  },
  {
   "metadata": {
    "ExecuteTime": {
     "end_time": "2024-07-23T13:49:55.346941Z",
     "start_time": "2024-07-23T13:49:53.864131Z"
    }
   },
   "cell_type": "code",
   "source": [
    "import json\n",
    "\n",
    "revised = revisor.respond(\n",
    "    [\n",
    "        HumanMessage(content=example_question),\n",
    "        initial,\n",
    "        ToolMessage(\n",
    "            tool_call_id=initial.tool_calls[0][\"id\"],\n",
    "            content=json.dumps(\n",
    "                {\"reflection\": initial.tool_calls[0][\"args\"][\"reflection\"]}\n",
    "            ),\n",
    "        ),\n",
    "    ]\n",
    ")\n",
    "revised"
   ],
   "id": "b077460e81287dc3",
   "outputs": [
    {
     "name": "stdout",
     "output_type": "stream",
     "text": [
      "attempt: 0\n",
      "state: [HumanMessage(content='Graph the total number of orders of each customer. X axis of the graph has to be in ascending order.'), AIMessage(content='', additional_kwargs={'tool_calls': [{'id': 'call_crwz', 'function': {'arguments': '{\"select_query\":\"SELECT customer_id, COUNT(order_id) AS total_orders FROM orders GROUP BY customer_id ORDER BY customer_id ASC\",\"df_columns\":[\"customer_id\",\"total_orders\"],\"df_name\":\"customer_orders\",\"reflection\":{\"good\":\"The query effectively groups the orders by customer ID and counts the total orders for each customer.\",\"improvements\":\"Consider adding a filter to only include customers with a minimum number of orders.\",\"missing\":\"The query does not provide any additional insights beyond the total orders per customer.\"}}', 'name': 'AnswerQuestion'}, 'type': 'function'}]}, response_metadata={'token_usage': {'completion_tokens': 152, 'prompt_tokens': 1916, 'total_tokens': 2068, 'completion_time': 0.483804853, 'prompt_time': 0.246390502, 'queue_time': None, 'total_time': 0.730195355}, 'model_name': 'llama3-70b-8192', 'system_fingerprint': 'fp_c1a4bcec29', 'finish_reason': 'tool_calls', 'logprobs': None}, id='run-a27ec4b1-926a-467a-84ae-32118110e715-0', tool_calls=[{'name': 'AnswerQuestion', 'args': {'select_query': 'SELECT customer_id, COUNT(order_id) AS total_orders FROM orders GROUP BY customer_id ORDER BY customer_id ASC', 'df_columns': ['customer_id', 'total_orders'], 'df_name': 'customer_orders', 'reflection': {'good': 'The query effectively groups the orders by customer ID and counts the total orders for each customer.', 'improvements': 'Consider adding a filter to only include customers with a minimum number of orders.', 'missing': 'The query does not provide any additional insights beyond the total orders per customer.'}}, 'id': 'call_crwz'}]), ToolMessage(content='{\"reflection\": {\"good\": \"The query effectively groups the orders by customer ID and counts the total orders for each customer.\", \"improvements\": \"Consider adding a filter to only include customers with a minimum number of orders.\", \"missing\": \"The query does not provide any additional insights beyond the total orders per customer.\"}}', tool_call_id='call_crwz')]\n"
     ]
    },
    {
     "data": {
      "text/plain": [
       "AIMessage(content='', additional_kwargs={'tool_calls': [{'id': 'call_9fq3', 'function': {'arguments': '{\"select_query\":\"SELECT customer_id, COUNT(order_id) AS total_orders FROM orders GROUP BY customer_id ORDER BY customer_id ASC\",\"df_columns\":[\"customer_id\",\"total_orders\"],\"df_name\":\"customer_orders\",\"reflection\":{\"good\":\"The query effectively groups the orders by customer ID and counts the total orders for each customer.\",\"improvements\":\"Consider adding a filter to only include customers with a minimum number of orders.\",\"missing\":\"The query does not provide any additional insights beyond the total orders per customer.\"},\"think_process\":[\"The original question asked for a graph of the total number of orders for each customer. The query provided accomplishes this task, but could be improved by adding a filter to only include customers with a minimum number of orders.\"]}', 'name': 'ReviseAnswer'}, 'type': 'function'}]}, response_metadata={'token_usage': {'completion_tokens': 179, 'prompt_tokens': 2209, 'total_tokens': 2388, 'completion_time': 0.583402465, 'prompt_time': 0.257725929, 'queue_time': None, 'total_time': 0.8411283940000001}, 'model_name': 'llama3-70b-8192', 'system_fingerprint': 'fp_2f30b0b571', 'finish_reason': 'tool_calls', 'logprobs': None}, id='run-c63ad7b8-9b1c-4b1b-a9cb-2bdb24003911-0', tool_calls=[{'name': 'ReviseAnswer', 'args': {'select_query': 'SELECT customer_id, COUNT(order_id) AS total_orders FROM orders GROUP BY customer_id ORDER BY customer_id ASC', 'df_columns': ['customer_id', 'total_orders'], 'df_name': 'customer_orders', 'reflection': {'good': 'The query effectively groups the orders by customer ID and counts the total orders for each customer.', 'improvements': 'Consider adding a filter to only include customers with a minimum number of orders.', 'missing': 'The query does not provide any additional insights beyond the total orders per customer.'}, 'think_process': ['The original question asked for a graph of the total number of orders for each customer. The query provided accomplishes this task, but could be improved by adding a filter to only include customers with a minimum number of orders.']}, 'id': 'call_9fq3'}])"
      ]
     },
     "execution_count": 8,
     "metadata": {},
     "output_type": "execute_result"
    }
   ],
   "execution_count": 8
  },
  {
   "metadata": {},
   "cell_type": "code",
   "outputs": [],
   "execution_count": null,
   "source": "",
   "id": "6ac5c345f14c1a42"
  }
 ],
 "metadata": {
  "kernelspec": {
   "display_name": "Python 3",
   "language": "python",
   "name": "python3"
  },
  "language_info": {
   "codemirror_mode": {
    "name": "ipython",
    "version": 2
   },
   "file_extension": ".py",
   "mimetype": "text/x-python",
   "name": "python",
   "nbconvert_exporter": "python",
   "pygments_lexer": "ipython2",
   "version": "2.7.6"
  }
 },
 "nbformat": 4,
 "nbformat_minor": 5
}
