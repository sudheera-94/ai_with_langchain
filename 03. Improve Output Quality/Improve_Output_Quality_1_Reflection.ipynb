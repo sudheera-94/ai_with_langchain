{
 "cells": [
  {
   "metadata": {},
   "cell_type": "markdown",
   "source": "## 1. Introduction to Reflection",
   "id": "3bdb9ce116fa1d63"
  },
  {
   "cell_type": "code",
   "id": "initial_id",
   "metadata": {
    "collapsed": true,
    "ExecuteTime": {
     "end_time": "2024-07-20T07:15:40.540602Z",
     "start_time": "2024-07-20T07:15:40.518867Z"
    }
   },
   "source": [
    "import json\n",
    "import os\n",
    "\n",
    "with open('vars.json') as f:\n",
    "    data = json.load(f)\n",
    "\n",
    "openai_api_key = data[\"open_ai_api_key\"]\n",
    "langchain_api_key = data[\"langchain_api_key\"]\n",
    "# tavily_api_key = data[\"tavily_api_key\"]\n",
    "groq_api_key = data[\"groq_api_key\"]\n",
    "\n",
    "iterations = 2\n",
    "\n",
    "# os.environ['LANGCHAIN_TRACING_V2'] = 'true'\n",
    "# os.environ['LANGCHAIN_ENDPOINT'] = 'https://api.smith.langchain.com'\n",
    "# os.environ['LANGCHAIN_API_KEY'] = langchain_api_key"
   ],
   "outputs": [],
   "execution_count": 1
  },
  {
   "metadata": {
    "ExecuteTime": {
     "end_time": "2024-07-20T07:15:41.218601Z",
     "start_time": "2024-07-20T07:15:40.543264Z"
    }
   },
   "cell_type": "code",
   "source": [
    "# Setting up DB connection \n",
    "from langchain_community.utilities import SQLDatabase\n",
    "\n",
    "# Docker command to run pgvector/postgres container\n",
    "# docker run --name pgvector-container -e POSTGRES_USER=langchain -e POSTGRES_PASSWORD=langchain -e POSTGRES_DB=langchain -p 6024:5432 -d pgvector/pgvector:pg16\n",
    "db_config = {\n",
    "    'dbname': 'postgres',\n",
    "    'user': 'langchain',\n",
    "    'password': 'langchain',\n",
    "    'host': 'localhost',\n",
    "    'port': '6024'\n",
    "}\n",
    "\n",
    "connection_string = f\"postgresql+psycopg://{db_config['user']}:{db_config['password']}@{db_config['host']}:{db_config['port']}/{db_config['dbname']}\"\n",
    "\n",
    "db = SQLDatabase.from_uri(connection_string)\n",
    "print(db.table_info)"
   ],
   "id": "a6ea4c5c1f74df40",
   "outputs": [
    {
     "name": "stdout",
     "output_type": "stream",
     "text": [
      "\n",
      "CREATE TABLE customer (\n",
      "\tcustomer_id SERIAL NOT NULL, \n",
      "\tname VARCHAR(100) NOT NULL, \n",
      "\tCONSTRAINT customer_pkey PRIMARY KEY (customer_id)\n",
      ")\n",
      "\n",
      "/*\n",
      "3 rows from customer table:\n",
      "customer_id\tname\n",
      "1\tJohn Doe\n",
      "2\tJane Smith\n",
      "3\tAlice Johnson\n",
      "*/\n",
      "\n",
      "\n",
      "CREATE TABLE feedback (\n",
      "\tfeedback_id SERIAL NOT NULL, \n",
      "\torder_id INTEGER NOT NULL, \n",
      "\tfeedback_text TEXT, \n",
      "\tCONSTRAINT feedback_pkey PRIMARY KEY (feedback_id), \n",
      "\tCONSTRAINT feedback_order_id_fkey FOREIGN KEY(order_id) REFERENCES orders (order_id)\n",
      ")\n",
      "\n",
      "/*\n",
      "3 rows from feedback table:\n",
      "feedback_id\torder_id\tfeedback_text\n",
      "4\t4\tPizza was average.\n",
      "5\t5\tPizza was average.\n",
      "6\t6\tPizza was average.\n",
      "*/\n",
      "\n",
      "\n",
      "CREATE TABLE orders (\n",
      "\torder_id SERIAL NOT NULL, \n",
      "\tcustomer_id INTEGER NOT NULL, \n",
      "\tpreparation_time INTEGER NOT NULL, \n",
      "\torder_date TIMESTAMP WITHOUT TIME ZONE DEFAULT CURRENT_TIMESTAMP, \n",
      "\tCONSTRAINT orders_pkey PRIMARY KEY (order_id), \n",
      "\tCONSTRAINT orders_customer_id_fkey FOREIGN KEY(customer_id) REFERENCES customer (customer_id)\n",
      ")\n",
      "\n",
      "/*\n",
      "3 rows from orders table:\n",
      "order_id\tcustomer_id\tpreparation_time\torder_date\n",
      "1\t7\t11\t2024-06-15 07:22:59.427381\n",
      "2\t13\t13\t2024-06-15 07:22:59.427381\n",
      "3\t8\t20\t2024-06-15 07:22:59.427381\n",
      "*/\n",
      "\n",
      "\n",
      "CREATE TABLE ordertoppings (\n",
      "\torder_id INTEGER NOT NULL, \n",
      "\ttopping_id INTEGER NOT NULL, \n",
      "\tCONSTRAINT ordertoppings_pkey PRIMARY KEY (order_id, topping_id), \n",
      "\tCONSTRAINT ordertoppings_order_id_fkey FOREIGN KEY(order_id) REFERENCES orders (order_id), \n",
      "\tCONSTRAINT ordertoppings_topping_id_fkey FOREIGN KEY(topping_id) REFERENCES toppings (topping_id)\n",
      ")\n",
      "\n",
      "/*\n",
      "3 rows from ordertoppings table:\n",
      "order_id\ttopping_id\n",
      "1\t4\n",
      "1\t2\n",
      "1\t3\n",
      "*/\n",
      "\n",
      "\n",
      "CREATE TABLE toppings (\n",
      "\ttopping_id SERIAL NOT NULL, \n",
      "\tname VARCHAR(50) NOT NULL, \n",
      "\tbase_preparation_time INTEGER NOT NULL, \n",
      "\tCONSTRAINT toppings_pkey PRIMARY KEY (topping_id)\n",
      ")\n",
      "\n",
      "/*\n",
      "3 rows from toppings table:\n",
      "topping_id\tname\tbase_preparation_time\n",
      "1\tPepperoni\t5\n",
      "2\tMushrooms\t3\n",
      "3\tOnions\t2\n",
      "*/\n"
     ]
    }
   ],
   "execution_count": 2
  },
  {
   "metadata": {
    "ExecuteTime": {
     "end_time": "2024-07-20T07:15:43.055333Z",
     "start_time": "2024-07-20T07:15:41.220590Z"
    }
   },
   "cell_type": "code",
   "source": [
    "from langchain_agents._models import get_llm\n",
    "\n",
    "llm_llama3 = get_llm(llm_type='llama3', llm_model='llama3-70b-8192', api_key=groq_api_key)"
   ],
   "id": "ad8bd0094d58e71f",
   "outputs": [],
   "execution_count": 3
  },
  {
   "metadata": {
    "ExecuteTime": {
     "end_time": "2024-07-20T07:15:43.085567Z",
     "start_time": "2024-07-20T07:15:43.056326Z"
    }
   },
   "cell_type": "code",
   "source": [
    "# Step 1 :- Retrieve from SQL \n",
    "from langchain_core.prompts import ChatPromptTemplate\n",
    "\n",
    "from langchain_agents._tools import create_df_from_sql, python_shell\n",
    "from langchain_agents._schemas import AgentState, RawToolMessage\n",
    "\n",
    "retrieve_from_db_prompt_string = f\"\"\"\\\n",
    "You are an expert at PostgreSQL. You have access to a PostgreSQL database \\\n",
    "with the following tables\n",
    "\n",
    "{db.table_info}\n",
    "\n",
    "Given a user question related to the data in the database, \\\n",
    "first get the relevant data from the tables as a DataFrame using the create_df_from_sql tool. \\\n",
    "If the user provides critique, respond with a revised version of your previous attempts.\"\"\"\n",
    "\n",
    "retrieve_from_db_prompt = ChatPromptTemplate.from_messages(\n",
    "    [\n",
    "        (\"system\", retrieve_from_db_prompt_string),\n",
    "        (\"placeholder\", \"{messages}\"),\n",
    "    ]\n",
    ")"
   ],
   "id": "f7610ff699e8f74e",
   "outputs": [],
   "execution_count": 4
  },
  {
   "metadata": {
    "ExecuteTime": {
     "end_time": "2024-07-20T07:15:43.115896Z",
     "start_time": "2024-07-20T07:15:43.087561Z"
    }
   },
   "cell_type": "code",
   "source": [
    "from langchain_core.prompts import MessagesPlaceholder\n",
    "\n",
    "sql_reflection_prompt = ChatPromptTemplate.from_messages(\n",
    "    [\n",
    "        (\n",
    "            \"system\",\n",
    "            \"You are a Data Engineer reviewing an sql query which will be executed in a PostgreSQL database. \"\n",
    "            \"Following will be provided for you. \"\n",
    "            \"{QUESTION}: the question asked regarding the data in the database. \"\n",
    "            \"{QUERY}: the SQL query that will be executed in the database to answer the above question. \"\n",
    "            \"Generate critique and recommendations for the user's query submission. \"\n",
    "            \"Provide detailed recommendations, including additional information that will be helpful while generating reports.\"\n",
    "            f\"The tables in the database are as follows: {db.table_info}.\"\n",
    "        )\n",
    "    ]\n",
    ")\n",
    "sql_reflect = sql_reflection_prompt | llm_llama3"
   ],
   "id": "8049bcedbf49a4df",
   "outputs": [],
   "execution_count": 5
  },
  {
   "metadata": {
    "ExecuteTime": {
     "end_time": "2024-07-20T07:15:46.014136Z",
     "start_time": "2024-07-20T07:15:43.118891Z"
    }
   },
   "cell_type": "code",
   "source": [
    "sql_reflect.invoke(\n",
    "    {\"QUESTION\": \"Graph the total number of orders of each customer. X axis of the graph has to be in ascending order.\",\n",
    "     \"QUERY\": \"SELECT c.name, COUNT(o.order_id) AS total_orders FROM customer c JOIN orders o ON c.customer_id = o.customer_id GROUP BY c.name ORDER BY total_orders ASC;\"\n",
    "     }\n",
    ")"
   ],
   "id": "8878b556fd7304f3",
   "outputs": [
    {
     "data": {
      "text/plain": [
       "AIMessage(content=\"**Critique and Recommendations**\\n\\nThe provided SQL query is:\\n```sql\\nSELECT c.name, COUNT(o.order_id) AS total_orders\\nFROM customer c\\nJOIN orders o ON c.customer_id = o.customer_id\\nGROUP BY c.name\\nORDER BY total_orders ASC;\\n```\\n**Good practices:**\\n\\n1. The query uses a meaningful alias `total_orders` for the count of orders, making it easier to understand the result set.\\n2. The `JOIN` clause is correctly used to link the `customer` and `orders` tables based on the `customer_id` column.\\n\\n**Improvement suggestions:**\\n\\n1. **Consider adding a filter**: The query will return all customers, even if they have no orders. If you only want to show customers with at least one order, add a `HAVING` clause: `HAVING COUNT(o.order_id) > 0`.\\n2. **Use table aliases consistently**: The query uses `c` as an alias for the `customer` table, but not for the `orders` table. For consistency, consider using `o` as an alias for the `orders` table throughout the query.\\n3. **Consider indexing**: If the `customer_id` column in the `orders` table is not indexed, it may lead to slower query performance. Consider creating an index on this column to improve query efficiency.\\n4. **Be mindful of NULL values**: If there are NULL values in the `customer_id` column of the `orders` table, the JOIN will exclude those rows. If you want to include customers with NULL `customer_id` values, consider using a `LEFT JOIN` instead.\\n5. **Consider adding additional columns**: Depending on the requirements, you might want to include additional columns in the result set, such as the total preparation time or average order value.\\n\\n**Additional information for generating reports:**\\n\\n1. **Date range filtering**: If you want to generate reports for a specific date range, consider adding a `WHERE` clause to filter the `order_date` column.\\n2. **Customer segmentation**: You might want to segment customers based on their order frequency, total order value, or other criteria. Consider using window functions or additional columns to facilitate this analysis.\\n3. **Order distribution analysis**: To analyze the distribution of orders across customers, consider using aggregate functions like `AVG`, `MAX`, or `MIN` on the `total_orders` column.\\n\\n**Revised query:**\\n```sql\\nSELECT c.name, COUNT(o.order_id) AS total_orders\\nFROM customer c\\nJOIN orders o ON c.customer_id = o.customer_id\\nWHERE o.order_date >= '2024-01-01' AND o.order_date < '2024-07-01'  -- optional date range filter\\nGROUP BY c.name\\nHAVING COUNT(o.order_id) > 0  -- optional filter for customers with at least one order\\nORDER BY total_orders ASC;\\n```\\nRemember to adjust the query according to your specific reporting requirements and data analysis goals.\", response_metadata={'token_usage': {'completion_tokens': 615, 'prompt_tokens': 681, 'total_tokens': 1296, 'completion_time': 1.873366037, 'prompt_time': 0.115331548, 'queue_time': None, 'total_time': 1.9886975850000002}, 'model_name': 'llama3-70b-8192', 'system_fingerprint': 'fp_753a4aecf6', 'finish_reason': 'stop', 'logprobs': None}, id='run-5ff2fc4d-a939-4091-9830-49901bd69a57-0')"
      ]
     },
     "execution_count": 6,
     "metadata": {},
     "output_type": "execute_result"
    }
   ],
   "execution_count": 6
  },
  {
   "metadata": {
    "ExecuteTime": {
     "end_time": "2024-07-20T07:15:46.092901Z",
     "start_time": "2024-07-20T07:15:46.016133Z"
    }
   },
   "cell_type": "code",
   "source": [
    "from typing import List, Sequence\n",
    "\n",
    "from langgraph.graph import END, StateGraph, START\n",
    "from langchain_core.messages import HumanMessage, AIMessage\n",
    "\n",
    "\n",
    "def retrieve_from_db_model_llama3(state: AgentState) -> dict:\n",
    "    \"\"\"Call model with tools passed in.\"\"\"\n",
    "    messages = []\n",
    "\n",
    "    print(\"-------------------------------------------------------\")\n",
    "    print(f\"retrieve_from_db_model_llama3 :- {state['messages'][-1]}\")\n",
    "    print(\"\\n\")\n",
    "    chain = retrieve_from_db_prompt | llm_llama3.bind_tools([create_df_from_sql])\n",
    "    messages.append(chain.invoke({\"messages\": [state[\"messages\"][-1]]}))\n",
    "    print(f\"retrieve_from_db_model_llama3 messages :- {messages}\")\n",
    "\n",
    "    return {\"messages\": messages}\n",
    "\n",
    "\n",
    "def sql_reflection_node(state: AgentState) -> dict:\n",
    "    print(\"-------------------------------------------------------\")\n",
    "    # First message is the original user request. We hold it the same for all nodes\n",
    "    llm_input = {\n",
    "        \"QUESTION\": state['messages'][0][1],\n",
    "        \"QUERY\": state[\"messages\"][-1].tool_calls[0]['args']['select_query']\n",
    "    }\n",
    "    print(f\"llm_input :- {llm_input}\")\n",
    "    res = sql_reflect.invoke(llm_input)\n",
    "    print(f\"\"\"res :- {res}\"\"\")\n",
    "    # We treat the output of this as human feedback for the generator\n",
    "    return {\"messages\": [res]}\n",
    "\n",
    "\n",
    "builder = StateGraph(AgentState)\n",
    "builder.add_node(\"retrieve_from_db\", retrieve_from_db_model_llama3)\n",
    "builder.add_node(\"sql_reflection\", sql_reflection_node)\n",
    "builder.add_edge(START, \"retrieve_from_db\")\n",
    "\n",
    "\n",
    "def should_continue(state: AgentState):\n",
    "    if len(state[\"messages\"]) > iterations * 2:\n",
    "        return END\n",
    "    return \"sql_reflection\"\n",
    "\n",
    "\n",
    "builder.add_conditional_edges(\"retrieve_from_db\", should_continue)\n",
    "builder.add_edge(\"sql_reflection\", \"retrieve_from_db\")\n",
    "graph = builder.compile()"
   ],
   "id": "a38d42574b1497bb",
   "outputs": [],
   "execution_count": 7
  },
  {
   "metadata": {
    "ExecuteTime": {
     "end_time": "2024-07-20T07:15:47.279047Z",
     "start_time": "2024-07-20T07:15:46.093659Z"
    }
   },
   "cell_type": "code",
   "source": [
    "from IPython.display import Image, display\n",
    "\n",
    "display(Image(graph.get_graph().draw_mermaid_png()))"
   ],
   "id": "8bab5ffe64909a2c",
   "outputs": [
    {
     "data": {
      "image/jpeg": "[encoded data removed]",
      "text/plain": [
       "<IPython.core.display.Image object>"
      ]
     },
     "metadata": {},
     "output_type": "display_data"
    }
   ],
   "execution_count": 8
  },
  {
   "metadata": {
    "ExecuteTime": {
     "end_time": "2024-07-20T07:16:14.321639Z",
     "start_time": "2024-07-20T07:15:49.387721Z"
    }
   },
   "cell_type": "code",
   "source": [
    "output_llama3 = graph.invoke({\"messages\": [\n",
    "    (\"human\", \"Graph the total number of orders of each customer. X axis of the graph has to be in ascending order.\")]})"
   ],
   "id": "6c2ce8d6714f96a9",
   "outputs": [
    {
     "name": "stdout",
     "output_type": "stream",
     "text": [
      "-------------------------------------------------------\n",
      "retrieve_from_db_model_llama3 :- ('human', 'Graph the total number of orders of each customer. X axis of the graph has to be in ascending order.')\n",
      "\n",
      "\n",
      "retrieve_from_db_model_llama3 messages :- [AIMessage(content='', additional_kwargs={'tool_calls': [{'id': 'call_9n06', 'function': {'arguments': '{\"df_columns\":[\"customer_id\",\"count\"],\"df_name\":\"orders_per_customer\",\"input_question\":\"Graph the total number of orders of each customer.\",\"select_query\":\"SELECT customer_id, COUNT(*) AS count FROM orders GROUP BY customer_id ORDER BY customer_id ASC\"}', 'name': 'create_df_from_sql'}, 'type': 'function'}]}, response_metadata={'token_usage': {'completion_tokens': 125, 'prompt_tokens': 1611, 'total_tokens': 1736, 'completion_time': 0.372247958, 'prompt_time': 0.16061355, 'queue_time': None, 'total_time': 0.532861508}, 'model_name': 'llama3-70b-8192', 'system_fingerprint': 'fp_2f30b0b571', 'finish_reason': 'tool_calls', 'logprobs': None}, id='run-cdf8684a-9ed3-4bf4-8472-b20272b9eb93-0', tool_calls=[{'name': 'create_df_from_sql', 'args': {'df_columns': ['customer_id', 'count'], 'df_name': 'orders_per_customer', 'input_question': 'Graph the total number of orders of each customer.', 'select_query': 'SELECT customer_id, COUNT(*) AS count FROM orders GROUP BY customer_id ORDER BY customer_id ASC'}, 'id': 'call_9n06'}])]\n",
      "-------------------------------------------------------\n",
      "llm_input :- {'QUESTION': 'Graph the total number of orders of each customer. X axis of the graph has to be in ascending order.', 'QUERY': 'SELECT customer_id, COUNT(*) AS count FROM orders GROUP BY customer_id ORDER BY customer_id ASC'}\n",
      "res :- content=\"**Query Critique and Recommendations**\\n\\nThe provided SQL query is:\\n```sql\\nSELECT customer_id, COUNT(*) AS count\\nFROM orders\\nGROUP BY customer_id\\nORDER BY customer_id ASC;\\n```\\n**Good:**\\n\\n* The query is simple and easy to understand.\\n* It correctly groups the orders by customer_id and counts the number of orders for each customer.\\n* The ORDER BY clause ensures that the results are sorted in ascending order by customer_id.\\n\\n**Suggestions for Improvement:**\\n\\n1. **Consider adding a filter for active customers**: If you only want to include customers who have placed at least one order, you can add a `HAVING` clause to filter out customers with zero orders:\\n```sql\\nSELECT customer_id, COUNT(*) AS count\\nFROM orders\\nGROUP BY customer_id\\nHAVING COUNT(*) > 0\\nORDER BY customer_id ASC;\\n```\\n2. **Use a more descriptive alias for the count column**: Instead of using `AS count`, consider using a more descriptive alias like `AS num_orders` to make the column name more intuitive:\\n```sql\\nSELECT customer_id, COUNT(*) AS num_orders\\nFROM orders\\nGROUP BY customer_id\\nORDER BY customer_id ASC;\\n```\\n3. **Consider adding a limit or pagination**: If you expect a large number of customers, you may want to add a `LIMIT` clause to restrict the number of results returned, or implement pagination to retrieve results in batches:\\n```sql\\nSELECT customer_id, COUNT(*) AS num_orders\\nFROM orders\\nGROUP BY customer_id\\nORDER BY customer_id ASC\\nLIMIT 10;  -- retrieve only the top 10 customers\\n```\\n4. **Use an index on customer_id**: If the orders table is large, creating an index on the customer_id column can significantly improve query performance:\\n```sql\\nCREATE INDEX idx_orders_customer_id ON orders (customer_id);\\n```\\n**Additional Information for Generating Reports:**\\n\\n* To generate a graph, you'll need to use a reporting tool or a programming language like Python or R to visualize the data. You can use libraries like Matplotlib, Seaborn, or Plotly to create a bar chart or histogram to display the number of orders for each customer.\\n* If you want to include additional information in the report, such as the customer's name or total order value, you can join the orders table with the customer table and use aggregate functions like SUM or AVG to calculate the desired metrics.\\n* Consider adding filters or drill-down capabilities to the report to allow users to explore the data in more detail. For example, you could add a filter to show only customers who have placed orders within a specific date range or who have spent a certain amount.\" response_metadata={'token_usage': {'completion_tokens': 549, 'prompt_tokens': 665, 'total_tokens': 1214, 'completion_time': 1.6685229700000002, 'prompt_time': 0.067896334, 'queue_time': None, 'total_time': 1.7364193040000002}, 'model_name': 'llama3-70b-8192', 'system_fingerprint': 'fp_753a4aecf6', 'finish_reason': 'stop', 'logprobs': None} id='run-fa2fae0b-86e3-4339-9772-7b3c308d9045-0'\n",
      "-------------------------------------------------------\n",
      "retrieve_from_db_model_llama3 :- content=\"**Query Critique and Recommendations**\\n\\nThe provided SQL query is:\\n```sql\\nSELECT customer_id, COUNT(*) AS count\\nFROM orders\\nGROUP BY customer_id\\nORDER BY customer_id ASC;\\n```\\n**Good:**\\n\\n* The query is simple and easy to understand.\\n* It correctly groups the orders by customer_id and counts the number of orders for each customer.\\n* The ORDER BY clause ensures that the results are sorted in ascending order by customer_id.\\n\\n**Suggestions for Improvement:**\\n\\n1. **Consider adding a filter for active customers**: If you only want to include customers who have placed at least one order, you can add a `HAVING` clause to filter out customers with zero orders:\\n```sql\\nSELECT customer_id, COUNT(*) AS count\\nFROM orders\\nGROUP BY customer_id\\nHAVING COUNT(*) > 0\\nORDER BY customer_id ASC;\\n```\\n2. **Use a more descriptive alias for the count column**: Instead of using `AS count`, consider using a more descriptive alias like `AS num_orders` to make the column name more intuitive:\\n```sql\\nSELECT customer_id, COUNT(*) AS num_orders\\nFROM orders\\nGROUP BY customer_id\\nORDER BY customer_id ASC;\\n```\\n3. **Consider adding a limit or pagination**: If you expect a large number of customers, you may want to add a `LIMIT` clause to restrict the number of results returned, or implement pagination to retrieve results in batches:\\n```sql\\nSELECT customer_id, COUNT(*) AS num_orders\\nFROM orders\\nGROUP BY customer_id\\nORDER BY customer_id ASC\\nLIMIT 10;  -- retrieve only the top 10 customers\\n```\\n4. **Use an index on customer_id**: If the orders table is large, creating an index on the customer_id column can significantly improve query performance:\\n```sql\\nCREATE INDEX idx_orders_customer_id ON orders (customer_id);\\n```\\n**Additional Information for Generating Reports:**\\n\\n* To generate a graph, you'll need to use a reporting tool or a programming language like Python or R to visualize the data. You can use libraries like Matplotlib, Seaborn, or Plotly to create a bar chart or histogram to display the number of orders for each customer.\\n* If you want to include additional information in the report, such as the customer's name or total order value, you can join the orders table with the customer table and use aggregate functions like SUM or AVG to calculate the desired metrics.\\n* Consider adding filters or drill-down capabilities to the report to allow users to explore the data in more detail. For example, you could add a filter to show only customers who have placed orders within a specific date range or who have spent a certain amount.\" response_metadata={'token_usage': {'completion_tokens': 549, 'prompt_tokens': 665, 'total_tokens': 1214, 'completion_time': 1.6685229700000002, 'prompt_time': 0.067896334, 'queue_time': None, 'total_time': 1.7364193040000002}, 'model_name': 'llama3-70b-8192', 'system_fingerprint': 'fp_753a4aecf6', 'finish_reason': 'stop', 'logprobs': None} id='run-fa2fae0b-86e3-4339-9772-7b3c308d9045-0'\n",
      "\n",
      "\n",
      "retrieve_from_db_model_llama3 messages :- [AIMessage(content='', additional_kwargs={'tool_calls': [{'id': 'call_hb89', 'function': {'arguments': '{\"select_query\":\"SELECT * FROM customer\",\"df_columns\":[\"customer_id\",\"name\"],\"df_name\":\"customer_df\",\"input_question\":\"Get customer data\"}', 'name': 'create_df_from_sql'}, 'type': 'function'}]}, response_metadata={'token_usage': {'completion_tokens': 77, 'prompt_tokens': 2148, 'total_tokens': 2225, 'completion_time': 0.237945407, 'prompt_time': 0.21491102, 'queue_time': None, 'total_time': 0.452856427}, 'model_name': 'llama3-70b-8192', 'system_fingerprint': 'fp_c1a4bcec29', 'finish_reason': 'tool_calls', 'logprobs': None}, id='run-34f474fb-3114-4d4b-8a2a-8e7a2e39b49b-0', tool_calls=[{'name': 'create_df_from_sql', 'args': {'select_query': 'SELECT * FROM customer', 'df_columns': ['customer_id', 'name'], 'df_name': 'customer_df', 'input_question': 'Get customer data'}, 'id': 'call_hb89'}])]\n",
      "-------------------------------------------------------\n",
      "llm_input :- {'QUESTION': 'Graph the total number of orders of each customer. X axis of the graph has to be in ascending order.', 'QUERY': 'SELECT * FROM customer'}\n",
      "res :- content='**Critique and Recommendations**\\n\\nThe provided SQL query `SELECT * FROM customer` does not answer the question \"Graph the total number of orders of each customer. X axis of the graph has to be in ascending order.\" This query simply selects all columns from the `customer` table, which does not provide any information about the number of orders for each customer.\\n\\nTo answer the question, a more appropriate query would be:\\n```sql\\nSELECT c.name, COUNT(o.order_id) AS num_orders\\nFROM customer c\\nJOIN orders o ON c.customer_id = o.customer_id\\nGROUP BY c.name\\nORDER BY num_orders ASC;\\n```\\nHere\\'s a breakdown of the recommended query:\\n\\n1. `JOIN` the `customer` and `orders` tables on the `customer_id` column to link each customer to their respective orders.\\n2. Use `COUNT(o.order_id)` to count the number of orders for each customer.\\n3. `GROUP BY c.name` to group the results by customer name.\\n4. `ORDER BY num_orders ASC` to sort the results in ascending order by the number of orders.\\n\\n**Additional Recommendations**\\n\\n1. **Use meaningful column aliases**: Instead of using `*` to select all columns, specify the columns you need and use meaningful aliases to make the query more readable.\\n2. **Use table aliases**: Use short aliases for table names to make the query more concise and easier to read.\\n3. **Avoid using `SELECT *`**: This can lead to performance issues and unnecessary data transfer. Instead, specify only the columns you need.\\n4. **Consider indexing**: If you plan to execute this query frequently, consider creating an index on the `customer_id` column in the `orders` table to improve performance.\\n5. **Graphing**: To create a graph, you\\'ll need to use a visualization tool or library that can consume the query results. You may want to consider using a tool like Tableau, Power BI, or D3.js to create the graph.\\n\\nBy following these recommendations, you\\'ll be able to generate a report that accurately answers the question and provides a clear visualization of the data.' response_metadata={'token_usage': {'completion_tokens': 434, 'prompt_tokens': 650, 'total_tokens': 1084, 'completion_time': 1.325727057, 'prompt_time': 0.107585439, 'queue_time': None, 'total_time': 1.4333124959999999}, 'model_name': 'llama3-70b-8192', 'system_fingerprint': 'fp_2f30b0b571', 'finish_reason': 'stop', 'logprobs': None} id='run-1d46f416-1b51-4e89-be03-b2fdbfa5424a-0'\n",
      "-------------------------------------------------------\n",
      "retrieve_from_db_model_llama3 :- content='**Critique and Recommendations**\\n\\nThe provided SQL query `SELECT * FROM customer` does not answer the question \"Graph the total number of orders of each customer. X axis of the graph has to be in ascending order.\" This query simply selects all columns from the `customer` table, which does not provide any information about the number of orders for each customer.\\n\\nTo answer the question, a more appropriate query would be:\\n```sql\\nSELECT c.name, COUNT(o.order_id) AS num_orders\\nFROM customer c\\nJOIN orders o ON c.customer_id = o.customer_id\\nGROUP BY c.name\\nORDER BY num_orders ASC;\\n```\\nHere\\'s a breakdown of the recommended query:\\n\\n1. `JOIN` the `customer` and `orders` tables on the `customer_id` column to link each customer to their respective orders.\\n2. Use `COUNT(o.order_id)` to count the number of orders for each customer.\\n3. `GROUP BY c.name` to group the results by customer name.\\n4. `ORDER BY num_orders ASC` to sort the results in ascending order by the number of orders.\\n\\n**Additional Recommendations**\\n\\n1. **Use meaningful column aliases**: Instead of using `*` to select all columns, specify the columns you need and use meaningful aliases to make the query more readable.\\n2. **Use table aliases**: Use short aliases for table names to make the query more concise and easier to read.\\n3. **Avoid using `SELECT *`**: This can lead to performance issues and unnecessary data transfer. Instead, specify only the columns you need.\\n4. **Consider indexing**: If you plan to execute this query frequently, consider creating an index on the `customer_id` column in the `orders` table to improve performance.\\n5. **Graphing**: To create a graph, you\\'ll need to use a visualization tool or library that can consume the query results. You may want to consider using a tool like Tableau, Power BI, or D3.js to create the graph.\\n\\nBy following these recommendations, you\\'ll be able to generate a report that accurately answers the question and provides a clear visualization of the data.' response_metadata={'token_usage': {'completion_tokens': 434, 'prompt_tokens': 650, 'total_tokens': 1084, 'completion_time': 1.325727057, 'prompt_time': 0.107585439, 'queue_time': None, 'total_time': 1.4333124959999999}, 'model_name': 'llama3-70b-8192', 'system_fingerprint': 'fp_2f30b0b571', 'finish_reason': 'stop', 'logprobs': None} id='run-1d46f416-1b51-4e89-be03-b2fdbfa5424a-0'\n",
      "\n",
      "\n",
      "retrieve_from_db_model_llama3 messages :- [AIMessage(content='', additional_kwargs={'tool_calls': [{'id': 'call_3wb6', 'function': {'arguments': '{\"select_query\":\"SELECT c.name, COUNT(o.order_id) AS num_orders FROM customer c JOIN orders o ON c.customer_id = o.customer_id GROUP BY c.name ORDER BY num_orders ASC\",\"df_columns\":[\"name\",\"num_orders\"],\"df_name\":\"customer_orders\",\"input_question\":\"Graph the total number of orders of each customer. X axis of the graph has to be in ascending order.\"}', 'name': 'create_df_from_sql'}, 'type': 'function'}]}, response_metadata={'token_usage': {'completion_tokens': 127, 'prompt_tokens': 2055, 'total_tokens': 2182, 'completion_time': 0.382853884, 'prompt_time': 0.378394018, 'queue_time': None, 'total_time': 0.761247902}, 'model_name': 'llama3-70b-8192', 'system_fingerprint': 'fp_87cbfbbc4d', 'finish_reason': 'tool_calls', 'logprobs': None}, id='run-315187da-b669-4da6-b862-3e75f06604b7-0', tool_calls=[{'name': 'create_df_from_sql', 'args': {'select_query': 'SELECT c.name, COUNT(o.order_id) AS num_orders FROM customer c JOIN orders o ON c.customer_id = o.customer_id GROUP BY c.name ORDER BY num_orders ASC', 'df_columns': ['name', 'num_orders'], 'df_name': 'customer_orders', 'input_question': 'Graph the total number of orders of each customer. X axis of the graph has to be in ascending order.'}, 'id': 'call_3wb6'}])]\n"
     ]
    }
   ],
   "execution_count": 9
  },
  {
   "metadata": {},
   "cell_type": "markdown",
   "source": "## 2. Adding Reflection to Our Custom LangGraph Agent",
   "id": "22e3de9f3a56740f"
  },
  {
   "metadata": {
    "ExecuteTime": {
     "end_time": "2024-07-20T07:16:15.253529Z",
     "start_time": "2024-07-20T07:16:14.323646Z"
    }
   },
   "cell_type": "code",
   "source": [
    "# Step 2 :- Deciding future step according to the question \n",
    "from langchain_core.pydantic_v1 import BaseModel, Field\n",
    "from langchain_agents._structured_outputs import IsSemantic\n",
    "\n",
    "is_semantic_prompt_string = f\"\"\"\n",
    "You are a Data Analyst. You will be given a QUESTION.\n",
    "You have to decide whether the question is releated to customer feedbacks.\n",
    "\"\"\"\n",
    "\n",
    "is_semantic_prompt = ChatPromptTemplate.from_messages(\n",
    "    [\n",
    "        (\"system\", is_semantic_prompt_string),\n",
    "        (\"human\", \"QUESTION: {question}\"),\n",
    "    ]\n",
    ")\n",
    "\n",
    "\n",
    "def decide_is_semantic_llama3(state: AgentState) -> dict:\n",
    "    \"\"\"Call model to decide weather the question is related to customer feedbacks\"\"\"\n",
    "    messages = []\n",
    "\n",
    "    chain = is_semantic_prompt | llm_llama3.with_structured_output(IsSemantic)\n",
    "    question = state[\"messages\"][-1].tool_calls[0]['args']['input_question']\n",
    "    print(f\"question :- {question}\")\n",
    "    messages.append(chain.invoke({\"question\": question}))\n",
    "    print(f\"is_semantic_model_llama3 :- {messages}\")\n",
    "    print(\"-------------------------------------------------------\")\n",
    "\n",
    "    return {\"messages\": messages}\n",
    "\n",
    "\n",
    "def is_semantic(state: AgentState) -> str:\n",
    "    return \"analyze_feedbacks\" if state[\"messages\"][-1].binary_score == 1 else \"generate_python_script\"\n",
    "\n",
    "\n",
    "# Branch 1. Step 1 :- Generating python code to answer the question\n",
    "from langchain_agents._structured_outputs import PythonScript\n",
    "\n",
    "generate_python_script_prompt_string = f\"\"\"\n",
    "You are a Python expert. \n",
    "You will be given a QUESTION, pandas dataframe name as DATAFRAME_NAME, column names of the dataframe as COLUMN_NAMES \n",
    "and the sql select QUERY used to get the dataframe. \n",
    "Using QUESTION, pandas DATAFRAME_NAME, COLUMN_NAMES of the dataframe and sql QUERY used to get the dataframe as reference \n",
    "Give a Python code to answer the QUESTION. Make sure to print any important results.\n",
    "\"\"\"\n",
    "\n",
    "generate_python_script_prompt = ChatPromptTemplate.from_messages(\n",
    "    [\n",
    "        (\"system\", generate_python_script_prompt_string),\n",
    "        (\"human\",\n",
    "         \"QUESTION: {question}, DATAFRAME_NAME: {dataframe_name}, COLUMN_NAMES: {column_names}, QUERY: {query}\"),\n",
    "    ]\n",
    ")\n",
    "\n",
    "\n",
    "def generate_python_script_llama3(state: AgentState) -> dict:\n",
    "    messages = []\n",
    "\n",
    "    chain = generate_python_script_prompt | llm_llama3.with_structured_output(PythonScript)\n",
    "\n",
    "    question = state[\"messages\"][-2].tool_calls[0]['args']['input_question']\n",
    "    dataframe_name = state[\"messages\"][-2].tool_calls[0]['args']['df_name']\n",
    "    column_names = state[\"messages\"][-2].tool_calls[0]['args']['df_columns']\n",
    "    query = state[\"messages\"][-2].tool_calls[0]['args']['select_query']\n",
    "\n",
    "    messages.append(chain.invoke({\n",
    "        \"question\": question,\n",
    "        \"dataframe_name\": dataframe_name,\n",
    "        \"column_names\": column_names,\n",
    "        \"query\": query\n",
    "    }))\n",
    "    print(\"-------------------------------------------------------\")\n",
    "\n",
    "    return {\"messages\": messages}\n",
    "\n",
    "\n",
    "# Branch 1. Step 2 :- Execute python code \n",
    "from langchain_agents._utils import execute_script, convert_python_result_to_msg_content\n",
    "import pandas as pd\n",
    "\n",
    "\n",
    "def upload_dfs_to_python_env(state: AgentState) -> str:\n",
    "    df_name = state[\"messages\"][-3].tool_calls[0]['args']['df_name']\n",
    "    df_columns = state[\"messages\"][-3].tool_calls[0]['args']['df_columns']\n",
    "    select_query = state[\"messages\"][-3].tool_calls[0]['args']['select_query']\n",
    "\n",
    "    res = db.run(select_query, fetch=\"cursor\").fetchall()\n",
    "    df = pd.DataFrame(res, columns=df_columns)\n",
    "\n",
    "    df_dir = ''\n",
    "    df_path = f\"{df_dir + df_name}\" + '.csv'\n",
    "\n",
    "    # Code for loading the uploaded files.\n",
    "    df_code = \"import pandas as pd\\n\" + \"\\n\" + f\"{df_name} = pd.read_csv('{df_path}')\"\n",
    "    return df_code\n",
    "\n",
    "\n",
    "def execute_python_script(state: AgentState) -> dict:\n",
    "    \"\"\"\n",
    "    Execute the latest generated Python code.\n",
    "    \"\"\"\n",
    "    messages = []\n",
    "\n",
    "    generated_code = state[\"messages\"][-1].code\n",
    "\n",
    "    if generated_code in [None, '']:\n",
    "        return {\"messages\": messages}\n",
    "\n",
    "    df_code = upload_dfs_to_python_env(state)\n",
    "\n",
    "    print(f\"Hard coded read df code :- \\n{df_code}\")\n",
    "    print(f\"AI generated_code :- \\n{generated_code}\")\n",
    "    print(\"-------------------------------------------\")\n",
    "\n",
    "    python_result = execute_script(df_code + \"\\n\" + generated_code)\n",
    "\n",
    "    messages.append(\n",
    "        RawToolMessage(\n",
    "            convert_python_result_to_msg_content(python_result),\n",
    "            raw=python_result,\n",
    "            tool_call_id=state[\"messages\"][-3].tool_calls[0]['id'],\n",
    "            tool_name=state[\"messages\"][-3].tool_calls[0]['name'],\n",
    "        )\n",
    "    )\n",
    "    return {\"messages\": messages}\n",
    "\n",
    "\n",
    "# Branch 2. Step 1 :- Analyze feedbacks \n",
    "from langchain_agents._structured_outputs import FeedbackAnalysis\n",
    "\n",
    "prompt = ChatPromptTemplate.from_template(\n",
    "    \"Can you please give me a sentiment score for this customer feedback on a scale of 1 to 10, where 1 represents extremely negative sentiment and 10 represents extremely positive sentiment? {feedback}\")\n",
    "\n",
    "chain = prompt | llm_llama3.with_structured_output(schema=FeedbackAnalysis)\n",
    "\n",
    "\n",
    "def analyze_feedbaks(state: AgentState) -> dict:\n",
    "    results_list = []\n",
    "\n",
    "    # TODO :- get feedbacks extract query from previous steps \n",
    "    select_query = \"SELECT DISTINCT feedback_text FROM feedback\"\n",
    "    results = db.run(select_query, fetch=\"cursor\").fetchall()\n",
    "    for row in results:\n",
    "        results_list.append({\"feedback\": row[0]})\n",
    "\n",
    "    feedbacks_list = chain.batch(results_list)\n",
    "    feedbacks_list = [x.__dict__ for x in feedbacks_list]\n",
    "    for feedback in feedbacks_list:\n",
    "        print(feedback)\n",
    "\n",
    "    print(\"-------------------------------------------------------\")\n",
    "\n",
    "    return {\"messages\": []}"
   ],
   "id": "a624829f82754733",
   "outputs": [],
   "execution_count": 10
  },
  {
   "metadata": {
    "ExecuteTime": {
     "end_time": "2024-07-20T07:19:40.001955Z",
     "start_time": "2024-07-20T07:19:38.586004Z"
    }
   },
   "cell_type": "code",
   "source": [
    "def should_continue(state: AgentState):\n",
    "    if len(state[\"messages\"]) > iterations * 2:\n",
    "        return \"decide_is_semantic_llama3\"\n",
    "    return \"sql_reflection\"\n",
    "\n",
    "\n",
    "workflow_llama3 = StateGraph(AgentState)\n",
    "\n",
    "workflow_llama3.add_node(\"retrive_from_db_model_llama3\", retrieve_from_db_model_llama3)\n",
    "workflow_llama3.add_node(\"sql_reflection\", sql_reflection_node)\n",
    "workflow_llama3.add_node(\"decide_is_semantic_llama3\", decide_is_semantic_llama3)\n",
    "workflow_llama3.add_node(\"generate_python_script_llama3\", generate_python_script_llama3)\n",
    "workflow_llama3.add_node(\"execute_python_script\", execute_python_script)\n",
    "workflow_llama3.add_node(\"analyze_feedbaks\", analyze_feedbaks)\n",
    "\n",
    "workflow_llama3.set_entry_point(\"retrive_from_db_model_llama3\")\n",
    "workflow_llama3.add_conditional_edges(\n",
    "    \"retrive_from_db_model_llama3\",\n",
    "    should_continue,\n",
    "    {\n",
    "        \"decide_is_semantic_llama3\": \"decide_is_semantic_llama3\",\n",
    "        \"sql_reflection\": \"sql_reflection\"\n",
    "    }\n",
    ")\n",
    "workflow_llama3.add_edge(\"sql_reflection\", \"retrive_from_db_model_llama3\")\n",
    "workflow_llama3.add_conditional_edges(\n",
    "    \"decide_is_semantic_llama3\",\n",
    "    is_semantic,\n",
    "    {\n",
    "        \"analyze_feedbacks\": \"analyze_feedbaks\",\n",
    "        \"generate_python_script\": \"generate_python_script_llama3\",\n",
    "    },\n",
    ")\n",
    "workflow_llama3.add_edge(\"generate_python_script_llama3\", \"execute_python_script\")\n",
    "workflow_llama3.add_edge(\"execute_python_script\", END)\n",
    "workflow_llama3.add_edge(\"analyze_feedbaks\", END)\n",
    "\n",
    "app_llama3 = workflow_llama3.compile()\n",
    "print(\"llama3 Agent :- \")\n",
    "display(Image(app_llama3.get_graph().draw_mermaid_png()))"
   ],
   "id": "62c96916a7904bca",
   "outputs": [
    {
     "name": "stdout",
     "output_type": "stream",
     "text": [
      "llama3 Agent :- \n"
     ]
    },
    {
     "data": {
      "image/jpeg": "[encoded data removed]",
      "text/plain": [
       "<IPython.core.display.Image object>"
      ]
     },
     "metadata": {},
     "output_type": "display_data"
    }
   ],
   "execution_count": 13
  },
  {
   "metadata": {
    "ExecuteTime": {
     "end_time": "2024-07-20T07:21:00.439337Z",
     "start_time": "2024-07-20T07:20:22.728967Z"
    }
   },
   "cell_type": "code",
   "source": [
    "print(\"-------------------------------------------------------\")\n",
    "output_llama3 = app_llama3.invoke({\"messages\": [(\"human\", \"Graph the total number of orders of each customer. X axis of the graph has to be in ascending order.\")]})\n",
    "print(output_llama3[\"messages\"][-1].content)"
   ],
   "id": "c6bb6e40f1941005",
   "outputs": [
    {
     "name": "stdout",
     "output_type": "stream",
     "text": [
      "-------------------------------------------------------\n",
      "-------------------------------------------------------\n",
      "retrieve_from_db_model_llama3 :- ('human', 'Graph the total number of orders of each customer. X axis of the graph has to be in ascending order.')\n",
      "\n",
      "\n",
      "retrieve_from_db_model_llama3 messages :- [AIMessage(content='', additional_kwargs={'tool_calls': [{'id': 'call_16xp', 'function': {'arguments': '{\"df_columns\":[\"customer_id\",\"count\"],\"df_name\":\"orders_per_customer\",\"input_question\":\"Graph the total number of orders of each customer.\",\"select_query\":\"SELECT customer_id, COUNT(*) AS count FROM orders GROUP BY customer_id ORDER BY customer_id ASC\"}', 'name': 'create_df_from_sql'}, 'type': 'function'}]}, response_metadata={'token_usage': {'completion_tokens': 125, 'prompt_tokens': 1611, 'total_tokens': 1736, 'completion_time': 0.382803431, 'prompt_time': 0.233124771, 'queue_time': None, 'total_time': 0.6159282020000001}, 'model_name': 'llama3-70b-8192', 'system_fingerprint': 'fp_2f30b0b571', 'finish_reason': 'tool_calls', 'logprobs': None}, id='run-a2a4601e-cde1-4475-a6f3-b6371e2000fa-0', tool_calls=[{'name': 'create_df_from_sql', 'args': {'df_columns': ['customer_id', 'count'], 'df_name': 'orders_per_customer', 'input_question': 'Graph the total number of orders of each customer.', 'select_query': 'SELECT customer_id, COUNT(*) AS count FROM orders GROUP BY customer_id ORDER BY customer_id ASC'}, 'id': 'call_16xp'}])]\n",
      "-------------------------------------------------------\n",
      "llm_input :- {'QUESTION': 'Graph the total number of orders of each customer. X axis of the graph has to be in ascending order.', 'QUERY': 'SELECT customer_id, COUNT(*) AS count FROM orders GROUP BY customer_id ORDER BY customer_id ASC'}\n",
      "res :- content=\"**Query Critique and Recommendations**\\n\\nThe provided SQL query is:\\n```sql\\nSELECT customer_id, COUNT(*) AS count\\nFROM orders\\nGROUP BY customer_id\\nORDER BY customer_id ASC;\\n```\\n**Good:**\\n\\n* The query is simple and easy to understand.\\n* It correctly groups the orders by customer_id and counts the number of orders for each customer.\\n* The ORDER BY clause ensures that the results are sorted in ascending order by customer_id.\\n\\n**Suggestions for Improvement:**\\n\\n1. **Consider adding a filter for active customers**: If you only want to include customers who have placed at least one order, you can add a `HAVING` clause to filter out customers with zero orders:\\n```sql\\nSELECT customer_id, COUNT(*) AS count\\nFROM orders\\nGROUP BY customer_id\\nHAVING COUNT(*) > 0\\nORDER BY customer_id ASC;\\n```\\n2. **Use a more descriptive alias for the count column**: Instead of using `AS count`, consider using a more descriptive alias like `AS num_orders` to make the column name more intuitive:\\n```sql\\nSELECT customer_id, COUNT(*) AS num_orders\\nFROM orders\\nGROUP BY customer_id\\nORDER BY customer_id ASC;\\n```\\n3. **Consider adding a limit or pagination**: If you expect a large number of customers, you may want to add a `LIMIT` clause to restrict the number of results returned, or implement pagination to retrieve results in batches:\\n```sql\\nSELECT customer_id, COUNT(*) AS num_orders\\nFROM orders\\nGROUP BY customer_id\\nORDER BY customer_id ASC\\nLIMIT 10;  -- retrieve only the top 10 customers\\n```\\n4. **Use an index on customer_id**: If the orders table is large, creating an index on the customer_id column can significantly improve query performance:\\n```sql\\nCREATE INDEX idx_orders_customer_id ON orders (customer_id);\\n```\\n**Additional Information for Generating Reports:**\\n\\n* To generate a graph, you'll need to use a reporting tool or a programming language like Python or R to visualize the data. You can use libraries like Matplotlib, Seaborn, or Plotly to create a bar chart or histogram to display the number of orders for each customer.\\n* If you want to include additional information in the report, such as the customer's name or total order value, you can join the orders table with the customer table and use aggregate functions like SUM or AVG to calculate the desired metrics.\\n* Consider adding filters or drill-down capabilities to the report to allow users to explore the data in more detail. For example, you could add a filter to show only customers who have placed orders within a specific date range or who have spent a certain amount.\" response_metadata={'token_usage': {'completion_tokens': 549, 'prompt_tokens': 665, 'total_tokens': 1214, 'completion_time': 1.679111834, 'prompt_time': 0.072288133, 'queue_time': None, 'total_time': 1.751399967}, 'model_name': 'llama3-70b-8192', 'system_fingerprint': 'fp_2f30b0b571', 'finish_reason': 'stop', 'logprobs': None} id='run-7b65f584-c234-401b-87a3-ab549f9c083e-0'\n",
      "-------------------------------------------------------\n",
      "retrieve_from_db_model_llama3 :- content=\"**Query Critique and Recommendations**\\n\\nThe provided SQL query is:\\n```sql\\nSELECT customer_id, COUNT(*) AS count\\nFROM orders\\nGROUP BY customer_id\\nORDER BY customer_id ASC;\\n```\\n**Good:**\\n\\n* The query is simple and easy to understand.\\n* It correctly groups the orders by customer_id and counts the number of orders for each customer.\\n* The ORDER BY clause ensures that the results are sorted in ascending order by customer_id.\\n\\n**Suggestions for Improvement:**\\n\\n1. **Consider adding a filter for active customers**: If you only want to include customers who have placed at least one order, you can add a `HAVING` clause to filter out customers with zero orders:\\n```sql\\nSELECT customer_id, COUNT(*) AS count\\nFROM orders\\nGROUP BY customer_id\\nHAVING COUNT(*) > 0\\nORDER BY customer_id ASC;\\n```\\n2. **Use a more descriptive alias for the count column**: Instead of using `AS count`, consider using a more descriptive alias like `AS num_orders` to make the column name more intuitive:\\n```sql\\nSELECT customer_id, COUNT(*) AS num_orders\\nFROM orders\\nGROUP BY customer_id\\nORDER BY customer_id ASC;\\n```\\n3. **Consider adding a limit or pagination**: If you expect a large number of customers, you may want to add a `LIMIT` clause to restrict the number of results returned, or implement pagination to retrieve results in batches:\\n```sql\\nSELECT customer_id, COUNT(*) AS num_orders\\nFROM orders\\nGROUP BY customer_id\\nORDER BY customer_id ASC\\nLIMIT 10;  -- retrieve only the top 10 customers\\n```\\n4. **Use an index on customer_id**: If the orders table is large, creating an index on the customer_id column can significantly improve query performance:\\n```sql\\nCREATE INDEX idx_orders_customer_id ON orders (customer_id);\\n```\\n**Additional Information for Generating Reports:**\\n\\n* To generate a graph, you'll need to use a reporting tool or a programming language like Python or R to visualize the data. You can use libraries like Matplotlib, Seaborn, or Plotly to create a bar chart or histogram to display the number of orders for each customer.\\n* If you want to include additional information in the report, such as the customer's name or total order value, you can join the orders table with the customer table and use aggregate functions like SUM or AVG to calculate the desired metrics.\\n* Consider adding filters or drill-down capabilities to the report to allow users to explore the data in more detail. For example, you could add a filter to show only customers who have placed orders within a specific date range or who have spent a certain amount.\" response_metadata={'token_usage': {'completion_tokens': 549, 'prompt_tokens': 665, 'total_tokens': 1214, 'completion_time': 1.679111834, 'prompt_time': 0.072288133, 'queue_time': None, 'total_time': 1.751399967}, 'model_name': 'llama3-70b-8192', 'system_fingerprint': 'fp_2f30b0b571', 'finish_reason': 'stop', 'logprobs': None} id='run-7b65f584-c234-401b-87a3-ab549f9c083e-0'\n",
      "\n",
      "\n",
      "retrieve_from_db_model_llama3 messages :- [AIMessage(content='', additional_kwargs={'tool_calls': [{'id': 'call_9f0c', 'function': {'arguments': '{\"select_query\":\"SELECT * FROM customer\",\"df_columns\":[\"customer_id\",\"name\"],\"df_name\":\"customer_df\",\"input_question\":\"Get customer data\"}', 'name': 'create_df_from_sql'}, 'type': 'function'}]}, response_metadata={'token_usage': {'completion_tokens': 77, 'prompt_tokens': 2148, 'total_tokens': 2225, 'completion_time': 0.234249727, 'prompt_time': 0.305250011, 'queue_time': None, 'total_time': 0.539499738}, 'model_name': 'llama3-70b-8192', 'system_fingerprint': 'fp_87cbfbbc4d', 'finish_reason': 'tool_calls', 'logprobs': None}, id='run-f49e128a-4855-41c7-8cf1-9dd5d49ee2f9-0', tool_calls=[{'name': 'create_df_from_sql', 'args': {'select_query': 'SELECT * FROM customer', 'df_columns': ['customer_id', 'name'], 'df_name': 'customer_df', 'input_question': 'Get customer data'}, 'id': 'call_9f0c'}])]\n",
      "-------------------------------------------------------\n",
      "llm_input :- {'QUESTION': 'Graph the total number of orders of each customer. X axis of the graph has to be in ascending order.', 'QUERY': 'SELECT * FROM customer'}\n",
      "res :- content='**Critique and Recommendations**\\n\\nThe provided SQL query `SELECT * FROM customer` does not answer the question \"Graph the total number of orders of each customer. X axis of the graph has to be in ascending order.\" This query simply selects all columns from the `customer` table, which does not provide any information about the number of orders for each customer.\\n\\nTo answer the question, a more appropriate query would be:\\n```sql\\nSELECT c.name, COUNT(o.order_id) AS num_orders\\nFROM customer c\\nJOIN orders o ON c.customer_id = o.customer_id\\nGROUP BY c.name\\nORDER BY num_orders ASC;\\n```\\nHere\\'s a breakdown of the recommended query:\\n\\n1. `JOIN` the `customer` and `orders` tables on the `customer_id` column to link each customer to their respective orders.\\n2. Use `COUNT(o.order_id)` to count the number of orders for each customer.\\n3. `GROUP BY c.name` to group the results by customer name.\\n4. `ORDER BY num_orders ASC` to sort the results in ascending order by the number of orders.\\n\\n**Additional Recommendations**\\n\\n1. **Use meaningful column aliases**: Instead of using `*` to select all columns, specify the columns you need and use meaningful aliases to make the query more readable.\\n2. **Use table aliases**: Use short aliases for table names to make the query more concise and easier to read.\\n3. **Avoid using `SELECT *`**: This can lead to performance issues and unnecessary data transfer. Instead, specify only the columns you need.\\n4. **Consider indexing**: If you plan to execute this query frequently, consider creating an index on the `customer_id` column in the `orders` table to improve performance.\\n5. **Graphing**: To create a graph, you\\'ll need to use a visualization tool or library that can consume the query results. You may want to consider using a tool like Tableau, Power BI, or D3.js to create the graph.\\n\\nBy following these recommendations, you\\'ll be able to generate a report that accurately answers the question and provides a clear visualization of the data.' response_metadata={'token_usage': {'completion_tokens': 434, 'prompt_tokens': 650, 'total_tokens': 1084, 'completion_time': 1.313469553, 'prompt_time': 0.092431078, 'queue_time': None, 'total_time': 1.405900631}, 'model_name': 'llama3-70b-8192', 'system_fingerprint': 'fp_753a4aecf6', 'finish_reason': 'stop', 'logprobs': None} id='run-0792635c-19a3-466d-8984-22efe8d0f0b0-0'\n",
      "-------------------------------------------------------\n",
      "retrieve_from_db_model_llama3 :- content='**Critique and Recommendations**\\n\\nThe provided SQL query `SELECT * FROM customer` does not answer the question \"Graph the total number of orders of each customer. X axis of the graph has to be in ascending order.\" This query simply selects all columns from the `customer` table, which does not provide any information about the number of orders for each customer.\\n\\nTo answer the question, a more appropriate query would be:\\n```sql\\nSELECT c.name, COUNT(o.order_id) AS num_orders\\nFROM customer c\\nJOIN orders o ON c.customer_id = o.customer_id\\nGROUP BY c.name\\nORDER BY num_orders ASC;\\n```\\nHere\\'s a breakdown of the recommended query:\\n\\n1. `JOIN` the `customer` and `orders` tables on the `customer_id` column to link each customer to their respective orders.\\n2. Use `COUNT(o.order_id)` to count the number of orders for each customer.\\n3. `GROUP BY c.name` to group the results by customer name.\\n4. `ORDER BY num_orders ASC` to sort the results in ascending order by the number of orders.\\n\\n**Additional Recommendations**\\n\\n1. **Use meaningful column aliases**: Instead of using `*` to select all columns, specify the columns you need and use meaningful aliases to make the query more readable.\\n2. **Use table aliases**: Use short aliases for table names to make the query more concise and easier to read.\\n3. **Avoid using `SELECT *`**: This can lead to performance issues and unnecessary data transfer. Instead, specify only the columns you need.\\n4. **Consider indexing**: If you plan to execute this query frequently, consider creating an index on the `customer_id` column in the `orders` table to improve performance.\\n5. **Graphing**: To create a graph, you\\'ll need to use a visualization tool or library that can consume the query results. You may want to consider using a tool like Tableau, Power BI, or D3.js to create the graph.\\n\\nBy following these recommendations, you\\'ll be able to generate a report that accurately answers the question and provides a clear visualization of the data.' response_metadata={'token_usage': {'completion_tokens': 434, 'prompt_tokens': 650, 'total_tokens': 1084, 'completion_time': 1.313469553, 'prompt_time': 0.092431078, 'queue_time': None, 'total_time': 1.405900631}, 'model_name': 'llama3-70b-8192', 'system_fingerprint': 'fp_753a4aecf6', 'finish_reason': 'stop', 'logprobs': None} id='run-0792635c-19a3-466d-8984-22efe8d0f0b0-0'\n",
      "\n",
      "\n",
      "retrieve_from_db_model_llama3 messages :- [AIMessage(content='', additional_kwargs={'tool_calls': [{'id': 'call_by0k', 'function': {'arguments': '{\"select_query\":\"SELECT c.name, COUNT(o.order_id) AS num_orders FROM customer c JOIN orders o ON c.customer_id = o.customer_id GROUP BY c.name ORDER BY num_orders ASC\",\"df_columns\":[\"name\",\"num_orders\"],\"df_name\":\"customer_orders\",\"input_question\":\"Graph the total number of orders of each customer. X axis of the graph has to be in ascending order.\"}', 'name': 'create_df_from_sql'}, 'type': 'function'}]}, response_metadata={'token_usage': {'completion_tokens': 127, 'prompt_tokens': 2055, 'total_tokens': 2182, 'completion_time': 0.379994131, 'prompt_time': 0.356596154, 'queue_time': None, 'total_time': 0.736590285}, 'model_name': 'llama3-70b-8192', 'system_fingerprint': 'fp_87cbfbbc4d', 'finish_reason': 'tool_calls', 'logprobs': None}, id='run-68c3a7b6-fcd9-43f5-a8be-a311b445c6ba-0', tool_calls=[{'name': 'create_df_from_sql', 'args': {'select_query': 'SELECT c.name, COUNT(o.order_id) AS num_orders FROM customer c JOIN orders o ON c.customer_id = o.customer_id GROUP BY c.name ORDER BY num_orders ASC', 'df_columns': ['name', 'num_orders'], 'df_name': 'customer_orders', 'input_question': 'Graph the total number of orders of each customer. X axis of the graph has to be in ascending order.'}, 'id': 'call_by0k'}])]\n",
      "question :- Graph the total number of orders of each customer. X axis of the graph has to be in ascending order.\n",
      "is_semantic_model_llama3 :- [IsSemantic(binary_score=0)]\n",
      "-------------------------------------------------------\n",
      "-------------------------------------------------------\n",
      "Hard coded read df code :- \n",
      "import pandas as pd\n",
      "\n",
      "customer_orders = pd.read_csv('customer_orders.csv')\n",
      "AI generated_code :- \n",
      "import matplotlib.pyplot as plt\n",
      "import pandas as pd\n",
      "\n",
      "customer_orders.groupby('name')['num_orders'].sum().sort_values().plot(kind='bar')\n",
      "plt.xlabel('Customer Name')\n",
      "plt.ylabel('Total Number of Orders')\n",
      "plt.title('Total Number of Orders per Customer')\n",
      "plt.show()\n",
      "-------------------------------------------\n",
      "{\n",
      "  \"status\": \"failed\",\n",
      "  \"stdout\": \"\",\n",
      "  \"stderr\": \"\"\n",
      "}\n"
     ]
    }
   ],
   "execution_count": 14
  },
  {
   "metadata": {},
   "cell_type": "code",
   "outputs": [],
   "execution_count": null,
   "source": "",
   "id": "6a04e9c229ccdd3b"
  }
 ],
 "metadata": {
  "kernelspec": {
   "display_name": "Python 3",
   "language": "python",
   "name": "python3"
  },
  "language_info": {
   "codemirror_mode": {
    "name": "ipython",
    "version": 2
   },
   "file_extension": ".py",
   "mimetype": "text/x-python",
   "name": "python",
   "nbconvert_exporter": "python",
   "pygments_lexer": "ipython2",
   "version": "2.7.6"
  }
 },
 "nbformat": 4,
 "nbformat_minor": 5
}
