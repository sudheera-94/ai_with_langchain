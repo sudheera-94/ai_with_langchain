{
 "cells": [
  {
   "cell_type": "code",
   "id": "initial_id",
   "metadata": {
    "collapsed": true,
    "ExecuteTime": {
     "end_time": "2024-07-17T03:22:34.887448Z",
     "start_time": "2024-07-17T03:22:34.861020Z"
    }
   },
   "source": [
    "import json\n",
    "import os\n",
    "\n",
    "with open('vars.json') as f:\n",
    "    data = json.load(f)\n",
    "\n",
    "openai_api_key = data[\"open_ai_api_key\"]\n",
    "langchain_api_key = data[\"langchain_api_key\"]\n",
    "# tavily_api_key = data[\"tavily_api_key\"]\n",
    "groq_api_key = data[\"groq_api_key\"]\n",
    "\n",
    "iterations = 2\n",
    "\n",
    "# os.environ['LANGCHAIN_TRACING_V2'] = 'true'\n",
    "# os.environ['LANGCHAIN_ENDPOINT'] = 'https://api.smith.langchain.com'\n",
    "# os.environ['LANGCHAIN_API_KEY'] = langchain_api_key"
   ],
   "outputs": [],
   "execution_count": 1
  },
  {
   "metadata": {
    "ExecuteTime": {
     "end_time": "2024-07-17T03:22:38.664794Z",
     "start_time": "2024-07-17T03:22:37.426950Z"
    }
   },
   "cell_type": "code",
   "source": [
    "# Setting up DB connection \n",
    "from langchain_community.utilities import SQLDatabase\n",
    "\n",
    "# Docker command to run pgvector/postgres container\n",
    "# docker run --name pgvector-container -e POSTGRES_USER=langchain -e POSTGRES_PASSWORD=langchain -e POSTGRES_DB=langchain -p 6024:5432 -d pgvector/pgvector:pg16\n",
    "db_config = {\n",
    "    'dbname': 'postgres',\n",
    "    'user': 'langchain',\n",
    "    'password': 'langchain',\n",
    "    'host': 'localhost',\n",
    "    'port': '6024'\n",
    "}\n",
    "\n",
    "connection_string = f\"postgresql+psycopg://{db_config['user']}:{db_config['password']}@{db_config['host']}:{db_config['port']}/{db_config['dbname']}\"\n",
    "\n",
    "db = SQLDatabase.from_uri(connection_string)\n",
    "print(db.table_info)"
   ],
   "id": "a6ea4c5c1f74df40",
   "outputs": [
    {
     "name": "stdout",
     "output_type": "stream",
     "text": [
      "\n",
      "CREATE TABLE customer (\n",
      "\tcustomer_id SERIAL NOT NULL, \n",
      "\tname VARCHAR(100) NOT NULL, \n",
      "\tCONSTRAINT customer_pkey PRIMARY KEY (customer_id)\n",
      ")\n",
      "\n",
      "/*\n",
      "3 rows from customer table:\n",
      "customer_id\tname\n",
      "1\tJohn Doe\n",
      "2\tJane Smith\n",
      "3\tAlice Johnson\n",
      "*/\n",
      "\n",
      "\n",
      "CREATE TABLE feedback (\n",
      "\tfeedback_id SERIAL NOT NULL, \n",
      "\torder_id INTEGER NOT NULL, \n",
      "\tfeedback_text TEXT, \n",
      "\tCONSTRAINT feedback_pkey PRIMARY KEY (feedback_id), \n",
      "\tCONSTRAINT feedback_order_id_fkey FOREIGN KEY(order_id) REFERENCES orders (order_id)\n",
      ")\n",
      "\n",
      "/*\n",
      "3 rows from feedback table:\n",
      "feedback_id\torder_id\tfeedback_text\n",
      "4\t4\tPizza was average.\n",
      "5\t5\tPizza was average.\n",
      "6\t6\tPizza was average.\n",
      "*/\n",
      "\n",
      "\n",
      "CREATE TABLE orders (\n",
      "\torder_id SERIAL NOT NULL, \n",
      "\tcustomer_id INTEGER NOT NULL, \n",
      "\tpreparation_time INTEGER NOT NULL, \n",
      "\torder_date TIMESTAMP WITHOUT TIME ZONE DEFAULT CURRENT_TIMESTAMP, \n",
      "\tCONSTRAINT orders_pkey PRIMARY KEY (order_id), \n",
      "\tCONSTRAINT orders_customer_id_fkey FOREIGN KEY(customer_id) REFERENCES customer (customer_id)\n",
      ")\n",
      "\n",
      "/*\n",
      "3 rows from orders table:\n",
      "order_id\tcustomer_id\tpreparation_time\torder_date\n",
      "1\t7\t11\t2024-06-15 07:22:59.427381\n",
      "2\t13\t13\t2024-06-15 07:22:59.427381\n",
      "3\t8\t20\t2024-06-15 07:22:59.427381\n",
      "*/\n",
      "\n",
      "\n",
      "CREATE TABLE ordertoppings (\n",
      "\torder_id INTEGER NOT NULL, \n",
      "\ttopping_id INTEGER NOT NULL, \n",
      "\tCONSTRAINT ordertoppings_pkey PRIMARY KEY (order_id, topping_id), \n",
      "\tCONSTRAINT ordertoppings_order_id_fkey FOREIGN KEY(order_id) REFERENCES orders (order_id), \n",
      "\tCONSTRAINT ordertoppings_topping_id_fkey FOREIGN KEY(topping_id) REFERENCES toppings (topping_id)\n",
      ")\n",
      "\n",
      "/*\n",
      "3 rows from ordertoppings table:\n",
      "order_id\ttopping_id\n",
      "1\t4\n",
      "1\t2\n",
      "1\t3\n",
      "*/\n",
      "\n",
      "\n",
      "CREATE TABLE toppings (\n",
      "\ttopping_id SERIAL NOT NULL, \n",
      "\tname VARCHAR(50) NOT NULL, \n",
      "\tbase_preparation_time INTEGER NOT NULL, \n",
      "\tCONSTRAINT toppings_pkey PRIMARY KEY (topping_id)\n",
      ")\n",
      "\n",
      "/*\n",
      "3 rows from toppings table:\n",
      "topping_id\tname\tbase_preparation_time\n",
      "1\tPepperoni\t5\n",
      "2\tMushrooms\t3\n",
      "3\tOnions\t2\n",
      "*/\n"
     ]
    }
   ],
   "execution_count": 2
  },
  {
   "metadata": {
    "ExecuteTime": {
     "end_time": "2024-07-17T03:22:42.274782Z",
     "start_time": "2024-07-17T03:22:38.670191Z"
    }
   },
   "cell_type": "code",
   "source": [
    "from langchain_agents._models import get_llm\n",
    "\n",
    "llm_llama3 = get_llm(llm_type='llama3', llm_model='llama3-70b-8192', api_key=groq_api_key)"
   ],
   "id": "ad8bd0094d58e71f",
   "outputs": [],
   "execution_count": 3
  },
  {
   "metadata": {
    "ExecuteTime": {
     "end_time": "2024-07-17T03:22:42.305872Z",
     "start_time": "2024-07-17T03:22:42.278664Z"
    }
   },
   "cell_type": "code",
   "source": [
    "# Step 1 :- Retrieve from SQL \n",
    "from langchain_core.prompts import ChatPromptTemplate\n",
    "\n",
    "from langchain_agents._tools import create_df_from_sql, python_shell\n",
    "from langchain_agents._schemas import AgentState, RawToolMessage\n",
    "\n",
    "retrieve_from_db_prompt_string = f\"\"\"\\\n",
    "You are an expert at PostgreSQL. You have access to a PostgreSQL database \\\n",
    "with the following tables\n",
    "\n",
    "{db.table_info}\n",
    "\n",
    "Given a user question related to the data in the database, \\\n",
    "first get the relevant data from the tables as a DataFrame using the create_df_from_sql tool. \\\n",
    "If the user provides critique, respond with a revised version of your previous attempts.\"\"\"\n",
    "\n",
    "retrieve_from_db_prompt = ChatPromptTemplate.from_messages(\n",
    "    [\n",
    "        (\"system\", retrieve_from_db_prompt_string),\n",
    "        (\"placeholder\", \"{messages}\"),\n",
    "    ]\n",
    ")"
   ],
   "id": "f7610ff699e8f74e",
   "outputs": [],
   "execution_count": 4
  },
  {
   "metadata": {
    "ExecuteTime": {
     "end_time": "2024-07-17T03:22:42.336565Z",
     "start_time": "2024-07-17T03:22:42.307871Z"
    }
   },
   "cell_type": "code",
   "source": [
    "from langchain_core.prompts import MessagesPlaceholder\n",
    "\n",
    "sql_reflection_prompt = ChatPromptTemplate.from_messages(\n",
    "    [\n",
    "        (\n",
    "            \"system\",\n",
    "            \"You are a Data Engineer reviewing an sql query which will be executed in a PostgreSQL database. \"\n",
    "            \"Following will be provided for you. \"\n",
    "            \"{QUESTION}: the question asked regarding the data in the database. \"\n",
    "            \"{QUERY}: the SQL query that will be executed in the database to answer the above question. \"\n",
    "            \"Generate critique and recommendations for the user's query submission. \"\n",
    "            \"Provide detailed recommendations, including additional information that will be helpful while generating reports.\"\n",
    "            f\"The tables in the database are as follows: {db.table_info}.\"\n",
    "        )\n",
    "    ]\n",
    ")\n",
    "sql_reflect = sql_reflection_prompt | llm_llama3"
   ],
   "id": "8049bcedbf49a4df",
   "outputs": [],
   "execution_count": 5
  },
  {
   "metadata": {
    "ExecuteTime": {
     "end_time": "2024-07-17T03:24:21.189680Z",
     "start_time": "2024-07-17T03:24:18.084665Z"
    }
   },
   "cell_type": "code",
   "source": [
    "sql_reflect.invoke(\n",
    "    {\"QUESTION\": \"Graph the total number of orders of each customer. X axis of the graph has to be in ascending order.\",\n",
    "     \"QUERY\": \"SELECT c.name, COUNT(o.order_id) AS total_orders FROM customer c JOIN orders o ON c.customer_id = o.customer_id GROUP BY c.name ORDER BY total_orders ASC;\"\n",
    "     }\n",
    ")"
   ],
   "id": "8878b556fd7304f3",
   "outputs": [
    {
     "data": {
      "text/plain": [
       "AIMessage(content=\"**Critique and Recommendations**\\n\\nThe provided SQL query is:\\n```sql\\nSELECT c.name, COUNT(o.order_id) AS total_orders\\nFROM customer c\\nJOIN orders o ON c.customer_id = o.customer_id\\nGROUP BY c.name\\nORDER BY total_orders ASC;\\n```\\n**Good practices:**\\n\\n1. The query uses a meaningful alias `total_orders` for the count of orders, making it easier to understand the result set.\\n2. The `JOIN` clause is correctly used to link the `customer` and `orders` tables based on the `customer_id` column.\\n\\n**Improvement suggestions:**\\n\\n1. **Consider adding a filter**: The query will return all customers, even if they have no orders. If you only want to show customers with at least one order, add a `HAVING` clause: `HAVING COUNT(o.order_id) > 0`.\\n2. **Use table aliases consistently**: The query uses `c` as an alias for the `customer` table, but not for the `orders` table. For consistency, consider using `o` as an alias for the `orders` table throughout the query.\\n3. **Consider indexing**: If the `customer_id` column in the `orders` table is not indexed, it may lead to slower query performance. Consider creating an index on this column to improve query efficiency.\\n4. **Be mindful of NULL values**: If there are NULL values in the `customer_id` column of the `orders` table, the JOIN will exclude those rows. If you want to include customers with NULL `customer_id` values, consider using a `LEFT JOIN` instead.\\n5. **Consider adding additional columns**: Depending on the requirements, you might want to include additional columns in the result set, such as the total preparation time or average order value.\\n\\n**Additional information for generating reports:**\\n\\n1. **Date range filtering**: If you want to generate reports for a specific date range, consider adding a `WHERE` clause to filter the `order_date` column.\\n2. **Customer segmentation**: You might want to segment customers based on their order frequency, total order value, or other criteria. Consider using window functions or additional columns to facilitate this analysis.\\n3. **Order distribution analysis**: To analyze the distribution of orders across customers, consider using aggregate functions like `AVG`, `MAX`, or `MIN` on the `total_orders` column.\\n\\n**Revised query:**\\n```sql\\nSELECT c.name, COUNT(o.order_id) AS total_orders\\nFROM customer c\\nJOIN orders o ON c.customer_id = o.customer_id\\nWHERE o.order_date >= '2024-01-01' AND o.order_date < '2024-07-01'  -- optional date range filter\\nGROUP BY c.name\\nHAVING COUNT(o.order_id) > 0  -- optional filter for customers with at least one order\\nORDER BY total_orders ASC;\\n```\\nRemember to adjust the query according to your specific reporting requirements and data analysis goals.\", response_metadata={'token_usage': {'completion_tokens': 615, 'prompt_tokens': 681, 'total_tokens': 1296, 'completion_time': 1.8766014420000001, 'prompt_time': 0.2139363, 'queue_time': None, 'total_time': 2.090537742}, 'model_name': 'llama3-70b-8192', 'system_fingerprint': 'fp_753a4aecf6', 'finish_reason': 'stop', 'logprobs': None}, id='run-f47f6174-707a-4067-881c-e2b4007a03f9-0')"
      ]
     },
     "execution_count": 11,
     "metadata": {},
     "output_type": "execute_result"
    }
   ],
   "execution_count": 11
  },
  {
   "metadata": {
    "ExecuteTime": {
     "end_time": "2024-07-17T03:24:41.238992Z",
     "start_time": "2024-07-17T03:24:41.215403Z"
    }
   },
   "cell_type": "code",
   "source": [
    "from typing import List, Sequence\n",
    "\n",
    "from langgraph.graph import END, StateGraph, START\n",
    "from langchain_core.messages import HumanMessage, AIMessage\n",
    "\n",
    "\n",
    "def retrieve_from_db_model_llama3(state: AgentState) -> dict:\n",
    "    \"\"\"Call model with tools passed in.\"\"\"\n",
    "    messages = []\n",
    "\n",
    "    print(\"-------------------------------------------------------\")\n",
    "    print(f\"retrieve_from_db_model_llama3 :- {state['messages'][-1]}\")\n",
    "    print(\"\\n\")\n",
    "    chain = retrieve_from_db_prompt | llm_llama3.bind_tools([create_df_from_sql])\n",
    "    messages.append(chain.invoke({\"messages\": [state[\"messages\"][-1]]}))\n",
    "    print(f\"retrieve_from_db_model_llama3 messages :- {messages}\")\n",
    "\n",
    "    return {\"messages\": messages}\n",
    "\n",
    "\n",
    "def sql_reflection_node(state: AgentState) -> dict:\n",
    "    print(\"-------------------------------------------------------\")\n",
    "    # First message is the original user request. We hold it the same for all nodes\n",
    "    llm_input = {\n",
    "        \"QUESTION\": state['messages'][0][1],\n",
    "        \"QUERY\": state[\"messages\"][-1].tool_calls[0]['args']['select_query']\n",
    "    }\n",
    "    print(f\"llm_input :- {llm_input}\")\n",
    "    res = sql_reflect.invoke(llm_input)\n",
    "    print(f\"\"\"res :- {res}\"\"\")\n",
    "    # We treat the output of this as human feedback for the generator\n",
    "    return {\"messages\": [res]}\n",
    "\n",
    "\n",
    "builder = StateGraph(AgentState)\n",
    "builder.add_node(\"retrieve_from_db\", retrieve_from_db_model_llama3)\n",
    "builder.add_node(\"sql_reflection\", sql_reflection_node)\n",
    "builder.add_edge(START, \"retrieve_from_db\")\n",
    "\n",
    "\n",
    "def should_continue(state: AgentState):\n",
    "    if len(state[\"messages\"]) > iterations * 2:\n",
    "        return END\n",
    "    return \"sql_reflection\"\n",
    "\n",
    "\n",
    "builder.add_conditional_edges(\"retrieve_from_db\", should_continue)\n",
    "builder.add_edge(\"sql_reflection\", \"retrieve_from_db\")\n",
    "graph = builder.compile()"
   ],
   "id": "a38d42574b1497bb",
   "outputs": [],
   "execution_count": 12
  },
  {
   "metadata": {
    "ExecuteTime": {
     "end_time": "2024-07-17T03:24:43.151122Z",
     "start_time": "2024-07-17T03:24:42.371018Z"
    }
   },
   "cell_type": "code",
   "source": [
    "from IPython.display import Image, display\n",
    "\n",
    "display(Image(graph.get_graph().draw_mermaid_png()))"
   ],
   "id": "8bab5ffe64909a2c",
   "outputs": [
    {
     "data": {
      "image/jpeg": "[encoded data removed]",
      "text/plain": [
       "<IPython.core.display.Image object>"
      ]
     },
     "metadata": {},
     "output_type": "display_data"
    }
   ],
   "execution_count": 13
  },
  {
   "metadata": {
    "ExecuteTime": {
     "end_time": "2024-07-17T03:25:01.262172Z",
     "start_time": "2024-07-17T03:24:44.233530Z"
    }
   },
   "cell_type": "code",
   "source": "output_llama3 = graph.invoke({\"messages\": [(\"human\", \"Graph the total number of orders of each customer. X axis of the graph has to be in ascending order.\")]})",
   "id": "6c2ce8d6714f96a9",
   "outputs": [
    {
     "name": "stdout",
     "output_type": "stream",
     "text": [
      "-------------------------------------------------------\n",
      "retrieve_from_db_model_llama3 :- ('human', 'Graph the total number of orders of each customer. X axis of the graph has to be in ascending order.')\n",
      "\n",
      "\n",
      "retrieve_from_db_model_llama3 messages :- [AIMessage(content='', additional_kwargs={'tool_calls': [{'id': 'call_gyjh', 'function': {'arguments': '{\"df_columns\":[\"customer_id\",\"count\"],\"df_name\":\"orders_per_customer\",\"input_question\":\"Graph the total number of orders of each customer.\",\"select_query\":\"SELECT customer_id, COUNT(*) AS count FROM orders GROUP BY customer_id ORDER BY customer_id ASC\"}', 'name': 'create_df_from_sql'}, 'type': 'function'}]}, response_metadata={'token_usage': {'completion_tokens': 125, 'prompt_tokens': 1611, 'total_tokens': 1736, 'completion_time': 0.383162358, 'prompt_time': 0.333321868, 'queue_time': None, 'total_time': 0.716484226}, 'model_name': 'llama3-70b-8192', 'system_fingerprint': 'fp_c1a4bcec29', 'finish_reason': 'tool_calls', 'logprobs': None}, id='run-94a1e1ef-1a6b-4040-88f8-3f41611f78ef-0', tool_calls=[{'name': 'create_df_from_sql', 'args': {'df_columns': ['customer_id', 'count'], 'df_name': 'orders_per_customer', 'input_question': 'Graph the total number of orders of each customer.', 'select_query': 'SELECT customer_id, COUNT(*) AS count FROM orders GROUP BY customer_id ORDER BY customer_id ASC'}, 'id': 'call_gyjh'}])]\n",
      "-------------------------------------------------------\n",
      "llm_input :- {'QUESTION': 'Graph the total number of orders of each customer. X axis of the graph has to be in ascending order.', 'QUERY': 'SELECT customer_id, COUNT(*) AS count FROM orders GROUP BY customer_id ORDER BY customer_id ASC'}\n",
      "res :- content=\"**Query Critique and Recommendations**\\n\\nThe provided SQL query is:\\n```sql\\nSELECT customer_id, COUNT(*) AS count\\nFROM orders\\nGROUP BY customer_id\\nORDER BY customer_id ASC;\\n```\\n**Good:**\\n\\n* The query is simple and easy to understand.\\n* It correctly groups the orders by customer_id and counts the number of orders for each customer.\\n* The ORDER BY clause ensures that the results are sorted in ascending order by customer_id.\\n\\n**Suggestions for Improvement:**\\n\\n1. **Consider adding a filter for active customers**: If you only want to include customers who have placed at least one order, you can add a `HAVING` clause to filter out customers with zero orders:\\n```sql\\nSELECT customer_id, COUNT(*) AS count\\nFROM orders\\nGROUP BY customer_id\\nHAVING COUNT(*) > 0\\nORDER BY customer_id ASC;\\n```\\n2. **Use a more descriptive alias for the count column**: Instead of using `AS count`, consider using a more descriptive alias like `AS num_orders` to make the column name more intuitive:\\n```sql\\nSELECT customer_id, COUNT(*) AS num_orders\\nFROM orders\\nGROUP BY customer_id\\nORDER BY customer_id ASC;\\n```\\n3. **Consider adding a limit or pagination**: If you expect a large number of customers, you may want to add a `LIMIT` clause to restrict the number of results returned, or implement pagination to retrieve results in batches:\\n```sql\\nSELECT customer_id, COUNT(*) AS num_orders\\nFROM orders\\nGROUP BY customer_id\\nORDER BY customer_id ASC\\nLIMIT 10;  -- retrieve only the top 10 customers\\n```\\n4. **Use an index on customer_id**: If the orders table is large, creating an index on the customer_id column can significantly improve query performance:\\n```sql\\nCREATE INDEX idx_orders_customer_id ON orders (customer_id);\\n```\\n**Additional Information for Generating Reports:**\\n\\n* To generate a graph, you'll need to use a reporting tool or a programming language like Python or R to visualize the data. You can use libraries like Matplotlib, Seaborn, or Plotly to create a bar chart or histogram to display the number of orders for each customer.\\n* If you want to include additional information in the report, such as the customer's name or total order value, you can join the orders table with the customer table and use aggregate functions like SUM or AVG to calculate the desired metrics.\\n* Consider adding filters or drill-down capabilities to the report to allow users to explore the data in more detail. For example, you could add a filter to show only customers who have placed orders within a specific date range or who have spent a certain amount.\" response_metadata={'token_usage': {'completion_tokens': 549, 'prompt_tokens': 665, 'total_tokens': 1214, 'completion_time': 1.671241577, 'prompt_time': 0.326537337, 'queue_time': None, 'total_time': 1.997778914}, 'model_name': 'llama3-70b-8192', 'system_fingerprint': 'fp_87cbfbbc4d', 'finish_reason': 'stop', 'logprobs': None} id='run-b5ed8b7f-d63f-4260-bd6e-7d1842c4adb6-0'\n",
      "-------------------------------------------------------\n",
      "retrieve_from_db_model_llama3 :- content=\"**Query Critique and Recommendations**\\n\\nThe provided SQL query is:\\n```sql\\nSELECT customer_id, COUNT(*) AS count\\nFROM orders\\nGROUP BY customer_id\\nORDER BY customer_id ASC;\\n```\\n**Good:**\\n\\n* The query is simple and easy to understand.\\n* It correctly groups the orders by customer_id and counts the number of orders for each customer.\\n* The ORDER BY clause ensures that the results are sorted in ascending order by customer_id.\\n\\n**Suggestions for Improvement:**\\n\\n1. **Consider adding a filter for active customers**: If you only want to include customers who have placed at least one order, you can add a `HAVING` clause to filter out customers with zero orders:\\n```sql\\nSELECT customer_id, COUNT(*) AS count\\nFROM orders\\nGROUP BY customer_id\\nHAVING COUNT(*) > 0\\nORDER BY customer_id ASC;\\n```\\n2. **Use a more descriptive alias for the count column**: Instead of using `AS count`, consider using a more descriptive alias like `AS num_orders` to make the column name more intuitive:\\n```sql\\nSELECT customer_id, COUNT(*) AS num_orders\\nFROM orders\\nGROUP BY customer_id\\nORDER BY customer_id ASC;\\n```\\n3. **Consider adding a limit or pagination**: If you expect a large number of customers, you may want to add a `LIMIT` clause to restrict the number of results returned, or implement pagination to retrieve results in batches:\\n```sql\\nSELECT customer_id, COUNT(*) AS num_orders\\nFROM orders\\nGROUP BY customer_id\\nORDER BY customer_id ASC\\nLIMIT 10;  -- retrieve only the top 10 customers\\n```\\n4. **Use an index on customer_id**: If the orders table is large, creating an index on the customer_id column can significantly improve query performance:\\n```sql\\nCREATE INDEX idx_orders_customer_id ON orders (customer_id);\\n```\\n**Additional Information for Generating Reports:**\\n\\n* To generate a graph, you'll need to use a reporting tool or a programming language like Python or R to visualize the data. You can use libraries like Matplotlib, Seaborn, or Plotly to create a bar chart or histogram to display the number of orders for each customer.\\n* If you want to include additional information in the report, such as the customer's name or total order value, you can join the orders table with the customer table and use aggregate functions like SUM or AVG to calculate the desired metrics.\\n* Consider adding filters or drill-down capabilities to the report to allow users to explore the data in more detail. For example, you could add a filter to show only customers who have placed orders within a specific date range or who have spent a certain amount.\" response_metadata={'token_usage': {'completion_tokens': 549, 'prompt_tokens': 665, 'total_tokens': 1214, 'completion_time': 1.671241577, 'prompt_time': 0.326537337, 'queue_time': None, 'total_time': 1.997778914}, 'model_name': 'llama3-70b-8192', 'system_fingerprint': 'fp_87cbfbbc4d', 'finish_reason': 'stop', 'logprobs': None} id='run-b5ed8b7f-d63f-4260-bd6e-7d1842c4adb6-0'\n",
      "\n",
      "\n",
      "retrieve_from_db_model_llama3 messages :- [AIMessage(content='', additional_kwargs={'tool_calls': [{'id': 'call_9f32', 'function': {'arguments': '{\"select_query\":\"SELECT * FROM customer\",\"df_columns\":[\"customer_id\",\"name\"],\"df_name\":\"customer_df\",\"input_question\":\"Get customer data\"}', 'name': 'create_df_from_sql'}, 'type': 'function'}]}, response_metadata={'token_usage': {'completion_tokens': 77, 'prompt_tokens': 2148, 'total_tokens': 2225, 'completion_time': 0.235493395, 'prompt_time': 0.266756046, 'queue_time': None, 'total_time': 0.502249441}, 'model_name': 'llama3-70b-8192', 'system_fingerprint': 'fp_c1a4bcec29', 'finish_reason': 'tool_calls', 'logprobs': None}, id='run-5fb43c5e-a0b5-4ebe-a4af-c04b67a6baf5-0', tool_calls=[{'name': 'create_df_from_sql', 'args': {'select_query': 'SELECT * FROM customer', 'df_columns': ['customer_id', 'name'], 'df_name': 'customer_df', 'input_question': 'Get customer data'}, 'id': 'call_9f32'}])]\n",
      "-------------------------------------------------------\n",
      "llm_input :- {'QUESTION': 'Graph the total number of orders of each customer. X axis of the graph has to be in ascending order.', 'QUERY': 'SELECT * FROM customer'}\n",
      "res :- content='**Critique and Recommendations**\\n\\nThe provided SQL query `SELECT * FROM customer` does not answer the question \"Graph the total number of orders of each customer. X axis of the graph has to be in ascending order.\" This query simply selects all columns from the `customer` table, which does not provide any information about the number of orders for each customer.\\n\\nTo answer the question, a more appropriate query would be:\\n```sql\\nSELECT c.name, COUNT(o.order_id) AS num_orders\\nFROM customer c\\nJOIN orders o ON c.customer_id = o.customer_id\\nGROUP BY c.name\\nORDER BY num_orders ASC;\\n```\\nHere\\'s a breakdown of the recommended query:\\n\\n1. `JOIN` the `customer` and `orders` tables on the `customer_id` column to link each customer to their respective orders.\\n2. Use `COUNT(o.order_id)` to count the number of orders for each customer.\\n3. `GROUP BY c.name` to group the results by customer name.\\n4. `ORDER BY num_orders ASC` to sort the results in ascending order by the number of orders.\\n\\n**Additional Recommendations**\\n\\n1. **Use meaningful column aliases**: Instead of using `*` to select all columns, specify the columns you need and use meaningful aliases to make the query more readable.\\n2. **Use table aliases**: Use short aliases for table names (e.g., `c` for `customer`) to make the query more concise.\\n3. **Avoid using `SELECT *`**: This can lead to performance issues and unnecessary data transfer. Instead, specify only the columns you need.\\n4. **Consider indexing**: If you plan to execute this query frequently, consider creating an index on the `customer_id` column in the `orders` table to improve performance.\\n5. **Graphing**: To create a graph, you\\'ll need to use a visualization tool or library that can consume the query results. Some popular options include Tableau, Power BI, or Python libraries like Matplotlib or Seaborn.\\n\\nBy following these recommendations, you\\'ll be able to generate a report that accurately answers the question and provides a clear visualization of the data.' response_metadata={'token_usage': {'completion_tokens': 438, 'prompt_tokens': 650, 'total_tokens': 1088, 'completion_time': 1.344148927, 'prompt_time': 0.082051143, 'queue_time': None, 'total_time': 1.42620007}, 'model_name': 'llama3-70b-8192', 'system_fingerprint': 'fp_87cbfbbc4d', 'finish_reason': 'stop', 'logprobs': None} id='run-eda9f5ed-9c47-4ffc-8c4e-f9df5899efb4-0'\n",
      "-------------------------------------------------------\n",
      "retrieve_from_db_model_llama3 :- content='**Critique and Recommendations**\\n\\nThe provided SQL query `SELECT * FROM customer` does not answer the question \"Graph the total number of orders of each customer. X axis of the graph has to be in ascending order.\" This query simply selects all columns from the `customer` table, which does not provide any information about the number of orders for each customer.\\n\\nTo answer the question, a more appropriate query would be:\\n```sql\\nSELECT c.name, COUNT(o.order_id) AS num_orders\\nFROM customer c\\nJOIN orders o ON c.customer_id = o.customer_id\\nGROUP BY c.name\\nORDER BY num_orders ASC;\\n```\\nHere\\'s a breakdown of the recommended query:\\n\\n1. `JOIN` the `customer` and `orders` tables on the `customer_id` column to link each customer to their respective orders.\\n2. Use `COUNT(o.order_id)` to count the number of orders for each customer.\\n3. `GROUP BY c.name` to group the results by customer name.\\n4. `ORDER BY num_orders ASC` to sort the results in ascending order by the number of orders.\\n\\n**Additional Recommendations**\\n\\n1. **Use meaningful column aliases**: Instead of using `*` to select all columns, specify the columns you need and use meaningful aliases to make the query more readable.\\n2. **Use table aliases**: Use short aliases for table names (e.g., `c` for `customer`) to make the query more concise.\\n3. **Avoid using `SELECT *`**: This can lead to performance issues and unnecessary data transfer. Instead, specify only the columns you need.\\n4. **Consider indexing**: If you plan to execute this query frequently, consider creating an index on the `customer_id` column in the `orders` table to improve performance.\\n5. **Graphing**: To create a graph, you\\'ll need to use a visualization tool or library that can consume the query results. Some popular options include Tableau, Power BI, or Python libraries like Matplotlib or Seaborn.\\n\\nBy following these recommendations, you\\'ll be able to generate a report that accurately answers the question and provides a clear visualization of the data.' response_metadata={'token_usage': {'completion_tokens': 438, 'prompt_tokens': 650, 'total_tokens': 1088, 'completion_time': 1.344148927, 'prompt_time': 0.082051143, 'queue_time': None, 'total_time': 1.42620007}, 'model_name': 'llama3-70b-8192', 'system_fingerprint': 'fp_87cbfbbc4d', 'finish_reason': 'stop', 'logprobs': None} id='run-eda9f5ed-9c47-4ffc-8c4e-f9df5899efb4-0'\n",
      "\n",
      "\n",
      "retrieve_from_db_model_llama3 messages :- [AIMessage(content='', additional_kwargs={'tool_calls': [{'id': 'call_gcmc', 'function': {'arguments': '{\"select_query\":\"SELECT c.name, COUNT(o.order_id) AS num_orders FROM customer c JOIN orders o ON c.customer_id = o.customer_id GROUP BY c.name ORDER BY num_orders ASC\",\"df_columns\":[\"name\",\"num_orders\"],\"df_name\":\"customer_orders\",\"input_question\":\"Graph the total number of orders of each customer. X axis of the graph has to be in ascending order.\"}', 'name': 'create_df_from_sql'}, 'type': 'function'}]}, response_metadata={'token_usage': {'completion_tokens': 127, 'prompt_tokens': 2059, 'total_tokens': 2186, 'completion_time': 0.388438767, 'prompt_time': 0.259526259, 'queue_time': None, 'total_time': 0.647965026}, 'model_name': 'llama3-70b-8192', 'system_fingerprint': 'fp_753a4aecf6', 'finish_reason': 'tool_calls', 'logprobs': None}, id='run-04fff3fd-3945-4a19-818a-5d68f7cb0a01-0', tool_calls=[{'name': 'create_df_from_sql', 'args': {'select_query': 'SELECT c.name, COUNT(o.order_id) AS num_orders FROM customer c JOIN orders o ON c.customer_id = o.customer_id GROUP BY c.name ORDER BY num_orders ASC', 'df_columns': ['name', 'num_orders'], 'df_name': 'customer_orders', 'input_question': 'Graph the total number of orders of each customer. X axis of the graph has to be in ascending order.'}, 'id': 'call_gcmc'}])]\n"
     ]
    }
   ],
   "execution_count": 14
  },
  {
   "metadata": {
    "ExecuteTime": {
     "end_time": "2024-07-17T03:25:08.627528Z",
     "start_time": "2024-07-17T03:25:08.610752Z"
    }
   },
   "cell_type": "code",
   "source": [
    "print(\"=============================================\")\n",
    "print(output_llama3[\"messages\"])"
   ],
   "id": "693a5bf46c03273b",
   "outputs": [
    {
     "name": "stdout",
     "output_type": "stream",
     "text": [
      "=============================================\n",
      "[('human', 'Graph the total number of orders of each customer. X axis of the graph has to be in ascending order.'), AIMessage(content='', additional_kwargs={'tool_calls': [{'id': 'call_gyjh', 'function': {'arguments': '{\"df_columns\":[\"customer_id\",\"count\"],\"df_name\":\"orders_per_customer\",\"input_question\":\"Graph the total number of orders of each customer.\",\"select_query\":\"SELECT customer_id, COUNT(*) AS count FROM orders GROUP BY customer_id ORDER BY customer_id ASC\"}', 'name': 'create_df_from_sql'}, 'type': 'function'}]}, response_metadata={'token_usage': {'completion_tokens': 125, 'prompt_tokens': 1611, 'total_tokens': 1736, 'completion_time': 0.383162358, 'prompt_time': 0.333321868, 'queue_time': None, 'total_time': 0.716484226}, 'model_name': 'llama3-70b-8192', 'system_fingerprint': 'fp_c1a4bcec29', 'finish_reason': 'tool_calls', 'logprobs': None}, id='run-94a1e1ef-1a6b-4040-88f8-3f41611f78ef-0', tool_calls=[{'name': 'create_df_from_sql', 'args': {'df_columns': ['customer_id', 'count'], 'df_name': 'orders_per_customer', 'input_question': 'Graph the total number of orders of each customer.', 'select_query': 'SELECT customer_id, COUNT(*) AS count FROM orders GROUP BY customer_id ORDER BY customer_id ASC'}, 'id': 'call_gyjh'}]), AIMessage(content=\"**Query Critique and Recommendations**\\n\\nThe provided SQL query is:\\n```sql\\nSELECT customer_id, COUNT(*) AS count\\nFROM orders\\nGROUP BY customer_id\\nORDER BY customer_id ASC;\\n```\\n**Good:**\\n\\n* The query is simple and easy to understand.\\n* It correctly groups the orders by customer_id and counts the number of orders for each customer.\\n* The ORDER BY clause ensures that the results are sorted in ascending order by customer_id.\\n\\n**Suggestions for Improvement:**\\n\\n1. **Consider adding a filter for active customers**: If you only want to include customers who have placed at least one order, you can add a `HAVING` clause to filter out customers with zero orders:\\n```sql\\nSELECT customer_id, COUNT(*) AS count\\nFROM orders\\nGROUP BY customer_id\\nHAVING COUNT(*) > 0\\nORDER BY customer_id ASC;\\n```\\n2. **Use a more descriptive alias for the count column**: Instead of using `AS count`, consider using a more descriptive alias like `AS num_orders` to make the column name more intuitive:\\n```sql\\nSELECT customer_id, COUNT(*) AS num_orders\\nFROM orders\\nGROUP BY customer_id\\nORDER BY customer_id ASC;\\n```\\n3. **Consider adding a limit or pagination**: If you expect a large number of customers, you may want to add a `LIMIT` clause to restrict the number of results returned, or implement pagination to retrieve results in batches:\\n```sql\\nSELECT customer_id, COUNT(*) AS num_orders\\nFROM orders\\nGROUP BY customer_id\\nORDER BY customer_id ASC\\nLIMIT 10;  -- retrieve only the top 10 customers\\n```\\n4. **Use an index on customer_id**: If the orders table is large, creating an index on the customer_id column can significantly improve query performance:\\n```sql\\nCREATE INDEX idx_orders_customer_id ON orders (customer_id);\\n```\\n**Additional Information for Generating Reports:**\\n\\n* To generate a graph, you'll need to use a reporting tool or a programming language like Python or R to visualize the data. You can use libraries like Matplotlib, Seaborn, or Plotly to create a bar chart or histogram to display the number of orders for each customer.\\n* If you want to include additional information in the report, such as the customer's name or total order value, you can join the orders table with the customer table and use aggregate functions like SUM or AVG to calculate the desired metrics.\\n* Consider adding filters or drill-down capabilities to the report to allow users to explore the data in more detail. For example, you could add a filter to show only customers who have placed orders within a specific date range or who have spent a certain amount.\", response_metadata={'token_usage': {'completion_tokens': 549, 'prompt_tokens': 665, 'total_tokens': 1214, 'completion_time': 1.671241577, 'prompt_time': 0.326537337, 'queue_time': None, 'total_time': 1.997778914}, 'model_name': 'llama3-70b-8192', 'system_fingerprint': 'fp_87cbfbbc4d', 'finish_reason': 'stop', 'logprobs': None}, id='run-b5ed8b7f-d63f-4260-bd6e-7d1842c4adb6-0'), AIMessage(content='', additional_kwargs={'tool_calls': [{'id': 'call_9f32', 'function': {'arguments': '{\"select_query\":\"SELECT * FROM customer\",\"df_columns\":[\"customer_id\",\"name\"],\"df_name\":\"customer_df\",\"input_question\":\"Get customer data\"}', 'name': 'create_df_from_sql'}, 'type': 'function'}]}, response_metadata={'token_usage': {'completion_tokens': 77, 'prompt_tokens': 2148, 'total_tokens': 2225, 'completion_time': 0.235493395, 'prompt_time': 0.266756046, 'queue_time': None, 'total_time': 0.502249441}, 'model_name': 'llama3-70b-8192', 'system_fingerprint': 'fp_c1a4bcec29', 'finish_reason': 'tool_calls', 'logprobs': None}, id='run-5fb43c5e-a0b5-4ebe-a4af-c04b67a6baf5-0', tool_calls=[{'name': 'create_df_from_sql', 'args': {'select_query': 'SELECT * FROM customer', 'df_columns': ['customer_id', 'name'], 'df_name': 'customer_df', 'input_question': 'Get customer data'}, 'id': 'call_9f32'}]), AIMessage(content='**Critique and Recommendations**\\n\\nThe provided SQL query `SELECT * FROM customer` does not answer the question \"Graph the total number of orders of each customer. X axis of the graph has to be in ascending order.\" This query simply selects all columns from the `customer` table, which does not provide any information about the number of orders for each customer.\\n\\nTo answer the question, a more appropriate query would be:\\n```sql\\nSELECT c.name, COUNT(o.order_id) AS num_orders\\nFROM customer c\\nJOIN orders o ON c.customer_id = o.customer_id\\nGROUP BY c.name\\nORDER BY num_orders ASC;\\n```\\nHere\\'s a breakdown of the recommended query:\\n\\n1. `JOIN` the `customer` and `orders` tables on the `customer_id` column to link each customer to their respective orders.\\n2. Use `COUNT(o.order_id)` to count the number of orders for each customer.\\n3. `GROUP BY c.name` to group the results by customer name.\\n4. `ORDER BY num_orders ASC` to sort the results in ascending order by the number of orders.\\n\\n**Additional Recommendations**\\n\\n1. **Use meaningful column aliases**: Instead of using `*` to select all columns, specify the columns you need and use meaningful aliases to make the query more readable.\\n2. **Use table aliases**: Use short aliases for table names (e.g., `c` for `customer`) to make the query more concise.\\n3. **Avoid using `SELECT *`**: This can lead to performance issues and unnecessary data transfer. Instead, specify only the columns you need.\\n4. **Consider indexing**: If you plan to execute this query frequently, consider creating an index on the `customer_id` column in the `orders` table to improve performance.\\n5. **Graphing**: To create a graph, you\\'ll need to use a visualization tool or library that can consume the query results. Some popular options include Tableau, Power BI, or Python libraries like Matplotlib or Seaborn.\\n\\nBy following these recommendations, you\\'ll be able to generate a report that accurately answers the question and provides a clear visualization of the data.', response_metadata={'token_usage': {'completion_tokens': 438, 'prompt_tokens': 650, 'total_tokens': 1088, 'completion_time': 1.344148927, 'prompt_time': 0.082051143, 'queue_time': None, 'total_time': 1.42620007}, 'model_name': 'llama3-70b-8192', 'system_fingerprint': 'fp_87cbfbbc4d', 'finish_reason': 'stop', 'logprobs': None}, id='run-eda9f5ed-9c47-4ffc-8c4e-f9df5899efb4-0'), AIMessage(content='', additional_kwargs={'tool_calls': [{'id': 'call_gcmc', 'function': {'arguments': '{\"select_query\":\"SELECT c.name, COUNT(o.order_id) AS num_orders FROM customer c JOIN orders o ON c.customer_id = o.customer_id GROUP BY c.name ORDER BY num_orders ASC\",\"df_columns\":[\"name\",\"num_orders\"],\"df_name\":\"customer_orders\",\"input_question\":\"Graph the total number of orders of each customer. X axis of the graph has to be in ascending order.\"}', 'name': 'create_df_from_sql'}, 'type': 'function'}]}, response_metadata={'token_usage': {'completion_tokens': 127, 'prompt_tokens': 2059, 'total_tokens': 2186, 'completion_time': 0.388438767, 'prompt_time': 0.259526259, 'queue_time': None, 'total_time': 0.647965026}, 'model_name': 'llama3-70b-8192', 'system_fingerprint': 'fp_753a4aecf6', 'finish_reason': 'tool_calls', 'logprobs': None}, id='run-04fff3fd-3945-4a19-818a-5d68f7cb0a01-0', tool_calls=[{'name': 'create_df_from_sql', 'args': {'select_query': 'SELECT c.name, COUNT(o.order_id) AS num_orders FROM customer c JOIN orders o ON c.customer_id = o.customer_id GROUP BY c.name ORDER BY num_orders ASC', 'df_columns': ['name', 'num_orders'], 'df_name': 'customer_orders', 'input_question': 'Graph the total number of orders of each customer. X axis of the graph has to be in ascending order.'}, 'id': 'call_gcmc'}])]\n"
     ]
    }
   ],
   "execution_count": 15
  },
  {
   "metadata": {},
   "cell_type": "code",
   "outputs": [],
   "execution_count": null,
   "source": "",
   "id": "ab6970c90da3245"
  }
 ],
 "metadata": {
  "kernelspec": {
   "display_name": "Python 3",
   "language": "python",
   "name": "python3"
  },
  "language_info": {
   "codemirror_mode": {
    "name": "ipython",
    "version": 2
   },
   "file_extension": ".py",
   "mimetype": "text/x-python",
   "name": "python",
   "nbconvert_exporter": "python",
   "pygments_lexer": "ipython2",
   "version": "2.7.6"
  }
 },
 "nbformat": 4,
 "nbformat_minor": 5
}
