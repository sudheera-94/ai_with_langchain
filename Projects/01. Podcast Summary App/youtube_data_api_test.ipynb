{
 "cells": [
  {
   "cell_type": "code",
   "id": "initial_id",
   "metadata": {
    "collapsed": true,
    "ExecuteTime": {
     "end_time": "2024-08-05T11:36:50.142736Z",
     "start_time": "2024-08-05T11:36:50.126215Z"
    }
   },
   "source": [
    "import json\n",
    "import os\n",
    "\n",
    "with open('vars.json') as f:\n",
    "    data = json.load(f)\n",
    "\n",
    "openai_api_key = data[\"open_ai_api_key\"]\n",
    "langchain_api_key = data[\"langchain_api_key\"]\n",
    "# tavily_api_key = data[\"tavily_api_key\"]\n",
    "groq_api_key = data[\"groq_api_key\"]\n",
    "youtube_api_key = data[\"youtube_api_key\"]"
   ],
   "outputs": [],
   "execution_count": 1
  },
  {
   "metadata": {
    "ExecuteTime": {
     "end_time": "2024-08-05T11:36:50.905359Z",
     "start_time": "2024-08-05T11:36:50.752604Z"
    }
   },
   "cell_type": "code",
   "source": [
    "import googleapiclient.discovery\n",
    "\n",
    "def get_video_transcript(youtube_api_key, video_id):\n",
    "    # Disable OAuthlib's HTTPS verification when running locally.\n",
    "    # *DO NOT* leave this option enabled in production.\n",
    "    os.environ[\"OAUTHLIB_INSECURE_TRANSPORT\"] = \"1\"\n",
    "\n",
    "    api_service_name = \"youtube\"\n",
    "    api_version = \"v3\"\n",
    "\n",
    "    youtube = googleapiclient.discovery.build(\n",
    "        api_service_name, api_version, developerKey = youtube_api_key)\n",
    "\n",
    "    request = youtube.captions().list(\n",
    "        part=\"id,snippet\",\n",
    "        videoId=video_id\n",
    "    )\n",
    "    response = request.execute()\n",
    "\n",
    "    print(response)\n"
   ],
   "id": "94a5517ec3577188",
   "outputs": [],
   "execution_count": 2
  },
  {
   "metadata": {
    "ExecuteTime": {
     "end_time": "2024-08-05T11:38:48.127135Z",
     "start_time": "2024-08-05T11:38:46.663301Z"
    }
   },
   "cell_type": "code",
   "source": [
    "video_id = 'UPrkC1LdlLY'\n",
    "transcript = get_video_transcript(youtube_api_key, video_id)\n",
    "transcript"
   ],
   "id": "f9e28b422c72ba1d",
   "outputs": [
    {
     "name": "stdout",
     "output_type": "stream",
     "text": [
      "{'kind': 'youtube#captionListResponse', 'etag': 'WUVRFV0RyICTvdWS9Lj8-x54ZOU', 'items': [{'kind': 'youtube#caption', 'etag': 'tFjfbM6R6sUQgY61Z8qPocDxCYU', 'id': 'AUieDaZfJw3yLvZpD-YVjH74iuPja12-WN4K-I-cDdC3', 'snippet': {'videoId': 'UPrkC1LdlLY', 'lastUpdated': '2024-08-02T22:00:35.36558Z', 'trackKind': 'standard', 'language': 'pl', 'name': '', 'audioTrackType': 'unknown', 'isCC': False, 'isLarge': False, 'isEasyReader': False, 'isDraft': False, 'isAutoSynced': False, 'status': 'serving'}}, {'kind': 'youtube#caption', 'etag': 'mUVvQ1eoAjn-a9dS8zfSlVlVx8M', 'id': 'AUieDaZo4IrTtuyT-cv_Vi7OP2_xffp2dXdUfqmTHWnH', 'snippet': {'videoId': 'UPrkC1LdlLY', 'lastUpdated': '2024-08-02T23:22:12.481267Z', 'trackKind': 'standard', 'language': 'bn', 'name': '', 'audioTrackType': 'unknown', 'isCC': False, 'isLarge': False, 'isEasyReader': False, 'isDraft': False, 'isAutoSynced': False, 'status': 'serving'}}, {'kind': 'youtube#caption', 'etag': 'ctewlA7D1k504vbJuYhixyz4SVY', 'id': 'AUieDaZrOe--ewbXYMYqvuniNRvg_eGe1IcrjNVyKpOl', 'snippet': {'videoId': 'UPrkC1LdlLY', 'lastUpdated': '2024-08-02T21:59:10.944073Z', 'trackKind': 'standard', 'language': 'fr', 'name': '', 'audioTrackType': 'unknown', 'isCC': False, 'isLarge': False, 'isEasyReader': False, 'isDraft': False, 'isAutoSynced': False, 'status': 'serving'}}, {'kind': 'youtube#caption', 'etag': 'G8Ps9y9r74LfgoETs_sB1p4raRY', 'id': 'AUieDaYpBplBi0KcJipzqswJYvN9_CVX3yfBoFkUR46t', 'snippet': {'videoId': 'UPrkC1LdlLY', 'lastUpdated': '2024-08-02T23:22:35.162335Z', 'trackKind': 'standard', 'language': 'ja', 'name': '', 'audioTrackType': 'unknown', 'isCC': False, 'isLarge': False, 'isEasyReader': False, 'isDraft': False, 'isAutoSynced': False, 'status': 'serving'}}, {'kind': 'youtube#caption', 'etag': 'ZPmwZm2I6ubn6Su4gfsFhaOwQbY', 'id': 'AUieDaYq-5p9lL7oPm-fkxOoY2D6zpgxBX91T7cIiwVK', 'snippet': {'videoId': 'UPrkC1LdlLY', 'lastUpdated': '2024-08-02T21:58:16.278309Z', 'trackKind': 'standard', 'language': 'ar', 'name': '', 'audioTrackType': 'unknown', 'isCC': False, 'isLarge': False, 'isEasyReader': False, 'isDraft': False, 'isAutoSynced': False, 'status': 'serving'}}, {'kind': 'youtube#caption', 'etag': 'su-8B3KR_Jiuseai04JIA2xWeS4', 'id': 'AUieDaZe8x65E7-kfuClCLC4JfbBFjH8g5ZAa0lWb9aG', 'snippet': {'videoId': 'UPrkC1LdlLY', 'lastUpdated': '2024-08-02T22:01:30.127227Z', 'trackKind': 'standard', 'language': 'vi', 'name': '', 'audioTrackType': 'unknown', 'isCC': False, 'isLarge': False, 'isEasyReader': False, 'isDraft': False, 'isAutoSynced': False, 'status': 'serving'}}, {'kind': 'youtube#caption', 'etag': '8pYwFMJkd7Mls_oZI_7AsZoh3PA', 'id': 'AUieDabTPwJf44yknhpLarxPfzaBhC1vs5WK44dHUNyU', 'snippet': {'videoId': 'UPrkC1LdlLY', 'lastUpdated': '2024-08-02T22:00:14.670331Z', 'trackKind': 'standard', 'language': 'ko', 'name': '', 'audioTrackType': 'unknown', 'isCC': False, 'isLarge': False, 'isEasyReader': False, 'isDraft': False, 'isAutoSynced': False, 'status': 'serving'}}, {'kind': 'youtube#caption', 'etag': 'dS4vnhXzETnvZ2HPC-tRCXK-Hcw', 'id': 'AUieDaYh1N0zknGs1QnomYoQlhdqLGKIYkPpfVHgEWFu', 'snippet': {'videoId': 'UPrkC1LdlLY', 'lastUpdated': '2024-08-02T22:00:42.624809Z', 'trackKind': 'standard', 'language': 'ru', 'name': '', 'audioTrackType': 'unknown', 'isCC': False, 'isLarge': False, 'isEasyReader': False, 'isDraft': False, 'isAutoSynced': False, 'status': 'serving'}}, {'kind': 'youtube#caption', 'etag': '4l1M9P4EI7-2lY6AGLAoitXdXR8', 'id': 'AUieDaby4-ZGaviON0camG3EGa9Y4Kq5y8AWEJssejoZyRadzSI', 'snippet': {'videoId': 'UPrkC1LdlLY', 'lastUpdated': '2024-08-03T04:05:11.246916Z', 'trackKind': 'asr', 'language': 'en', 'name': '', 'audioTrackType': 'unknown', 'isCC': False, 'isLarge': False, 'isEasyReader': False, 'isDraft': False, 'isAutoSynced': False, 'status': 'serving'}}, {'kind': 'youtube#caption', 'etag': 'xC9YlhnoamDw2fSE0hRDFxvnQp4', 'id': 'AUieDaaJ23qNeZ8PWdFQf4o9nS9HQAd2Phd_ACqAGzOb', 'snippet': {'videoId': 'UPrkC1LdlLY', 'lastUpdated': '2024-08-04T18:23:59.717193Z', 'trackKind': 'standard', 'language': 'it', 'name': '', 'audioTrackType': 'unknown', 'isCC': False, 'isLarge': False, 'isEasyReader': False, 'isDraft': False, 'isAutoSynced': False, 'status': 'serving'}}, {'kind': 'youtube#caption', 'etag': 'M1A-1abBXWXiGb96gFMvOVJWeUk', 'id': 'AUieDaZc5vINu4AfKAC1aOy6cvQhcHvRnApjE4Xj9qn8', 'snippet': {'videoId': 'UPrkC1LdlLY', 'lastUpdated': '2024-08-02T21:59:18.960428Z', 'trackKind': 'standard', 'language': 'hi', 'name': '', 'audioTrackType': 'unknown', 'isCC': False, 'isLarge': False, 'isEasyReader': False, 'isDraft': False, 'isAutoSynced': False, 'status': 'serving'}}, {'kind': 'youtube#caption', 'etag': 'fpMEqhQIliVvrW-Q8INT6o4V0g8', 'id': 'AUieDaYNI4fcErq0pRg_lM5-ZOmnrjA6ajeyEamPmb_K3kjgBso', 'snippet': {'videoId': 'UPrkC1LdlLY', 'lastUpdated': '2024-08-02T22:02:02.99919Z', 'trackKind': 'standard', 'language': 'zh-Hans', 'name': '', 'audioTrackType': 'unknown', 'isCC': False, 'isLarge': False, 'isEasyReader': False, 'isDraft': False, 'isAutoSynced': False, 'status': 'serving'}}, {'kind': 'youtube#caption', 'etag': 'mg0JjHA0ywJ-OXDnKSkbMN2fBQY', 'id': 'AUieDaZV9W6UCMmWPOkcGlZIK_Wy5GsLPkoZhQyRiSXc', 'snippet': {'videoId': 'UPrkC1LdlLY', 'lastUpdated': '2024-08-02T22:00:50.574789Z', 'trackKind': 'standard', 'language': 'en', 'name': '', 'audioTrackType': 'unknown', 'isCC': False, 'isLarge': False, 'isEasyReader': False, 'isDraft': False, 'isAutoSynced': False, 'status': 'serving'}}, {'kind': 'youtube#caption', 'etag': 'Vf57ed_QNoZDhZE-w2zalnjmQVs', 'id': 'AUieDaYiBX6yZBGw9w96QE7a43QjgOhRwL9_4GX8RBwp', 'snippet': {'videoId': 'UPrkC1LdlLY', 'lastUpdated': '2024-08-02T22:01:12.981875Z', 'trackKind': 'standard', 'language': 'th', 'name': '', 'audioTrackType': 'unknown', 'isCC': False, 'isLarge': False, 'isEasyReader': False, 'isDraft': False, 'isAutoSynced': False, 'status': 'serving'}}, {'kind': 'youtube#caption', 'etag': '5EFmxvSsQKWxWjocS-7bKWeXn2g', 'id': 'AUieDaayMUJP_lwXrSPj9zLZ2kHcEBaOsyAn_Go3Bb07', 'snippet': {'videoId': 'UPrkC1LdlLY', 'lastUpdated': '2024-08-02T22:00:25.158438Z', 'trackKind': 'standard', 'language': 'pt', 'name': '', 'audioTrackType': 'unknown', 'isCC': False, 'isLarge': False, 'isEasyReader': False, 'isDraft': False, 'isAutoSynced': False, 'status': 'serving'}}, {'kind': 'youtube#caption', 'etag': 'EIS2E_MlNAfJUn3Vyht3uh5MSPI', 'id': 'AUieDaYMJoPRsHF0K-sBiXeFiqf9FwqdSZAy6_NL9vxE', 'snippet': {'videoId': 'UPrkC1LdlLY', 'lastUpdated': '2024-08-02T22:01:02.756285Z', 'trackKind': 'standard', 'language': 'es', 'name': '', 'audioTrackType': 'unknown', 'isCC': False, 'isLarge': False, 'isEasyReader': False, 'isDraft': False, 'isAutoSynced': False, 'status': 'serving'}}, {'kind': 'youtube#caption', 'etag': 'fPCJ-wxj273-H-2-HD3F32o_6Zc', 'id': 'AUieDaa4Vy6NrHkzHnnHmNOTBxauuaGzi5kGmJv_aTLo', 'snippet': {'videoId': 'UPrkC1LdlLY', 'lastUpdated': '2024-08-02T21:59:25.444972Z', 'trackKind': 'standard', 'language': 'id', 'name': '', 'audioTrackType': 'unknown', 'isCC': False, 'isLarge': False, 'isEasyReader': False, 'isDraft': False, 'isAutoSynced': False, 'status': 'serving'}}, {'kind': 'youtube#caption', 'etag': 'G6H-t5LDr9zDHYe8RqXSh4faZtY', 'id': 'AUieDaYBb45njR1_XqZ47lXJ3dLUy9j9FdZzEOq9Yolf', 'snippet': {'videoId': 'UPrkC1LdlLY', 'lastUpdated': '2024-08-02T22:01:22.480176Z', 'trackKind': 'standard', 'language': 'tr', 'name': '', 'audioTrackType': 'unknown', 'isCC': False, 'isLarge': False, 'isEasyReader': False, 'isDraft': False, 'isAutoSynced': False, 'status': 'serving'}}]}\n"
     ]
    }
   ],
   "execution_count": 5
  },
  {
   "metadata": {},
   "cell_type": "code",
   "outputs": [],
   "execution_count": null,
   "source": "",
   "id": "5e601387e0c59b37"
  }
 ],
 "metadata": {
  "kernelspec": {
   "display_name": "Python 3",
   "language": "python",
   "name": "python3"
  },
  "language_info": {
   "codemirror_mode": {
    "name": "ipython",
    "version": 2
   },
   "file_extension": ".py",
   "mimetype": "text/x-python",
   "name": "python",
   "nbconvert_exporter": "python",
   "pygments_lexer": "ipython2",
   "version": "2.7.6"
  }
 },
 "nbformat": 4,
 "nbformat_minor": 5
}
